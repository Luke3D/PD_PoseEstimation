{
 "cells": [
  {
   "cell_type": "markdown",
   "metadata": {},
   "source": [
    "## TODO: Add shoulders and hips to error calculation"
   ]
  },
  {
   "cell_type": "code",
   "execution_count": 9,
   "metadata": {},
   "outputs": [],
   "source": [
    "import HelperFcns\n",
    "import pandas as pd\n",
    "import numpy as np\n",
    "import json, itertools\n",
    "import itertools\n",
    "\n",
    "import os,sys,inspect\n",
    "currentdir = os.path.dirname(os.path.abspath(inspect.getfile(inspect.currentframe())))\n",
    "parentdir = os.path.dirname(currentdir)\n",
    "sys.path.insert(0,parentdir) \n",
    "\n",
    "from RTOUtil.general import *"
   ]
  },
  {
   "cell_type": "code",
   "execution_count": 2,
   "metadata": {},
   "outputs": [],
   "source": [
    "BoxPath = Path(setLocalPath('BoxPath'))\n",
    "KyleLabel = BoxPath/'Metadata'/'CISPD - Video Summary.xlsx'\n",
    "jsonPath = BoxPath/'OpenPose'/'outputKE'"
   ]
  },
  {
   "cell_type": "code",
   "execution_count": 3,
   "metadata": {},
   "outputs": [
    {
     "data": {
      "text/plain": [
       "PosixPath('/Users/nicholasshawen/Box/CISPD_Videos_proc/Metadata/CISPD - Video Summary.xlsx')"
      ]
     },
     "execution_count": 3,
     "metadata": {},
     "output_type": "execute_result"
    }
   ],
   "source": [
    "KyleLabel"
   ]
  },
  {
   "cell_type": "code",
   "execution_count": 427,
   "metadata": {},
   "outputs": [
    {
     "data": {
      "text/html": [
       "<div>\n",
       "<style scoped>\n",
       "    .dataframe tbody tr th:only-of-type {\n",
       "        vertical-align: middle;\n",
       "    }\n",
       "\n",
       "    .dataframe tbody tr th {\n",
       "        vertical-align: top;\n",
       "    }\n",
       "\n",
       "    .dataframe thead th {\n",
       "        text-align: right;\n",
       "    }\n",
       "</style>\n",
       "<table border=\"1\" class=\"dataframe\">\n",
       "  <thead>\n",
       "    <tr style=\"text-align: right;\">\n",
       "      <th></th>\n",
       "      <th>subject number</th>\n",
       "      <th>filename</th>\n",
       "      <th>original file order</th>\n",
       "      <th>Pose video exists</th>\n",
       "      <th>total number of people visible</th>\n",
       "      <th>people with more than 1/2 torso or face in frame at any time</th>\n",
       "      <th>subject stance</th>\n",
       "      <th>perspective</th>\n",
       "      <th>where is subject torso is relative to frame</th>\n",
       "      <th>subject torso relative to other people in frame</th>\n",
       "      <th>this body part and up are in frame</th>\n",
       "      <th>body part obstructed</th>\n",
       "      <th>obstructed by what?</th>\n",
       "      <th>lots of camera movement</th>\n",
       "      <th>notes</th>\n",
       "      <th>tracking quality (confidence)</th>\n",
       "    </tr>\n",
       "  </thead>\n",
       "  <tbody>\n",
       "    <tr>\n",
       "      <th>0</th>\n",
       "      <td>1003</td>\n",
       "      <td>FtnL_1</td>\n",
       "      <td>1</td>\n",
       "      <td>0</td>\n",
       "      <td>3</td>\n",
       "      <td>3</td>\n",
       "      <td>seated</td>\n",
       "      <td>right</td>\n",
       "      <td>left</td>\n",
       "      <td>leftmost</td>\n",
       "      <td>above hips</td>\n",
       "      <td>shoulder</td>\n",
       "      <td>door</td>\n",
       "      <td>NaN</td>\n",
       "      <td>NaN</td>\n",
       "      <td>NaN</td>\n",
       "    </tr>\n",
       "    <tr>\n",
       "      <th>1</th>\n",
       "      <td>1003</td>\n",
       "      <td>FtnL_3</td>\n",
       "      <td>2</td>\n",
       "      <td>0</td>\n",
       "      <td>2</td>\n",
       "      <td>1</td>\n",
       "      <td>seated</td>\n",
       "      <td>right</td>\n",
       "      <td>left</td>\n",
       "      <td>leftmost</td>\n",
       "      <td>above hips</td>\n",
       "      <td>NaN</td>\n",
       "      <td>NaN</td>\n",
       "      <td>NaN</td>\n",
       "      <td>slight frontal view</td>\n",
       "      <td>NaN</td>\n",
       "    </tr>\n",
       "    <tr>\n",
       "      <th>2</th>\n",
       "      <td>1003</td>\n",
       "      <td>FtnR_1</td>\n",
       "      <td>3</td>\n",
       "      <td>0</td>\n",
       "      <td>3</td>\n",
       "      <td>3</td>\n",
       "      <td>seated</td>\n",
       "      <td>right</td>\n",
       "      <td>left</td>\n",
       "      <td>leftmost</td>\n",
       "      <td>above hips</td>\n",
       "      <td>shoulder</td>\n",
       "      <td>door</td>\n",
       "      <td>NaN</td>\n",
       "      <td>NaN</td>\n",
       "      <td>NaN</td>\n",
       "    </tr>\n",
       "    <tr>\n",
       "      <th>3</th>\n",
       "      <td>1003</td>\n",
       "      <td>FtnR_3</td>\n",
       "      <td>4</td>\n",
       "      <td>0</td>\n",
       "      <td>3</td>\n",
       "      <td>3</td>\n",
       "      <td>seated</td>\n",
       "      <td>right</td>\n",
       "      <td>left</td>\n",
       "      <td>leftmost</td>\n",
       "      <td>above hips</td>\n",
       "      <td>shoulder</td>\n",
       "      <td>door</td>\n",
       "      <td>NaN</td>\n",
       "      <td>NaN</td>\n",
       "      <td>NaN</td>\n",
       "    </tr>\n",
       "    <tr>\n",
       "      <th>4</th>\n",
       "      <td>1003</td>\n",
       "      <td>RamL_1</td>\n",
       "      <td>5</td>\n",
       "      <td>0</td>\n",
       "      <td>1</td>\n",
       "      <td>1</td>\n",
       "      <td>seated</td>\n",
       "      <td>front/right</td>\n",
       "      <td>center</td>\n",
       "      <td>only</td>\n",
       "      <td>above knees</td>\n",
       "      <td>NaN</td>\n",
       "      <td>NaN</td>\n",
       "      <td>NaN</td>\n",
       "      <td>NaN</td>\n",
       "      <td>NaN</td>\n",
       "    </tr>\n",
       "  </tbody>\n",
       "</table>\n",
       "</div>"
      ],
      "text/plain": [
       "   subject number filename  original file order  Pose video exists  \\\n",
       "0            1003   FtnL_1                    1                  0   \n",
       "1            1003   FtnL_3                    2                  0   \n",
       "2            1003   FtnR_1                    3                  0   \n",
       "3            1003   FtnR_3                    4                  0   \n",
       "4            1003   RamL_1                    5                  0   \n",
       "\n",
       "   total number of people visible  \\\n",
       "0                               3   \n",
       "1                               2   \n",
       "2                               3   \n",
       "3                               3   \n",
       "4                               1   \n",
       "\n",
       "   people with more than 1/2 torso or face in frame at any time  \\\n",
       "0                                                  3              \n",
       "1                                                  1              \n",
       "2                                                  3              \n",
       "3                                                  3              \n",
       "4                                                  1              \n",
       "\n",
       "  subject stance  perspective where is subject torso is relative to frame  \\\n",
       "0         seated        right                                        left   \n",
       "1         seated        right                                        left   \n",
       "2         seated        right                                        left   \n",
       "3         seated        right                                        left   \n",
       "4         seated  front/right                                      center   \n",
       "\n",
       "  subject torso relative to other people in frame  \\\n",
       "0                                        leftmost   \n",
       "1                                        leftmost   \n",
       "2                                        leftmost   \n",
       "3                                        leftmost   \n",
       "4                                            only   \n",
       "\n",
       "  this body part and up are in frame body part obstructed obstructed by what?  \\\n",
       "0                         above hips             shoulder                door   \n",
       "1                         above hips                  NaN                 NaN   \n",
       "2                         above hips            shoulder                 door   \n",
       "3                         above hips             shoulder                door   \n",
       "4                        above knees                  NaN                 NaN   \n",
       "\n",
       "  lots of camera movement                notes  tracking quality (confidence)  \n",
       "0                     NaN                  NaN                            NaN  \n",
       "1                     NaN  slight frontal view                            NaN  \n",
       "2                     NaN                  NaN                            NaN  \n",
       "3                     NaN                  NaN                            NaN  \n",
       "4                     NaN                  NaN                            NaN  "
      ]
     },
     "execution_count": 427,
     "metadata": {},
     "output_type": "execute_result"
    }
   ],
   "source": [
    "KL = pd.read_excel(KyleLabel,skiprows=1)\n",
    "KL.head()"
   ]
  },
  {
   "cell_type": "code",
   "execution_count": 436,
   "metadata": {},
   "outputs": [
    {
     "data": {
      "text/html": [
       "<div>\n",
       "<style scoped>\n",
       "    .dataframe tbody tr th:only-of-type {\n",
       "        vertical-align: middle;\n",
       "    }\n",
       "\n",
       "    .dataframe tbody tr th {\n",
       "        vertical-align: top;\n",
       "    }\n",
       "\n",
       "    .dataframe thead th {\n",
       "        text-align: right;\n",
       "    }\n",
       "</style>\n",
       "<table border=\"1\" class=\"dataframe\">\n",
       "  <thead>\n",
       "    <tr style=\"text-align: right;\">\n",
       "      <th></th>\n",
       "      <th>subject number</th>\n",
       "      <th>filename</th>\n",
       "      <th>original file order</th>\n",
       "      <th>Pose video exists</th>\n",
       "      <th>total number of people visible</th>\n",
       "      <th>people with more than 1/2 torso or face in frame at any time</th>\n",
       "      <th>subject stance</th>\n",
       "      <th>perspective</th>\n",
       "      <th>where is subject torso is relative to frame</th>\n",
       "      <th>subject torso relative to other people in frame</th>\n",
       "      <th>this body part and up are in frame</th>\n",
       "      <th>body part obstructed</th>\n",
       "      <th>obstructed by what?</th>\n",
       "      <th>lots of camera movement</th>\n",
       "      <th>notes</th>\n",
       "      <th>tracking quality (confidence)</th>\n",
       "    </tr>\n",
       "  </thead>\n",
       "  <tbody>\n",
       "    <tr>\n",
       "      <th>8</th>\n",
       "      <td>1004</td>\n",
       "      <td>FtnL_1</td>\n",
       "      <td>9</td>\n",
       "      <td>1</td>\n",
       "      <td>4</td>\n",
       "      <td>1</td>\n",
       "      <td>seated</td>\n",
       "      <td>front/right</td>\n",
       "      <td>center</td>\n",
       "      <td>leftmost</td>\n",
       "      <td>whole body</td>\n",
       "      <td>NaN</td>\n",
       "      <td>NaN</td>\n",
       "      <td>NaN</td>\n",
       "      <td>this subject: low res and vertical</td>\n",
       "      <td>NaN</td>\n",
       "    </tr>\n",
       "    <tr>\n",
       "      <th>9</th>\n",
       "      <td>1004</td>\n",
       "      <td>FtnL_3</td>\n",
       "      <td>10</td>\n",
       "      <td>1</td>\n",
       "      <td>4</td>\n",
       "      <td>2</td>\n",
       "      <td>seated</td>\n",
       "      <td>front/right</td>\n",
       "      <td>center</td>\n",
       "      <td>leftmost</td>\n",
       "      <td>whole body</td>\n",
       "      <td>NaN</td>\n",
       "      <td>NaN</td>\n",
       "      <td>yes</td>\n",
       "      <td>NaN</td>\n",
       "      <td>NaN</td>\n",
       "    </tr>\n",
       "    <tr>\n",
       "      <th>10</th>\n",
       "      <td>1004</td>\n",
       "      <td>FtnR_1</td>\n",
       "      <td>11</td>\n",
       "      <td>1</td>\n",
       "      <td>4</td>\n",
       "      <td>1</td>\n",
       "      <td>seated</td>\n",
       "      <td>front/right</td>\n",
       "      <td>center</td>\n",
       "      <td>leftmost</td>\n",
       "      <td>whole body</td>\n",
       "      <td>knees</td>\n",
       "      <td>clinician</td>\n",
       "      <td>NaN</td>\n",
       "      <td>NaN</td>\n",
       "      <td>NaN</td>\n",
       "    </tr>\n",
       "    <tr>\n",
       "      <th>11</th>\n",
       "      <td>1004</td>\n",
       "      <td>FtnR_3</td>\n",
       "      <td>12</td>\n",
       "      <td>1</td>\n",
       "      <td>6</td>\n",
       "      <td>4</td>\n",
       "      <td>seated</td>\n",
       "      <td>front/right</td>\n",
       "      <td>left</td>\n",
       "      <td>leftmost</td>\n",
       "      <td>whole body</td>\n",
       "      <td>NaN</td>\n",
       "      <td>NaN</td>\n",
       "      <td>yes</td>\n",
       "      <td>We have an example plot showing bad tracking t...</td>\n",
       "      <td>NaN</td>\n",
       "    </tr>\n",
       "    <tr>\n",
       "      <th>13</th>\n",
       "      <td>1004</td>\n",
       "      <td>RamL_3</td>\n",
       "      <td>14</td>\n",
       "      <td>1</td>\n",
       "      <td>4</td>\n",
       "      <td>2</td>\n",
       "      <td>seated</td>\n",
       "      <td>front/right</td>\n",
       "      <td>left</td>\n",
       "      <td>leftmost</td>\n",
       "      <td>whole body</td>\n",
       "      <td>NaN</td>\n",
       "      <td>NaN</td>\n",
       "      <td>NaN</td>\n",
       "      <td>NaN</td>\n",
       "      <td>NaN</td>\n",
       "    </tr>\n",
       "  </tbody>\n",
       "</table>\n",
       "</div>"
      ],
      "text/plain": [
       "    subject number filename  original file order  Pose video exists  \\\n",
       "8             1004   FtnL_1                    9                  1   \n",
       "9             1004   FtnL_3                   10                  1   \n",
       "10            1004   FtnR_1                   11                  1   \n",
       "11            1004   FtnR_3                   12                  1   \n",
       "13            1004   RamL_3                   14                  1   \n",
       "\n",
       "    total number of people visible  \\\n",
       "8                                4   \n",
       "9                                4   \n",
       "10                               4   \n",
       "11                               6   \n",
       "13                               4   \n",
       "\n",
       "    people with more than 1/2 torso or face in frame at any time  \\\n",
       "8                                                   1              \n",
       "9                                                   2              \n",
       "10                                                  1              \n",
       "11                                                  4              \n",
       "13                                                  2              \n",
       "\n",
       "   subject stance  perspective where is subject torso is relative to frame  \\\n",
       "8          seated  front/right                                      center   \n",
       "9          seated  front/right                                      center   \n",
       "10         seated  front/right                                      center   \n",
       "11         seated  front/right                                        left   \n",
       "13         seated  front/right                                        left   \n",
       "\n",
       "   subject torso relative to other people in frame  \\\n",
       "8                                         leftmost   \n",
       "9                                         leftmost   \n",
       "10                                        leftmost   \n",
       "11                                        leftmost   \n",
       "13                                        leftmost   \n",
       "\n",
       "   this body part and up are in frame body part obstructed  \\\n",
       "8                          whole body                  NaN   \n",
       "9                          whole body                  NaN   \n",
       "10                         whole body                knees   \n",
       "11                         whole body                  NaN   \n",
       "13                         whole body                  NaN   \n",
       "\n",
       "   obstructed by what? lots of camera movement  \\\n",
       "8                  NaN                     NaN   \n",
       "9                  NaN                     yes   \n",
       "10           clinician                     NaN   \n",
       "11                 NaN                     yes   \n",
       "13                 NaN                     NaN   \n",
       "\n",
       "                                                notes  \\\n",
       "8                 this subject: low res and vertical    \n",
       "9                                                 NaN   \n",
       "10                                                NaN   \n",
       "11  We have an example plot showing bad tracking t...   \n",
       "13                                                NaN   \n",
       "\n",
       "    tracking quality (confidence)  \n",
       "8                             NaN  \n",
       "9                             NaN  \n",
       "10                            NaN  \n",
       "11                            NaN  \n",
       "13                            NaN  "
      ]
     },
     "execution_count": 436,
     "metadata": {},
     "output_type": "execute_result"
    }
   ],
   "source": [
    "KL[KL.iloc[:,4]>3]"
   ]
  },
  {
   "cell_type": "code",
   "execution_count": 750,
   "metadata": {},
   "outputs": [
    {
     "data": {
      "text/plain": [
       "array(['FtnL_1', 'FtnL_3', 'FtnR_1', 'FtnR_3', 'RamL_1', 'RamL_3',\n",
       "       'RamR_1', 'RamR_3', 'FtnL_2', 'FtnR_2', 'RamL_2', 'RamR_2',\n",
       "       'FtnL_4', 'FtnR_4', 'RamL_4', 'RamR_4', 'RmL_2'], dtype=object)"
      ]
     },
     "execution_count": 750,
     "metadata": {},
     "output_type": "execute_result"
    }
   ],
   "source": [
    "KL.iloc[:,1].unique()"
   ]
  },
  {
   "cell_type": "code",
   "execution_count": 432,
   "metadata": {},
   "outputs": [],
   "source": [
    "PatLocCol = KL.columns[8]\n",
    "PatRelCol = KL.columns[9]"
   ]
  },
  {
   "cell_type": "code",
   "execution_count": 431,
   "metadata": {},
   "outputs": [
    {
     "data": {
      "text/plain": [
       "array(['left', 'center', 'center ', 'right'], dtype=object)"
      ]
     },
     "execution_count": 431,
     "metadata": {},
     "output_type": "execute_result"
    }
   ],
   "source": [
    "KL[PatLocCol].unique()"
   ]
  },
  {
   "cell_type": "code",
   "execution_count": 433,
   "metadata": {},
   "outputs": [
    {
     "data": {
      "text/plain": [
       "array(['leftmost', 'only', 'rightmost', 'center'], dtype=object)"
      ]
     },
     "execution_count": 433,
     "metadata": {},
     "output_type": "execute_result"
    }
   ],
   "source": [
    "KL[PatRelCol].unique()"
   ]
  },
  {
   "cell_type": "code",
   "execution_count": 5,
   "metadata": {},
   "outputs": [],
   "source": [
    "def DataParser(D, subj, task, cycle):\n",
    "    if 'pose_keypoints_2d' in D.keys():\n",
    "        pose = D['pose_keypoints_2d']\n",
    "        pose_hand_L = D['hand_left_keypoints_2d']\n",
    "        pose_hand_R = D['hand_right_keypoints_2d']\n",
    "        d = {'SubjID':subj, 'Task':task, 'cycle':cycle,\n",
    "                 'elbR_x':pose[9], 'elbR_y':pose[10], 'elbR_c':pose[11], 'wriR_x':pose[12], 'wriR_y':pose[13], 'wriR_c':pose[14],\n",
    "                 'elbL_x':pose[18], 'elbL_y':pose[19], 'elbL_c':pose[20], 'wriL_x':pose[21], 'wriL_y':pose[22], 'wriL_c':pose[23],\n",
    "                 'nose_x':pose[0], 'nose_y':pose[1], 'nose_c':pose[2], 'neck_x':pose[3], 'neck_y':pose[4], 'neck_c':pose[5],\n",
    "                 'midHip_x':pose[24], 'midHip_y':pose[25], 'midHip_c':pose[26],\n",
    "                 'thumbR_x':pose_hand_R[12], 'thumbR_y':pose_hand_R[13], 'thumbR_c':pose_hand_R[14],\n",
    "                 'indexR_x':pose_hand_R[24], 'indexR_y':pose_hand_R[25], 'indexR_c':pose_hand_R[26],\n",
    "                 'midR_x':pose_hand_R[36], 'midR_y':pose_hand_R[37], 'midR_c':pose_hand_R[38],\n",
    "                 'ringR_x':pose_hand_R[48], 'ringR_y':pose_hand_R[49], 'ringR_c':pose_hand_R[50],\n",
    "                 'pinkyR_x':pose_hand_R[60], 'pinkyR_y':pose_hand_R[61], 'pinkyR_c':pose_hand_R[62],\n",
    "                 'thumbL_x':pose_hand_L[12], 'thumbL_y':pose_hand_L[13], 'thumbL_c':pose_hand_L[14],\n",
    "                 'indexL_x':pose_hand_L[24], 'indexL_y':pose_hand_L[25], 'indexL_c':pose_hand_L[26],\n",
    "                 'midL_x':pose_hand_L[36], 'midL_y':pose_hand_L[37], 'midL_c':pose_hand_L[38],\n",
    "                 'ringL_x':pose_hand_L[48], 'ringL_y':pose_hand_L[49], 'ringL_c':pose_hand_L[50],\n",
    "                 'pinkyL_x':pose_hand_L[60], 'pinkyL_y':pose_hand_L[61], 'pinkyL_c':pose_hand_L[62]}\n",
    "        \n",
    "        for k in [k for k in d.keys() if k.find('_c')==-1]:\n",
    "            if d[k]==0:\n",
    "                d[k]=np.nan\n",
    "        \n",
    "        return d\n",
    "    else:\n",
    "        return D"
   ]
  },
  {
   "cell_type": "code",
   "execution_count": 417,
   "metadata": {},
   "outputs": [],
   "source": [
    "def CheckDist(new,old,columns):\n",
    "    \n",
    "    if len(new)>len(old):\n",
    "        oldIDs = old.PersonID.values\n",
    "        matchIDs = []\n",
    "        newIDs = list(new.PersonID.values)\n",
    "        for old_row in old.iterrows():\n",
    "\n",
    "            dist = []\n",
    "            for new_row in new.iterrows():\n",
    "\n",
    "                diff = new_row[1].loc[columns]-old_row[1].loc[columns]\n",
    "                if not diff.isnull().all():\n",
    "                    dist.append(np.nanmean(diff.astype('float64').values**2))\n",
    "                else:\n",
    "                    dist.append(np.nan)\n",
    "\n",
    "            matchID = np.nanargmin(dist)\n",
    "            matchIDs.append(matchID)\n",
    "\n",
    "        for match, old in zip(matchIDs,oldIDs):\n",
    "            newIDs[match]=old\n",
    "\n",
    "        count=0\n",
    "        for i in range(len(newIDs)):\n",
    "            if i not in matchIDs:\n",
    "                count+=1\n",
    "                newIDs[i] = max(oldIDs)+count\n",
    "    \n",
    "    else:\n",
    "        oldIDs = old.PersonID.values\n",
    "        newIDs = []\n",
    "        for new_row in new.iterrows():\n",
    "\n",
    "            dist = []\n",
    "            for old_row in old.iterrows():\n",
    "\n",
    "                diff = new_row[1].loc[columns]-old_row[1].loc[columns]\n",
    "                if not diff.isnull().all():\n",
    "                    dist.append(np.nanmean(diff.astype('float64').values**2))\n",
    "                else:\n",
    "                    dist.append(np.nan)\n",
    "\n",
    "#             print(dist)\n",
    "            if all(np.isnan(dist)):\n",
    "                newID = -1\n",
    "            else:\n",
    "                newID = oldIDs[np.nanargmin(dist)]\n",
    "            newIDs.append(newID)\n",
    "    \n",
    "    return newIDs\n",
    "    "
   ]
  },
  {
   "cell_type": "code",
   "execution_count": 775,
   "metadata": {},
   "outputs": [],
   "source": [
    "def SimpPerson(Persons):\n",
    "    \n",
    "    DC = [c for c in Persons.columns if c.find('_')>-1] # data columns\n",
    "    LC_x = [c for c in DC if (c.find('_x')>-1)] #location columns\n",
    "    LC_y = [c for c in DC if (c.find('_y')>-1)] #location columns\n",
    "\n",
    "    stop = False\n",
    "    while not stop:\n",
    "        dist = {}\n",
    "        for i,j in itertools.combinations(Persons.index.values,2):\n",
    "            rowI = Persons.loc[i,:]\n",
    "            rowJ = Persons.loc[j,:]\n",
    "            if ((~rowI.loc[LC_x+LC_y].isnull()) & (~rowJ.loc[LC_x+LC_y].isnull())).any():\n",
    "                 continue\n",
    "\n",
    "#             print(rowI.loc[LC_x],rowJ.loc[LC_x])\n",
    "            d = abs(np.nanmean(rowI.loc[LC_x].values)-np.nanmean(rowJ.loc[LC_x].values))\n",
    "            d += abs(np.nanmean(rowI.loc[LC_y].values)-np.nanmean(rowJ.loc[LC_y].values))\n",
    "            dist[d] = (i,j)\n",
    "\n",
    "        usedInd = []\n",
    "        for d in sorted(dist.keys()):\n",
    "\n",
    "            i,j = dist[d]\n",
    "            if (i not in usedInd) and (j not in usedInd):\n",
    "\n",
    "                Persons.loc[i,DC] = np.nansum([Persons.loc[i,:].loc[DC].values,Persons.loc[j,:].loc[DC].values],axis=0)\n",
    "                Persons.drop(index=[j],inplace=True)\n",
    "                usedInd+=[i,j]\n",
    "\n",
    "        if len(dist.keys())==0:\n",
    "            stop=True\n",
    "\n",
    "        Persons.loc[:,LC_x+LC_y] = Persons.loc[:,LC_x+LC_y].replace(0,np.nan)\n",
    "        Persons.reset_index(inplace=True,drop=True)"
   ]
  },
  {
   "cell_type": "code",
   "execution_count": 781,
   "metadata": {},
   "outputs": [],
   "source": [
    "def CheckOverlap(Persons):\n",
    "    \n",
    "    DC = [c for c in Persons.columns if c.find('_')>-1] # data columns\n",
    "    LC = [c for c in DC if (c.find('_x')>-1) or (c.find('_y')>-1)]\n",
    "    LC_x = [c for c in DC if c in ['nose_x','neck_x','midHip_x']] #location columns\n",
    "    LC_y = [c for c in DC if c in ['nose_y','neck_y','midHip_y']] #location columns\n",
    "    \n",
    "    dist = {}\n",
    "    for i,j in itertools.combinations(Persons.index.values,2):\n",
    "        rowI = Persons.loc[i,:]\n",
    "        rowJ = Persons.loc[j,:]\n",
    "        if rowI.loc[LC_x+LC_y].isnull().all() | rowJ.loc[LC_x+LC_y].isnull().all():\n",
    "             continue\n",
    "\n",
    "        d = abs(np.nanmean(rowI.loc[LC_x].values)-np.nanmean(rowJ.loc[LC_x].values))\n",
    "        d += abs(np.nanmean(rowI.loc[LC_y].values)-np.nanmean(rowJ.loc[LC_y].values))\n",
    "        dist[d] = (i,j)\n",
    "       \n",
    "    usedInd = []\n",
    "    for d in sorted(dist.keys()):\n",
    "        if (d<100) and (i not in usedInd) and (j not in usedInd):\n",
    "            i,j = dist[d]\n",
    "            \n",
    "            shared = [c for c in LC if (not np.isnan(Persons.loc[i,c])) and (not np.isnan(Persons.loc[j,c]))]\n",
    "            shared += [stem+'_c' for stem in np.unique([c.split('_')[0] for c in shared])]\n",
    "            unshared = [c for c in DC if c not in shared]\n",
    "            \n",
    "            Persons.loc[i,shared] = np.nanmean([Persons.loc[i,shared].values,Persons.loc[j,shared].values],axis=0)\n",
    "            Persons.loc[i,unshared] = np.nansum([Persons.loc[i,unshared].values,Persons.loc[j,unshared].values],axis=0)\n",
    "            Persons.drop(index=[j],inplace=True)\n",
    "            Persons.loc[:,LC_x+LC_y].replace(np.float(0),np.nan,inplace=True)\n",
    "            usedInd+=[i,j]\n",
    "            "
   ]
  },
  {
   "cell_type": "code",
   "execution_count": 460,
   "metadata": {},
   "outputs": [],
   "source": [
    "def getPID(df,absLoc,relLoc):\n",
    "    \n",
    "    centers_x = []\n",
    "    centers_y = []\n",
    "    IDs = [v for v in df.PersonID.unique() if v>=0]\n",
    "    for ID in IDs:\n",
    "        centers_x.append(np.nanmean(df[df.PersonID==ID].loc[:,['nose_x','neck_x','midHip_x']]))\n",
    "        centers_y.append(np.nanmean(df[df.PersonID==ID].loc[:,['nose_y','neck_y','midHip_y']]))\n",
    "        \n",
    "    if relLoc=='leftmost':\n",
    "        PID = np.argmin(centers_x)\n",
    "    elif relLoc=='rightmost':\n",
    "        PID = np.argmax(centers_x)\n",
    "    else:\n",
    "        PID = np.argmin((np.array(centers_x)-np.median(centers_x))**2)\n",
    "    \n",
    "    PID = IDs[PID]\n",
    "    \n",
    "    return PID"
   ]
  },
  {
   "cell_type": "code",
   "execution_count": null,
   "metadata": {},
   "outputs": [],
   "source": []
  },
  {
   "cell_type": "code",
   "execution_count": 860,
   "metadata": {
    "scrolled": true
   },
   "outputs": [
    {
     "name": "stdout",
     "output_type": "stream",
     "text": [
      "1056 FtnL 1\n",
      "1056 FtnL 2\n",
      "1056 FtnR 1\n",
      "Load Failure\n",
      "Load Failure\n",
      "Load Failure\n",
      "1056 FtnR 2\n",
      "1056 RamL 1\n",
      "179 2\n",
      "Load Failure\n",
      "Load Failure\n",
      "Fail 189\n",
      "1056 RamL 2\n",
      "57 2\n",
      "Fail 267\n",
      "1056 RamR 1\n",
      "522 2\n",
      "1056 RamR 2\n",
      "80 2\n",
      "Load Failure\n",
      "Load Failure\n",
      "Fail 250\n"
     ]
    }
   ],
   "source": [
    "# columns for matching personIDs by minimizing frame-to-frame location change\n",
    "EColumns = ['neck','midHip','nose']#,'elbR','elbL','wriL','wriR']\n",
    "EColumns = [l for l in itertools.chain.from_iterable([[c+'_x',c+'_y'] for c in EColumns])]\n",
    "\n",
    "S = os.listdir(jsonPath)\n",
    "for subj in S[27:]:\n",
    "    F = os.listdir(jsonPath/subj)\n",
    "    T = list(np.unique([f.split('_')[0] for f in F]))\n",
    "    for task in T:\n",
    "        if task[0] not in ['F','R']:\n",
    "            continue\n",
    "        F_t = [f for f in F if f.find(task)>-1]\n",
    "        C = list(np.unique([f.split('_')[1] for f in F_t]))\n",
    "        for cycle in C:\n",
    "            F_tc = [f for f in F_t if f.split('_')[1]==cycle]\n",
    "            prevFrame = None\n",
    "            print(subj,task,cycle)\n",
    "            df = pd.DataFrame()\n",
    "            for file in F_tc[:]:\n",
    "                frame = int(file.split('_')[2])\n",
    "                \n",
    "                # seems to randomly fail to load files due to poor connection\n",
    "                # catch these errors and try again until successful\n",
    "                loaded = False\n",
    "                while not loaded:\n",
    "                    try:\n",
    "                        with  open(jsonPath/subj/file,'r') as f:\n",
    "                            data = json.load(f,object_hook=lambda x: DataParser(x,subj,task,cycle))['people']\n",
    "                    except(TypeError):\n",
    "                        print('Load Failure')\n",
    "                        continue\n",
    "                    except(OSError):\n",
    "                        print('Load Failure')\n",
    "                        continue\n",
    "                    loaded = True\n",
    "                    \n",
    "                data = pd.DataFrame(data)\n",
    "                LC = [c for c in data.columns if (c.find('_x')>-1) or (c.find('_x')>-1)]\n",
    "                data.drop(index = data[data.loc[:,LC].isnull().all(axis=1)].index,inplace=True)\n",
    "                data['PersonID'] = data.index.values\n",
    "                data['FrameID'] = frame\n",
    "                data['NPerson'] = len(data)\n",
    "                SimpPerson(data)\n",
    "                CheckOverlap(data)\n",
    "                \n",
    "                if prevFrame is not None:\n",
    "                    newID = CheckDist(data,prevFrame,EColumns)\n",
    "                    \n",
    "                    if len(np.unique(newID))<len(newID):\n",
    "                        print('Fail', frame)\n",
    "                        break\n",
    "                    \n",
    "                    data['PersonID'] = newID\n",
    "#                     print(newID,prevFrame.PersonID.values)\n",
    "                    \n",
    "                    for row in data.iterrows():\n",
    "                        ID = row[1].PersonID\n",
    "                        if all([np.isnan(v) for v in row[1].loc[EColumns].values]):\n",
    "                            continue\n",
    "                        if any(prevFrame.PersonID==ID):\n",
    "                            \n",
    "                            prevInd = prevFrame[prevFrame.PersonID==ID].index[0]\n",
    "                            \n",
    "                            # keep previous values for columns not identified this frame\n",
    "                            nanInds = list(row[1].index[row[1].isnull()])\n",
    "                            if len(nanInds)>0:\n",
    "                                row[1].loc[nanInds] = prevFrame.loc[prevInd,nanInds]\n",
    "                            \n",
    "                            prevFrame.iloc[np.argmax(prevFrame.PersonID==ID),:] = row[1]\n",
    "                        else:\n",
    "                            prevFrame = pd.concat([prevFrame,data.loc[[row[0]],:]])\n",
    "                            print(frame,len(prevFrame))\n",
    "                            prevFrame.reset_index(drop=True,inplace=True)\n",
    "                else:\n",
    "                    if len(data)>0:\n",
    "                        prevFrame = data\n",
    "                        prevFrame.reset_index(drop=True,inplace=True)\n",
    "                \n",
    "#                 print(prevFrame.loc[:,EColumns],data.loc[:,EColumns])\n",
    "                    \n",
    "                df = pd.concat([df,data])\n",
    "            \n",
    "            df.reset_index(drop=True,inplace=True)\n",
    "            \n",
    "            pickleSave('_'.join([subj,task,cycle+'.pkl']),df)\n",
    "            \n",
    "            # drop intermittent identifications (probably not real people)\n",
    "            counts = df.PersonID.value_counts()\n",
    "            mCounts = counts.mean()\n",
    "            for p in counts.index:\n",
    "                if counts[p]<mCounts/2:\n",
    "                    df.drop(index = df[df.PersonID==p].index,inplace=True)\n",
    "                    \n",
    "            df.reset_index(drop=True,inplace=True)\n",
    "            \n",
    "            KL_Filt = KL[(KL.iloc[:,0]==int(subj)) & (KL.iloc[:,1]=='_'.join([task,cycle]))]\n",
    "            \n",
    "            if len(KL_Filt)>0:\n",
    "                RelLoc = KL_Filt.iloc[0,9]\n",
    "\n",
    "                PID = getPID(df,None,RelLoc)\n",
    "\n",
    "                pickleSave('_'.join([subj,task,cycle,'Pat.pkl']),df[df.PersonID==PID].copy())"
   ]
  },
  {
   "cell_type": "code",
   "execution_count": 852,
   "metadata": {},
   "outputs": [],
   "source": [
    "with  open(jsonPath/subj/F_tc[0],'r') as f:\n",
    "    data = json.load(f,object_hook=lambda x: DataParser(x,subj,task,cycle))['people']"
   ]
  },
  {
   "cell_type": "code",
   "execution_count": 853,
   "metadata": {},
   "outputs": [
    {
     "data": {
      "text/plain": [
       "[]"
      ]
     },
     "execution_count": 853,
     "metadata": {},
     "output_type": "execute_result"
    }
   ],
   "source": [
    "data"
   ]
  },
  {
   "cell_type": "code",
   "execution_count": 856,
   "metadata": {},
   "outputs": [
    {
     "data": {
      "text/plain": [
       "'FtnR_3_000000000000_keypoints.json'"
      ]
     },
     "execution_count": 856,
     "metadata": {},
     "output_type": "execute_result"
    }
   ],
   "source": [
    "file"
   ]
  },
  {
   "cell_type": "code",
   "execution_count": 851,
   "metadata": {},
   "outputs": [
    {
     "data": {
      "text/plain": [
       "['FtnR_3_000000000000_keypoints.json',\n",
       " 'FtnR_3_000000000001_keypoints.json',\n",
       " 'FtnR_3_000000000002_keypoints.json',\n",
       " 'FtnR_3_000000000003_keypoints.json',\n",
       " 'FtnR_3_000000000004_keypoints.json',\n",
       " 'FtnR_3_000000000005_keypoints.json',\n",
       " 'FtnR_3_000000000006_keypoints.json',\n",
       " 'FtnR_3_000000000007_keypoints.json',\n",
       " 'FtnR_3_000000000008_keypoints.json',\n",
       " 'FtnR_3_000000000009_keypoints.json',\n",
       " 'FtnR_3_000000000010_keypoints.json',\n",
       " 'FtnR_3_000000000011_keypoints.json',\n",
       " 'FtnR_3_000000000012_keypoints.json',\n",
       " 'FtnR_3_000000000013_keypoints.json',\n",
       " 'FtnR_3_000000000014_keypoints.json',\n",
       " 'FtnR_3_000000000015_keypoints.json',\n",
       " 'FtnR_3_000000000016_keypoints.json',\n",
       " 'FtnR_3_000000000017_keypoints.json',\n",
       " 'FtnR_3_000000000018_keypoints.json',\n",
       " 'FtnR_3_000000000019_keypoints.json',\n",
       " 'FtnR_3_000000000020_keypoints.json',\n",
       " 'FtnR_3_000000000021_keypoints.json',\n",
       " 'FtnR_3_000000000022_keypoints.json',\n",
       " 'FtnR_3_000000000023_keypoints.json',\n",
       " 'FtnR_3_000000000024_keypoints.json',\n",
       " 'FtnR_3_000000000025_keypoints.json',\n",
       " 'FtnR_3_000000000026_keypoints.json',\n",
       " 'FtnR_3_000000000027_keypoints.json',\n",
       " 'FtnR_3_000000000028_keypoints.json',\n",
       " 'FtnR_3_000000000029_keypoints.json',\n",
       " 'FtnR_3_000000000030_keypoints.json',\n",
       " 'FtnR_3_000000000031_keypoints.json',\n",
       " 'FtnR_3_000000000032_keypoints.json',\n",
       " 'FtnR_3_000000000033_keypoints.json',\n",
       " 'FtnR_3_000000000034_keypoints.json',\n",
       " 'FtnR_3_000000000035_keypoints.json',\n",
       " 'FtnR_3_000000000036_keypoints.json',\n",
       " 'FtnR_3_000000000037_keypoints.json',\n",
       " 'FtnR_3_000000000038_keypoints.json',\n",
       " 'FtnR_3_000000000039_keypoints.json',\n",
       " 'FtnR_3_000000000040_keypoints.json',\n",
       " 'FtnR_3_000000000041_keypoints.json',\n",
       " 'FtnR_3_000000000042_keypoints.json',\n",
       " 'FtnR_3_000000000043_keypoints.json',\n",
       " 'FtnR_3_000000000044_keypoints.json',\n",
       " 'FtnR_3_000000000045_keypoints.json',\n",
       " 'FtnR_3_000000000046_keypoints.json',\n",
       " 'FtnR_3_000000000047_keypoints.json',\n",
       " 'FtnR_3_000000000048_keypoints.json',\n",
       " 'FtnR_3_000000000049_keypoints.json',\n",
       " 'FtnR_3_000000000050_keypoints.json',\n",
       " 'FtnR_3_000000000051_keypoints.json',\n",
       " 'FtnR_3_000000000052_keypoints.json',\n",
       " 'FtnR_3_000000000053_keypoints.json',\n",
       " 'FtnR_3_000000000054_keypoints.json',\n",
       " 'FtnR_3_000000000055_keypoints.json',\n",
       " 'FtnR_3_000000000056_keypoints.json',\n",
       " 'FtnR_3_000000000057_keypoints.json',\n",
       " 'FtnR_3_000000000058_keypoints.json',\n",
       " 'FtnR_3_000000000059_keypoints.json',\n",
       " 'FtnR_3_000000000060_keypoints.json',\n",
       " 'FtnR_3_000000000061_keypoints.json',\n",
       " 'FtnR_3_000000000062_keypoints.json',\n",
       " 'FtnR_3_000000000063_keypoints.json',\n",
       " 'FtnR_3_000000000064_keypoints.json',\n",
       " 'FtnR_3_000000000065_keypoints.json',\n",
       " 'FtnR_3_000000000066_keypoints.json',\n",
       " 'FtnR_3_000000000067_keypoints.json',\n",
       " 'FtnR_3_000000000068_keypoints.json',\n",
       " 'FtnR_3_000000000069_keypoints.json',\n",
       " 'FtnR_3_000000000070_keypoints.json',\n",
       " 'FtnR_3_000000000071_keypoints.json',\n",
       " 'FtnR_3_000000000072_keypoints.json',\n",
       " 'FtnR_3_000000000073_keypoints.json',\n",
       " 'FtnR_3_000000000074_keypoints.json',\n",
       " 'FtnR_3_000000000075_keypoints.json',\n",
       " 'FtnR_3_000000000076_keypoints.json',\n",
       " 'FtnR_3_000000000077_keypoints.json',\n",
       " 'FtnR_3_000000000078_keypoints.json',\n",
       " 'FtnR_3_000000000079_keypoints.json',\n",
       " 'FtnR_3_000000000080_keypoints.json',\n",
       " 'FtnR_3_000000000081_keypoints.json',\n",
       " 'FtnR_3_000000000082_keypoints.json',\n",
       " 'FtnR_3_000000000083_keypoints.json',\n",
       " 'FtnR_3_000000000084_keypoints.json',\n",
       " 'FtnR_3_000000000085_keypoints.json',\n",
       " 'FtnR_3_000000000086_keypoints.json',\n",
       " 'FtnR_3_000000000087_keypoints.json',\n",
       " 'FtnR_3_000000000088_keypoints.json',\n",
       " 'FtnR_3_000000000089_keypoints.json',\n",
       " 'FtnR_3_000000000090_keypoints.json',\n",
       " 'FtnR_3_000000000091_keypoints.json',\n",
       " 'FtnR_3_000000000092_keypoints.json',\n",
       " 'FtnR_3_000000000093_keypoints.json',\n",
       " 'FtnR_3_000000000094_keypoints.json',\n",
       " 'FtnR_3_000000000095_keypoints.json',\n",
       " 'FtnR_3_000000000096_keypoints.json',\n",
       " 'FtnR_3_000000000097_keypoints.json',\n",
       " 'FtnR_3_000000000098_keypoints.json',\n",
       " 'FtnR_3_000000000099_keypoints.json',\n",
       " 'FtnR_3_000000000100_keypoints.json',\n",
       " 'FtnR_3_000000000101_keypoints.json',\n",
       " 'FtnR_3_000000000102_keypoints.json',\n",
       " 'FtnR_3_000000000103_keypoints.json',\n",
       " 'FtnR_3_000000000104_keypoints.json',\n",
       " 'FtnR_3_000000000105_keypoints.json',\n",
       " 'FtnR_3_000000000106_keypoints.json',\n",
       " 'FtnR_3_000000000107_keypoints.json',\n",
       " 'FtnR_3_000000000108_keypoints.json',\n",
       " 'FtnR_3_000000000109_keypoints.json',\n",
       " 'FtnR_3_000000000110_keypoints.json',\n",
       " 'FtnR_3_000000000111_keypoints.json',\n",
       " 'FtnR_3_000000000112_keypoints.json',\n",
       " 'FtnR_3_000000000113_keypoints.json',\n",
       " 'FtnR_3_000000000114_keypoints.json',\n",
       " 'FtnR_3_000000000115_keypoints.json',\n",
       " 'FtnR_3_000000000116_keypoints.json',\n",
       " 'FtnR_3_000000000117_keypoints.json',\n",
       " 'FtnR_3_000000000118_keypoints.json',\n",
       " 'FtnR_3_000000000119_keypoints.json',\n",
       " 'FtnR_3_000000000120_keypoints.json',\n",
       " 'FtnR_3_000000000121_keypoints.json',\n",
       " 'FtnR_3_000000000122_keypoints.json',\n",
       " 'FtnR_3_000000000123_keypoints.json',\n",
       " 'FtnR_3_000000000124_keypoints.json',\n",
       " 'FtnR_3_000000000125_keypoints.json',\n",
       " 'FtnR_3_000000000126_keypoints.json',\n",
       " 'FtnR_3_000000000127_keypoints.json',\n",
       " 'FtnR_3_000000000128_keypoints.json',\n",
       " 'FtnR_3_000000000129_keypoints.json',\n",
       " 'FtnR_3_000000000130_keypoints.json',\n",
       " 'FtnR_3_000000000131_keypoints.json',\n",
       " 'FtnR_3_000000000132_keypoints.json',\n",
       " 'FtnR_3_000000000133_keypoints.json',\n",
       " 'FtnR_3_000000000134_keypoints.json',\n",
       " 'FtnR_3_000000000135_keypoints.json',\n",
       " 'FtnR_3_000000000136_keypoints.json',\n",
       " 'FtnR_3_000000000137_keypoints.json',\n",
       " 'FtnR_3_000000000138_keypoints.json',\n",
       " 'FtnR_3_000000000139_keypoints.json',\n",
       " 'FtnR_3_000000000140_keypoints.json',\n",
       " 'FtnR_3_000000000141_keypoints.json',\n",
       " 'FtnR_3_000000000142_keypoints.json',\n",
       " 'FtnR_3_000000000143_keypoints.json',\n",
       " 'FtnR_3_000000000144_keypoints.json',\n",
       " 'FtnR_3_000000000145_keypoints.json',\n",
       " 'FtnR_3_000000000146_keypoints.json',\n",
       " 'FtnR_3_000000000147_keypoints.json',\n",
       " 'FtnR_3_000000000148_keypoints.json',\n",
       " 'FtnR_3_000000000149_keypoints.json',\n",
       " 'FtnR_3_000000000150_keypoints.json',\n",
       " 'FtnR_3_000000000151_keypoints.json',\n",
       " 'FtnR_3_000000000152_keypoints.json',\n",
       " 'FtnR_3_000000000153_keypoints.json',\n",
       " 'FtnR_3_000000000154_keypoints.json',\n",
       " 'FtnR_3_000000000155_keypoints.json',\n",
       " 'FtnR_3_000000000156_keypoints.json',\n",
       " 'FtnR_3_000000000157_keypoints.json',\n",
       " 'FtnR_3_000000000158_keypoints.json',\n",
       " 'FtnR_3_000000000159_keypoints.json',\n",
       " 'FtnR_3_000000000160_keypoints.json',\n",
       " 'FtnR_3_000000000161_keypoints.json',\n",
       " 'FtnR_3_000000000162_keypoints.json',\n",
       " 'FtnR_3_000000000163_keypoints.json',\n",
       " 'FtnR_3_000000000164_keypoints.json',\n",
       " 'FtnR_3_000000000165_keypoints.json',\n",
       " 'FtnR_3_000000000166_keypoints.json',\n",
       " 'FtnR_3_000000000167_keypoints.json',\n",
       " 'FtnR_3_000000000168_keypoints.json',\n",
       " 'FtnR_3_000000000169_keypoints.json',\n",
       " 'FtnR_3_000000000170_keypoints.json',\n",
       " 'FtnR_3_000000000171_keypoints.json',\n",
       " 'FtnR_3_000000000172_keypoints.json',\n",
       " 'FtnR_3_000000000173_keypoints.json',\n",
       " 'FtnR_3_000000000174_keypoints.json',\n",
       " 'FtnR_3_000000000175_keypoints.json',\n",
       " 'FtnR_3_000000000176_keypoints.json',\n",
       " 'FtnR_3_000000000177_keypoints.json',\n",
       " 'FtnR_3_000000000178_keypoints.json',\n",
       " 'FtnR_3_000000000179_keypoints.json',\n",
       " 'FtnR_3_000000000180_keypoints.json',\n",
       " 'FtnR_3_000000000181_keypoints.json',\n",
       " 'FtnR_3_000000000182_keypoints.json',\n",
       " 'FtnR_3_000000000183_keypoints.json',\n",
       " 'FtnR_3_000000000184_keypoints.json',\n",
       " 'FtnR_3_000000000185_keypoints.json',\n",
       " 'FtnR_3_000000000186_keypoints.json',\n",
       " 'FtnR_3_000000000187_keypoints.json',\n",
       " 'FtnR_3_000000000188_keypoints.json',\n",
       " 'FtnR_3_000000000189_keypoints.json',\n",
       " 'FtnR_3_000000000190_keypoints.json',\n",
       " 'FtnR_3_000000000191_keypoints.json',\n",
       " 'FtnR_3_000000000192_keypoints.json',\n",
       " 'FtnR_3_000000000193_keypoints.json',\n",
       " 'FtnR_3_000000000194_keypoints.json',\n",
       " 'FtnR_3_000000000195_keypoints.json',\n",
       " 'FtnR_3_000000000196_keypoints.json',\n",
       " 'FtnR_3_000000000197_keypoints.json',\n",
       " 'FtnR_3_000000000198_keypoints.json',\n",
       " 'FtnR_3_000000000199_keypoints.json',\n",
       " 'FtnR_3_000000000200_keypoints.json',\n",
       " 'FtnR_3_000000000201_keypoints.json',\n",
       " 'FtnR_3_000000000202_keypoints.json',\n",
       " 'FtnR_3_000000000203_keypoints.json',\n",
       " 'FtnR_3_000000000204_keypoints.json',\n",
       " 'FtnR_3_000000000205_keypoints.json',\n",
       " 'FtnR_3_000000000206_keypoints.json',\n",
       " 'FtnR_3_000000000207_keypoints.json',\n",
       " 'FtnR_3_000000000208_keypoints.json',\n",
       " 'FtnR_3_000000000209_keypoints.json',\n",
       " 'FtnR_3_000000000210_keypoints.json',\n",
       " 'FtnR_3_000000000211_keypoints.json',\n",
       " 'FtnR_3_000000000212_keypoints.json',\n",
       " 'FtnR_3_000000000213_keypoints.json',\n",
       " 'FtnR_3_000000000214_keypoints.json',\n",
       " 'FtnR_3_000000000215_keypoints.json',\n",
       " 'FtnR_3_000000000216_keypoints.json',\n",
       " 'FtnR_3_000000000217_keypoints.json',\n",
       " 'FtnR_3_000000000218_keypoints.json',\n",
       " 'FtnR_3_000000000219_keypoints.json',\n",
       " 'FtnR_3_000000000220_keypoints.json',\n",
       " 'FtnR_3_000000000221_keypoints.json',\n",
       " 'FtnR_3_000000000222_keypoints.json',\n",
       " 'FtnR_3_000000000223_keypoints.json',\n",
       " 'FtnR_3_000000000224_keypoints.json',\n",
       " 'FtnR_3_000000000225_keypoints.json',\n",
       " 'FtnR_3_000000000226_keypoints.json',\n",
       " 'FtnR_3_000000000227_keypoints.json',\n",
       " 'FtnR_3_000000000228_keypoints.json',\n",
       " 'FtnR_3_000000000229_keypoints.json',\n",
       " 'FtnR_3_000000000230_keypoints.json',\n",
       " 'FtnR_3_000000000231_keypoints.json',\n",
       " 'FtnR_3_000000000232_keypoints.json',\n",
       " 'FtnR_3_000000000233_keypoints.json',\n",
       " 'FtnR_3_000000000234_keypoints.json',\n",
       " 'FtnR_3_000000000235_keypoints.json',\n",
       " 'FtnR_3_000000000236_keypoints.json',\n",
       " 'FtnR_3_000000000237_keypoints.json',\n",
       " 'FtnR_3_000000000238_keypoints.json',\n",
       " 'FtnR_3_000000000239_keypoints.json',\n",
       " 'FtnR_3_000000000240_keypoints.json',\n",
       " 'FtnR_3_000000000241_keypoints.json',\n",
       " 'FtnR_3_000000000242_keypoints.json',\n",
       " 'FtnR_3_000000000243_keypoints.json',\n",
       " 'FtnR_3_000000000244_keypoints.json',\n",
       " 'FtnR_3_000000000245_keypoints.json',\n",
       " 'FtnR_3_000000000246_keypoints.json',\n",
       " 'FtnR_3_000000000247_keypoints.json',\n",
       " 'FtnR_3_000000000248_keypoints.json',\n",
       " 'FtnR_3_000000000249_keypoints.json',\n",
       " 'FtnR_3_000000000250_keypoints.json',\n",
       " 'FtnR_3_000000000251_keypoints.json',\n",
       " 'FtnR_3_000000000252_keypoints.json',\n",
       " 'FtnR_3_000000000253_keypoints.json',\n",
       " 'FtnR_3_000000000254_keypoints.json',\n",
       " 'FtnR_3_000000000255_keypoints.json',\n",
       " 'FtnR_3_000000000256_keypoints.json',\n",
       " 'FtnR_3_000000000257_keypoints.json',\n",
       " 'FtnR_3_000000000258_keypoints.json',\n",
       " 'FtnR_3_000000000259_keypoints.json',\n",
       " 'FtnR_3_000000000260_keypoints.json',\n",
       " 'FtnR_3_000000000261_keypoints.json',\n",
       " 'FtnR_3_000000000262_keypoints.json',\n",
       " 'FtnR_3_000000000263_keypoints.json',\n",
       " 'FtnR_3_000000000264_keypoints.json',\n",
       " 'FtnR_3_000000000265_keypoints.json',\n",
       " 'FtnR_3_000000000266_keypoints.json',\n",
       " 'FtnR_3_000000000267_keypoints.json',\n",
       " 'FtnR_3_000000000268_keypoints.json',\n",
       " 'FtnR_3_000000000269_keypoints.json',\n",
       " 'FtnR_3_000000000270_keypoints.json',\n",
       " 'FtnR_3_000000000271_keypoints.json',\n",
       " 'FtnR_3_000000000272_keypoints.json',\n",
       " 'FtnR_3_000000000273_keypoints.json',\n",
       " 'FtnR_3_000000000274_keypoints.json',\n",
       " 'FtnR_3_000000000275_keypoints.json',\n",
       " 'FtnR_3_000000000276_keypoints.json',\n",
       " 'FtnR_3_000000000277_keypoints.json',\n",
       " 'FtnR_3_000000000278_keypoints.json',\n",
       " 'FtnR_3_000000000279_keypoints.json',\n",
       " 'FtnR_3_000000000280_keypoints.json',\n",
       " 'FtnR_3_000000000281_keypoints.json',\n",
       " 'FtnR_3_000000000282_keypoints.json',\n",
       " 'FtnR_3_000000000283_keypoints.json',\n",
       " 'FtnR_3_000000000284_keypoints.json',\n",
       " 'FtnR_3_000000000285_keypoints.json',\n",
       " 'FtnR_3_000000000286_keypoints.json',\n",
       " 'FtnR_3_000000000287_keypoints.json',\n",
       " 'FtnR_3_000000000288_keypoints.json',\n",
       " 'FtnR_3_000000000289_keypoints.json',\n",
       " 'FtnR_3_000000000290_keypoints.json',\n",
       " 'FtnR_3_000000000291_keypoints.json',\n",
       " 'FtnR_3_000000000292_keypoints.json',\n",
       " 'FtnR_3_000000000293_keypoints.json',\n",
       " 'FtnR_3_000000000294_keypoints.json',\n",
       " 'FtnR_3_000000000295_keypoints.json',\n",
       " 'FtnR_3_000000000296_keypoints.json',\n",
       " 'FtnR_3_000000000297_keypoints.json',\n",
       " 'FtnR_3_000000000298_keypoints.json',\n",
       " 'FtnR_3_000000000299_keypoints.json',\n",
       " 'FtnR_3_000000000300_keypoints.json',\n",
       " 'FtnR_3_000000000301_keypoints.json',\n",
       " 'FtnR_3_000000000302_keypoints.json',\n",
       " 'FtnR_3_000000000303_keypoints.json',\n",
       " 'FtnR_3_000000000304_keypoints.json',\n",
       " 'FtnR_3_000000000305_keypoints.json',\n",
       " 'FtnR_3_000000000306_keypoints.json',\n",
       " 'FtnR_3_000000000307_keypoints.json',\n",
       " 'FtnR_3_000000000308_keypoints.json',\n",
       " 'FtnR_3_000000000309_keypoints.json',\n",
       " 'FtnR_3_000000000310_keypoints.json',\n",
       " 'FtnR_3_000000000311_keypoints.json',\n",
       " 'FtnR_3_000000000312_keypoints.json',\n",
       " 'FtnR_3_000000000313_keypoints.json',\n",
       " 'FtnR_3_000000000314_keypoints.json',\n",
       " 'FtnR_3_000000000315_keypoints.json',\n",
       " 'FtnR_3_000000000316_keypoints.json',\n",
       " 'FtnR_3_000000000317_keypoints.json',\n",
       " 'FtnR_3_000000000318_keypoints.json',\n",
       " 'FtnR_3_000000000319_keypoints.json',\n",
       " 'FtnR_3_000000000320_keypoints.json',\n",
       " 'FtnR_3_000000000321_keypoints.json',\n",
       " 'FtnR_3_000000000322_keypoints.json',\n",
       " 'FtnR_3_000000000323_keypoints.json',\n",
       " 'FtnR_3_000000000324_keypoints.json',\n",
       " 'FtnR_3_000000000325_keypoints.json',\n",
       " 'FtnR_3_000000000326_keypoints.json',\n",
       " 'FtnR_3_000000000327_keypoints.json',\n",
       " 'FtnR_3_000000000328_keypoints.json',\n",
       " 'FtnR_3_000000000329_keypoints.json',\n",
       " 'FtnR_3_000000000330_keypoints.json',\n",
       " 'FtnR_3_000000000331_keypoints.json',\n",
       " 'FtnR_3_000000000332_keypoints.json',\n",
       " 'FtnR_3_000000000333_keypoints.json',\n",
       " 'FtnR_3_000000000334_keypoints.json',\n",
       " 'FtnR_3_000000000335_keypoints.json',\n",
       " 'FtnR_3_000000000336_keypoints.json',\n",
       " 'FtnR_3_000000000337_keypoints.json',\n",
       " 'FtnR_3_000000000338_keypoints.json',\n",
       " 'FtnR_3_000000000339_keypoints.json',\n",
       " 'FtnR_3_000000000340_keypoints.json',\n",
       " 'FtnR_3_000000000341_keypoints.json',\n",
       " 'FtnR_3_000000000342_keypoints.json',\n",
       " 'FtnR_3_000000000343_keypoints.json',\n",
       " 'FtnR_3_000000000344_keypoints.json',\n",
       " 'FtnR_3_000000000345_keypoints.json',\n",
       " 'FtnR_3_000000000346_keypoints.json',\n",
       " 'FtnR_3_000000000347_keypoints.json',\n",
       " 'FtnR_3_000000000348_keypoints.json',\n",
       " 'FtnR_3_000000000349_keypoints.json',\n",
       " 'FtnR_3_000000000350_keypoints.json',\n",
       " 'FtnR_3_000000000351_keypoints.json',\n",
       " 'FtnR_3_000000000352_keypoints.json',\n",
       " 'FtnR_3_000000000353_keypoints.json',\n",
       " 'FtnR_3_000000000354_keypoints.json',\n",
       " 'FtnR_3_000000000355_keypoints.json',\n",
       " 'FtnR_3_000000000356_keypoints.json',\n",
       " 'FtnR_3_000000000357_keypoints.json',\n",
       " 'FtnR_3_000000000358_keypoints.json',\n",
       " 'FtnR_3_000000000359_keypoints.json',\n",
       " 'FtnR_3_000000000360_keypoints.json',\n",
       " 'FtnR_3_000000000361_keypoints.json',\n",
       " 'FtnR_3_000000000362_keypoints.json',\n",
       " 'FtnR_3_000000000363_keypoints.json',\n",
       " 'FtnR_3_000000000364_keypoints.json',\n",
       " 'FtnR_3_000000000365_keypoints.json',\n",
       " 'FtnR_3_000000000366_keypoints.json',\n",
       " 'FtnR_3_000000000367_keypoints.json',\n",
       " 'FtnR_3_000000000368_keypoints.json',\n",
       " 'FtnR_3_000000000369_keypoints.json',\n",
       " 'FtnR_3_000000000370_keypoints.json',\n",
       " 'FtnR_3_000000000371_keypoints.json',\n",
       " 'FtnR_3_000000000372_keypoints.json',\n",
       " 'FtnR_3_000000000373_keypoints.json',\n",
       " 'FtnR_3_000000000374_keypoints.json',\n",
       " 'FtnR_3_000000000375_keypoints.json',\n",
       " 'FtnR_3_000000000376_keypoints.json',\n",
       " 'FtnR_3_000000000377_keypoints.json',\n",
       " 'FtnR_3_000000000378_keypoints.json',\n",
       " 'FtnR_3_000000000379_keypoints.json',\n",
       " 'FtnR_3_000000000380_keypoints.json',\n",
       " 'FtnR_3_000000000381_keypoints.json',\n",
       " 'FtnR_3_000000000382_keypoints.json',\n",
       " 'FtnR_3_000000000383_keypoints.json',\n",
       " 'FtnR_3_000000000384_keypoints.json',\n",
       " 'FtnR_3_000000000385_keypoints.json',\n",
       " 'FtnR_3_000000000386_keypoints.json',\n",
       " 'FtnR_3_000000000387_keypoints.json',\n",
       " 'FtnR_3_000000000388_keypoints.json',\n",
       " 'FtnR_3_000000000389_keypoints.json',\n",
       " 'FtnR_3_000000000390_keypoints.json',\n",
       " 'FtnR_3_000000000391_keypoints.json',\n",
       " 'FtnR_3_000000000392_keypoints.json',\n",
       " 'FtnR_3_000000000393_keypoints.json',\n",
       " 'FtnR_3_000000000394_keypoints.json',\n",
       " 'FtnR_3_000000000395_keypoints.json',\n",
       " 'FtnR_3_000000000396_keypoints.json',\n",
       " 'FtnR_3_000000000397_keypoints.json',\n",
       " 'FtnR_3_000000000398_keypoints.json',\n",
       " 'FtnR_3_000000000399_keypoints.json',\n",
       " 'FtnR_3_000000000400_keypoints.json',\n",
       " 'FtnR_3_000000000401_keypoints.json',\n",
       " 'FtnR_3_000000000402_keypoints.json',\n",
       " 'FtnR_3_000000000403_keypoints.json',\n",
       " 'FtnR_3_000000000404_keypoints.json',\n",
       " 'FtnR_3_000000000405_keypoints.json',\n",
       " 'FtnR_3_000000000406_keypoints.json',\n",
       " 'FtnR_3_000000000407_keypoints.json',\n",
       " 'FtnR_3_000000000408_keypoints.json',\n",
       " 'FtnR_3_000000000409_keypoints.json',\n",
       " 'FtnR_3_000000000410_keypoints.json',\n",
       " 'FtnR_3_000000000411_keypoints.json',\n",
       " 'FtnR_3_000000000412_keypoints.json',\n",
       " 'FtnR_3_000000000413_keypoints.json',\n",
       " 'FtnR_3_000000000414_keypoints.json',\n",
       " 'FtnR_3_000000000415_keypoints.json',\n",
       " 'FtnR_3_000000000416_keypoints.json',\n",
       " 'FtnR_3_000000000417_keypoints.json',\n",
       " 'FtnR_3_000000000418_keypoints.json',\n",
       " 'FtnR_3_000000000419_keypoints.json',\n",
       " 'FtnR_3_000000000420_keypoints.json',\n",
       " 'FtnR_3_000000000421_keypoints.json',\n",
       " 'FtnR_3_000000000422_keypoints.json',\n",
       " 'FtnR_3_000000000423_keypoints.json',\n",
       " 'FtnR_3_000000000424_keypoints.json',\n",
       " 'FtnR_3_000000000425_keypoints.json',\n",
       " 'FtnR_3_000000000426_keypoints.json',\n",
       " 'FtnR_3_000000000427_keypoints.json',\n",
       " 'FtnR_3_000000000428_keypoints.json',\n",
       " 'FtnR_3_000000000429_keypoints.json',\n",
       " 'FtnR_3_000000000430_keypoints.json',\n",
       " 'FtnR_3_000000000431_keypoints.json',\n",
       " 'FtnR_3_000000000432_keypoints.json',\n",
       " 'FtnR_3_000000000433_keypoints.json',\n",
       " 'FtnR_3_000000000434_keypoints.json',\n",
       " 'FtnR_3_000000000435_keypoints.json',\n",
       " 'FtnR_3_000000000436_keypoints.json',\n",
       " 'FtnR_3_000000000437_keypoints.json',\n",
       " 'FtnR_3_000000000438_keypoints.json',\n",
       " 'FtnR_3_000000000439_keypoints.json',\n",
       " 'FtnR_3_000000000440_keypoints.json',\n",
       " 'FtnR_3_000000000441_keypoints.json',\n",
       " 'FtnR_3_000000000442_keypoints.json',\n",
       " 'FtnR_3_000000000443_keypoints.json',\n",
       " 'FtnR_3_000000000444_keypoints.json',\n",
       " 'FtnR_3_000000000445_keypoints.json',\n",
       " 'FtnR_3_000000000446_keypoints.json',\n",
       " 'FtnR_3_000000000447_keypoints.json',\n",
       " 'FtnR_3_000000000448_keypoints.json',\n",
       " 'FtnR_3_000000000449_keypoints.json',\n",
       " 'FtnR_3_000000000450_keypoints.json',\n",
       " 'FtnR_3_000000000451_keypoints.json',\n",
       " 'FtnR_3_000000000452_keypoints.json',\n",
       " 'FtnR_3_000000000453_keypoints.json',\n",
       " 'FtnR_3_000000000454_keypoints.json',\n",
       " 'FtnR_3_000000000455_keypoints.json',\n",
       " 'FtnR_3_000000000456_keypoints.json',\n",
       " 'FtnR_3_000000000457_keypoints.json',\n",
       " 'FtnR_3_000000000458_keypoints.json',\n",
       " 'FtnR_3_000000000459_keypoints.json',\n",
       " 'FtnR_3_000000000460_keypoints.json',\n",
       " 'FtnR_3_000000000461_keypoints.json',\n",
       " 'FtnR_3_000000000462_keypoints.json',\n",
       " 'FtnR_3_000000000463_keypoints.json',\n",
       " 'FtnR_3_000000000464_keypoints.json',\n",
       " 'FtnR_3_000000000465_keypoints.json',\n",
       " 'FtnR_3_000000000466_keypoints.json',\n",
       " 'FtnR_3_000000000467_keypoints.json',\n",
       " 'FtnR_3_000000000468_keypoints.json',\n",
       " 'FtnR_3_000000000469_keypoints.json',\n",
       " 'FtnR_3_000000000470_keypoints.json',\n",
       " 'FtnR_3_000000000471_keypoints.json',\n",
       " 'FtnR_3_000000000472_keypoints.json',\n",
       " 'FtnR_3_000000000473_keypoints.json',\n",
       " 'FtnR_3_000000000474_keypoints.json',\n",
       " 'FtnR_3_000000000475_keypoints.json',\n",
       " 'FtnR_3_000000000476_keypoints.json',\n",
       " 'FtnR_3_000000000477_keypoints.json',\n",
       " 'FtnR_3_000000000478_keypoints.json',\n",
       " 'FtnR_3_000000000479_keypoints.json',\n",
       " 'FtnR_3_000000000480_keypoints.json',\n",
       " 'FtnR_3_000000000481_keypoints.json',\n",
       " 'FtnR_3_000000000482_keypoints.json',\n",
       " 'FtnR_3_000000000483_keypoints.json',\n",
       " 'FtnR_3_000000000484_keypoints.json',\n",
       " 'FtnR_3_000000000485_keypoints.json',\n",
       " 'FtnR_3_000000000486_keypoints.json',\n",
       " 'FtnR_3_000000000487_keypoints.json',\n",
       " 'FtnR_3_000000000488_keypoints.json',\n",
       " 'FtnR_3_000000000489_keypoints.json',\n",
       " 'FtnR_3_000000000490_keypoints.json',\n",
       " 'FtnR_3_000000000491_keypoints.json',\n",
       " 'FtnR_3_000000000492_keypoints.json',\n",
       " 'FtnR_3_000000000493_keypoints.json',\n",
       " 'FtnR_3_000000000494_keypoints.json',\n",
       " 'FtnR_3_000000000495_keypoints.json',\n",
       " 'FtnR_3_000000000496_keypoints.json',\n",
       " 'FtnR_3_000000000497_keypoints.json',\n",
       " 'FtnR_3_000000000498_keypoints.json',\n",
       " 'FtnR_3_000000000499_keypoints.json',\n",
       " 'FtnR_3_000000000500_keypoints.json',\n",
       " 'FtnR_3_000000000501_keypoints.json',\n",
       " 'FtnR_3_000000000502_keypoints.json',\n",
       " 'FtnR_3_000000000503_keypoints.json',\n",
       " 'FtnR_3_000000000504_keypoints.json',\n",
       " 'FtnR_3_000000000505_keypoints.json',\n",
       " 'FtnR_3_000000000506_keypoints.json',\n",
       " 'FtnR_3_000000000507_keypoints.json',\n",
       " 'FtnR_3_000000000508_keypoints.json',\n",
       " 'FtnR_3_000000000509_keypoints.json',\n",
       " 'FtnR_3_000000000510_keypoints.json',\n",
       " 'FtnR_3_000000000511_keypoints.json',\n",
       " 'FtnR_3_000000000512_keypoints.json',\n",
       " 'FtnR_3_000000000513_keypoints.json',\n",
       " 'FtnR_3_000000000514_keypoints.json',\n",
       " 'FtnR_3_000000000515_keypoints.json',\n",
       " 'FtnR_3_000000000516_keypoints.json',\n",
       " 'FtnR_3_000000000517_keypoints.json',\n",
       " 'FtnR_3_000000000518_keypoints.json',\n",
       " 'FtnR_3_000000000519_keypoints.json',\n",
       " 'FtnR_3_000000000520_keypoints.json',\n",
       " 'FtnR_3_000000000521_keypoints.json',\n",
       " 'FtnR_3_000000000522_keypoints.json',\n",
       " 'FtnR_3_000000000523_keypoints.json',\n",
       " 'FtnR_3_000000000524_keypoints.json',\n",
       " 'FtnR_3_000000000525_keypoints.json',\n",
       " 'FtnR_3_000000000526_keypoints.json',\n",
       " 'FtnR_3_000000000527_keypoints.json',\n",
       " 'FtnR_3_000000000528_keypoints.json',\n",
       " 'FtnR_3_000000000529_keypoints.json',\n",
       " 'FtnR_3_000000000530_keypoints.json',\n",
       " 'FtnR_3_000000000531_keypoints.json',\n",
       " 'FtnR_3_000000000532_keypoints.json',\n",
       " 'FtnR_3_000000000533_keypoints.json',\n",
       " 'FtnR_3_000000000534_keypoints.json',\n",
       " 'FtnR_3_000000000535_keypoints.json',\n",
       " 'FtnR_3_000000000536_keypoints.json',\n",
       " 'FtnR_3_000000000537_keypoints.json',\n",
       " 'FtnR_3_000000000538_keypoints.json',\n",
       " 'FtnR_3_000000000539_keypoints.json',\n",
       " 'FtnR_3_000000000540_keypoints.json',\n",
       " 'FtnR_3_000000000541_keypoints.json',\n",
       " 'FtnR_3_000000000542_keypoints.json',\n",
       " 'FtnR_3_000000000543_keypoints.json',\n",
       " 'FtnR_3_000000000544_keypoints.json',\n",
       " 'FtnR_3_000000000545_keypoints.json',\n",
       " 'FtnR_3_000000000546_keypoints.json',\n",
       " 'FtnR_3_000000000547_keypoints.json',\n",
       " 'FtnR_3_000000000548_keypoints.json',\n",
       " 'FtnR_3_000000000549_keypoints.json',\n",
       " 'FtnR_3_000000000550_keypoints.json',\n",
       " 'FtnR_3_000000000551_keypoints.json',\n",
       " 'FtnR_3_000000000552_keypoints.json',\n",
       " 'FtnR_3_000000000553_keypoints.json',\n",
       " 'FtnR_3_000000000554_keypoints.json',\n",
       " 'FtnR_3_000000000555_keypoints.json',\n",
       " 'FtnR_3_000000000556_keypoints.json',\n",
       " 'FtnR_3_000000000557_keypoints.json',\n",
       " 'FtnR_3_000000000558_keypoints.json',\n",
       " 'FtnR_3_000000000559_keypoints.json',\n",
       " 'FtnR_3_000000000560_keypoints.json',\n",
       " 'FtnR_3_000000000561_keypoints.json',\n",
       " 'FtnR_3_000000000562_keypoints.json',\n",
       " 'FtnR_3_000000000563_keypoints.json',\n",
       " 'FtnR_3_000000000564_keypoints.json']"
      ]
     },
     "execution_count": 851,
     "metadata": {},
     "output_type": "execute_result"
    }
   ],
   "source": [
    "F_tc"
   ]
  },
  {
   "cell_type": "code",
   "execution_count": 849,
   "metadata": {},
   "outputs": [
    {
     "data": {
      "text/plain": [
       "1"
      ]
     },
     "execution_count": 849,
     "metadata": {},
     "output_type": "execute_result"
    }
   ],
   "source": [
    "frame"
   ]
  },
  {
   "cell_type": "code",
   "execution_count": 847,
   "metadata": {},
   "outputs": [
    {
     "data": {
      "text/html": [
       "<div>\n",
       "<style scoped>\n",
       "    .dataframe tbody tr th:only-of-type {\n",
       "        vertical-align: middle;\n",
       "    }\n",
       "\n",
       "    .dataframe tbody tr th {\n",
       "        vertical-align: top;\n",
       "    }\n",
       "\n",
       "    .dataframe thead th {\n",
       "        text-align: right;\n",
       "    }\n",
       "</style>\n",
       "<table border=\"1\" class=\"dataframe\">\n",
       "  <thead>\n",
       "    <tr style=\"text-align: right;\">\n",
       "      <th></th>\n",
       "      <th>SubjID</th>\n",
       "      <th>Task</th>\n",
       "      <th>cycle</th>\n",
       "      <th>elbR_x</th>\n",
       "      <th>elbR_y</th>\n",
       "      <th>elbR_c</th>\n",
       "      <th>wriR_x</th>\n",
       "      <th>wriR_y</th>\n",
       "      <th>wriR_c</th>\n",
       "      <th>elbL_x</th>\n",
       "      <th>...</th>\n",
       "      <th>midL_c</th>\n",
       "      <th>ringL_x</th>\n",
       "      <th>ringL_y</th>\n",
       "      <th>ringL_c</th>\n",
       "      <th>pinkyL_x</th>\n",
       "      <th>pinkyL_y</th>\n",
       "      <th>pinkyL_c</th>\n",
       "      <th>PersonID</th>\n",
       "      <th>FrameID</th>\n",
       "      <th>NPerson</th>\n",
       "    </tr>\n",
       "  </thead>\n",
       "  <tbody>\n",
       "    <tr>\n",
       "      <th>0</th>\n",
       "      <td>1032</td>\n",
       "      <td>FtnR</td>\n",
       "      <td>3</td>\n",
       "      <td>365.554</td>\n",
       "      <td>827.539</td>\n",
       "      <td>0.449539</td>\n",
       "      <td>480.284</td>\n",
       "      <td>465.541</td>\n",
       "      <td>0.166676</td>\n",
       "      <td>583.272</td>\n",
       "      <td>...</td>\n",
       "      <td>0.02914</td>\n",
       "      <td>856.073</td>\n",
       "      <td>703.4</td>\n",
       "      <td>0.025533</td>\n",
       "      <td>854.728</td>\n",
       "      <td>683.214</td>\n",
       "      <td>0.015419</td>\n",
       "      <td>0</td>\n",
       "      <td>1</td>\n",
       "      <td>1</td>\n",
       "    </tr>\n",
       "  </tbody>\n",
       "</table>\n",
       "<p>1 rows × 57 columns</p>\n",
       "</div>"
      ],
      "text/plain": [
       "  SubjID  Task cycle   elbR_x   elbR_y    elbR_c   wriR_x   wriR_y    wriR_c  \\\n",
       "0   1032  FtnR     3  365.554  827.539  0.449539  480.284  465.541  0.166676   \n",
       "\n",
       "    elbL_x  ...   midL_c  ringL_x  ringL_y   ringL_c  pinkyL_x  pinkyL_y  \\\n",
       "0  583.272  ...  0.02914  856.073    703.4  0.025533   854.728   683.214   \n",
       "\n",
       "   pinkyL_c  PersonID  FrameID  NPerson  \n",
       "0  0.015419         0        1        1  \n",
       "\n",
       "[1 rows x 57 columns]"
      ]
     },
     "execution_count": 847,
     "metadata": {},
     "output_type": "execute_result"
    }
   ],
   "source": [
    "data"
   ]
  },
  {
   "cell_type": "code",
   "execution_count": 848,
   "metadata": {},
   "outputs": [
    {
     "data": {
      "text/html": [
       "<div>\n",
       "<style scoped>\n",
       "    .dataframe tbody tr th:only-of-type {\n",
       "        vertical-align: middle;\n",
       "    }\n",
       "\n",
       "    .dataframe tbody tr th {\n",
       "        vertical-align: top;\n",
       "    }\n",
       "\n",
       "    .dataframe thead th {\n",
       "        text-align: right;\n",
       "    }\n",
       "</style>\n",
       "<table border=\"1\" class=\"dataframe\">\n",
       "  <thead>\n",
       "    <tr style=\"text-align: right;\">\n",
       "      <th></th>\n",
       "      <th>PersonID</th>\n",
       "      <th>FrameID</th>\n",
       "      <th>NPerson</th>\n",
       "    </tr>\n",
       "  </thead>\n",
       "  <tbody>\n",
       "  </tbody>\n",
       "</table>\n",
       "</div>"
      ],
      "text/plain": [
       "Empty DataFrame\n",
       "Columns: [PersonID, FrameID, NPerson]\n",
       "Index: []"
      ]
     },
     "execution_count": 848,
     "metadata": {},
     "output_type": "execute_result"
    }
   ],
   "source": [
    "prevFrame"
   ]
  },
  {
   "cell_type": "code",
   "execution_count": 820,
   "metadata": {},
   "outputs": [
    {
     "data": {
      "text/plain": [
       "'FtnL_2_000000000626_keypoints.json'"
      ]
     },
     "execution_count": 820,
     "metadata": {},
     "output_type": "execute_result"
    }
   ],
   "source": [
    "file"
   ]
  },
  {
   "cell_type": "code",
   "execution_count": 821,
   "metadata": {},
   "outputs": [],
   "source": [
    "with open(jsonPath/subj/file,'r') as f:\n",
    "    data = json.load(f,object_hook=lambda x: DataParser(x,subj,task,cycle))['people']"
   ]
  },
  {
   "cell_type": "code",
   "execution_count": 809,
   "metadata": {},
   "outputs": [
    {
     "data": {
      "text/html": [
       "<div>\n",
       "<style scoped>\n",
       "    .dataframe tbody tr th:only-of-type {\n",
       "        vertical-align: middle;\n",
       "    }\n",
       "\n",
       "    .dataframe tbody tr th {\n",
       "        vertical-align: top;\n",
       "    }\n",
       "\n",
       "    .dataframe thead th {\n",
       "        text-align: right;\n",
       "    }\n",
       "</style>\n",
       "<table border=\"1\" class=\"dataframe\">\n",
       "  <thead>\n",
       "    <tr style=\"text-align: right;\">\n",
       "      <th></th>\n",
       "      <th>neck_x</th>\n",
       "      <th>neck_y</th>\n",
       "      <th>midHip_x</th>\n",
       "      <th>midHip_y</th>\n",
       "      <th>nose_x</th>\n",
       "      <th>nose_y</th>\n",
       "    </tr>\n",
       "  </thead>\n",
       "  <tbody>\n",
       "    <tr>\n",
       "      <th>0</th>\n",
       "      <td>578.689</td>\n",
       "      <td>59.2764</td>\n",
       "      <td>564.354</td>\n",
       "      <td>129.697</td>\n",
       "      <td>564.342</td>\n",
       "      <td>24.0061</td>\n",
       "    </tr>\n",
       "    <tr>\n",
       "      <th>1</th>\n",
       "      <td>360.736</td>\n",
       "      <td>174.1340</td>\n",
       "      <td>371.158</td>\n",
       "      <td>277.201</td>\n",
       "      <td>401.132</td>\n",
       "      <td>144.0790</td>\n",
       "    </tr>\n",
       "    <tr>\n",
       "      <th>2</th>\n",
       "      <td>600.874</td>\n",
       "      <td>178.0120</td>\n",
       "      <td>598.282</td>\n",
       "      <td>298.088</td>\n",
       "      <td>557.850</td>\n",
       "      <td>181.8990</td>\n",
       "    </tr>\n",
       "    <tr>\n",
       "      <th>3</th>\n",
       "      <td>590.438</td>\n",
       "      <td>60.5400</td>\n",
       "      <td>591.738</td>\n",
       "      <td>174.083</td>\n",
       "      <td>566.946</td>\n",
       "      <td>116.6490</td>\n",
       "    </tr>\n",
       "  </tbody>\n",
       "</table>\n",
       "</div>"
      ],
      "text/plain": [
       "    neck_x    neck_y  midHip_x  midHip_y   nose_x    nose_y\n",
       "0  578.689   59.2764   564.354   129.697  564.342   24.0061\n",
       "1  360.736  174.1340   371.158   277.201  401.132  144.0790\n",
       "2  600.874  178.0120   598.282   298.088  557.850  181.8990\n",
       "3  590.438   60.5400   591.738   174.083  566.946  116.6490"
      ]
     },
     "execution_count": 809,
     "metadata": {},
     "output_type": "execute_result"
    }
   ],
   "source": [
    "prevFrame.loc[:,EColumns]"
   ]
  },
  {
   "cell_type": "code",
   "execution_count": 799,
   "metadata": {},
   "outputs": [
    {
     "data": {
      "text/plain": [
       "3"
      ]
     },
     "execution_count": 799,
     "metadata": {},
     "output_type": "execute_result"
    }
   ],
   "source": [
    "prevInd"
   ]
  },
  {
   "cell_type": "code",
   "execution_count": 745,
   "metadata": {
    "scrolled": true
   },
   "outputs": [
    {
     "name": "stdout",
     "output_type": "stream",
     "text": [
      "1003 SitStand 1\n",
      "67 2\n"
     ]
    },
    {
     "ename": "IndexError",
     "evalue": "single positional indexer is out-of-bounds",
     "output_type": "error",
     "traceback": [
      "\u001b[0;31m---------------------------------------------------------------------------\u001b[0m",
      "\u001b[0;31mIndexError\u001b[0m                                Traceback (most recent call last)",
      "\u001b[0;32m<ipython-input-745-309bb3ba4fdb>\u001b[0m in \u001b[0;36m<module>\u001b[0;34m\u001b[0m\n\u001b[1;32m     73\u001b[0m             \u001b[0mdf\u001b[0m\u001b[0;34m.\u001b[0m\u001b[0mreset_index\u001b[0m\u001b[0;34m(\u001b[0m\u001b[0mdrop\u001b[0m\u001b[0;34m=\u001b[0m\u001b[0;32mTrue\u001b[0m\u001b[0;34m,\u001b[0m\u001b[0minplace\u001b[0m\u001b[0;34m=\u001b[0m\u001b[0;32mTrue\u001b[0m\u001b[0;34m)\u001b[0m\u001b[0;34m\u001b[0m\u001b[0;34m\u001b[0m\u001b[0m\n\u001b[1;32m     74\u001b[0m \u001b[0;34m\u001b[0m\u001b[0m\n\u001b[0;32m---> 75\u001b[0;31m             \u001b[0mRelLoc\u001b[0m \u001b[0;34m=\u001b[0m \u001b[0mKL\u001b[0m\u001b[0;34m[\u001b[0m\u001b[0;34m(\u001b[0m\u001b[0mKL\u001b[0m\u001b[0;34m.\u001b[0m\u001b[0miloc\u001b[0m\u001b[0;34m[\u001b[0m\u001b[0;34m:\u001b[0m\u001b[0;34m,\u001b[0m\u001b[0;36m0\u001b[0m\u001b[0;34m]\u001b[0m\u001b[0;34m==\u001b[0m\u001b[0mint\u001b[0m\u001b[0;34m(\u001b[0m\u001b[0msubj\u001b[0m\u001b[0;34m)\u001b[0m\u001b[0;34m)\u001b[0m \u001b[0;34m&\u001b[0m \u001b[0;34m(\u001b[0m\u001b[0mKL\u001b[0m\u001b[0;34m.\u001b[0m\u001b[0miloc\u001b[0m\u001b[0;34m[\u001b[0m\u001b[0;34m:\u001b[0m\u001b[0;34m,\u001b[0m\u001b[0;36m1\u001b[0m\u001b[0;34m]\u001b[0m\u001b[0;34m==\u001b[0m\u001b[0;34m'_'\u001b[0m\u001b[0;34m.\u001b[0m\u001b[0mjoin\u001b[0m\u001b[0;34m(\u001b[0m\u001b[0;34m[\u001b[0m\u001b[0mtask\u001b[0m\u001b[0;34m,\u001b[0m\u001b[0mcycle\u001b[0m\u001b[0;34m]\u001b[0m\u001b[0;34m)\u001b[0m\u001b[0;34m)\u001b[0m\u001b[0;34m]\u001b[0m\u001b[0;34m.\u001b[0m\u001b[0miloc\u001b[0m\u001b[0;34m[\u001b[0m\u001b[0;36m0\u001b[0m\u001b[0;34m,\u001b[0m\u001b[0;36m9\u001b[0m\u001b[0;34m]\u001b[0m\u001b[0;34m\u001b[0m\u001b[0;34m\u001b[0m\u001b[0m\n\u001b[0m\u001b[1;32m     76\u001b[0m \u001b[0;34m\u001b[0m\u001b[0m\n\u001b[1;32m     77\u001b[0m             \u001b[0mPID\u001b[0m \u001b[0;34m=\u001b[0m \u001b[0mgetPID\u001b[0m\u001b[0;34m(\u001b[0m\u001b[0mdf\u001b[0m\u001b[0;34m,\u001b[0m\u001b[0;32mNone\u001b[0m\u001b[0;34m,\u001b[0m\u001b[0mRelLoc\u001b[0m\u001b[0;34m)\u001b[0m\u001b[0;34m\u001b[0m\u001b[0;34m\u001b[0m\u001b[0m\n",
      "\u001b[0;32m~/anaconda3/lib/python3.6/site-packages/pandas/core/indexing.py\u001b[0m in \u001b[0;36m__getitem__\u001b[0;34m(self, key)\u001b[0m\n\u001b[1;32m   1758\u001b[0m                 \u001b[0;32mexcept\u001b[0m \u001b[0;34m(\u001b[0m\u001b[0mKeyError\u001b[0m\u001b[0;34m,\u001b[0m \u001b[0mIndexError\u001b[0m\u001b[0;34m,\u001b[0m \u001b[0mAttributeError\u001b[0m\u001b[0;34m)\u001b[0m\u001b[0;34m:\u001b[0m\u001b[0;34m\u001b[0m\u001b[0;34m\u001b[0m\u001b[0m\n\u001b[1;32m   1759\u001b[0m                     \u001b[0;32mpass\u001b[0m\u001b[0;34m\u001b[0m\u001b[0;34m\u001b[0m\u001b[0m\n\u001b[0;32m-> 1760\u001b[0;31m             \u001b[0;32mreturn\u001b[0m \u001b[0mself\u001b[0m\u001b[0;34m.\u001b[0m\u001b[0m_getitem_tuple\u001b[0m\u001b[0;34m(\u001b[0m\u001b[0mkey\u001b[0m\u001b[0;34m)\u001b[0m\u001b[0;34m\u001b[0m\u001b[0;34m\u001b[0m\u001b[0m\n\u001b[0m\u001b[1;32m   1761\u001b[0m         \u001b[0;32melse\u001b[0m\u001b[0;34m:\u001b[0m\u001b[0;34m\u001b[0m\u001b[0;34m\u001b[0m\u001b[0m\n\u001b[1;32m   1762\u001b[0m             \u001b[0;31m# we by definition only have the 0th axis\u001b[0m\u001b[0;34m\u001b[0m\u001b[0;34m\u001b[0m\u001b[0;34m\u001b[0m\u001b[0m\n",
      "\u001b[0;32m~/anaconda3/lib/python3.6/site-packages/pandas/core/indexing.py\u001b[0m in \u001b[0;36m_getitem_tuple\u001b[0;34m(self, tup)\u001b[0m\n\u001b[1;32m   2063\u001b[0m     \u001b[0;32mdef\u001b[0m \u001b[0m_getitem_tuple\u001b[0m\u001b[0;34m(\u001b[0m\u001b[0mself\u001b[0m\u001b[0;34m,\u001b[0m \u001b[0mtup\u001b[0m\u001b[0;34m:\u001b[0m \u001b[0mTuple\u001b[0m\u001b[0;34m)\u001b[0m\u001b[0;34m:\u001b[0m\u001b[0;34m\u001b[0m\u001b[0;34m\u001b[0m\u001b[0m\n\u001b[1;32m   2064\u001b[0m \u001b[0;34m\u001b[0m\u001b[0m\n\u001b[0;32m-> 2065\u001b[0;31m         \u001b[0mself\u001b[0m\u001b[0;34m.\u001b[0m\u001b[0m_has_valid_tuple\u001b[0m\u001b[0;34m(\u001b[0m\u001b[0mtup\u001b[0m\u001b[0;34m)\u001b[0m\u001b[0;34m\u001b[0m\u001b[0;34m\u001b[0m\u001b[0m\n\u001b[0m\u001b[1;32m   2066\u001b[0m         \u001b[0;32mtry\u001b[0m\u001b[0;34m:\u001b[0m\u001b[0;34m\u001b[0m\u001b[0;34m\u001b[0m\u001b[0m\n\u001b[1;32m   2067\u001b[0m             \u001b[0;32mreturn\u001b[0m \u001b[0mself\u001b[0m\u001b[0;34m.\u001b[0m\u001b[0m_getitem_lowerdim\u001b[0m\u001b[0;34m(\u001b[0m\u001b[0mtup\u001b[0m\u001b[0;34m)\u001b[0m\u001b[0;34m\u001b[0m\u001b[0;34m\u001b[0m\u001b[0m\n",
      "\u001b[0;32m~/anaconda3/lib/python3.6/site-packages/pandas/core/indexing.py\u001b[0m in \u001b[0;36m_has_valid_tuple\u001b[0;34m(self, key)\u001b[0m\n\u001b[1;32m    700\u001b[0m                 \u001b[0;32mraise\u001b[0m \u001b[0mIndexingError\u001b[0m\u001b[0;34m(\u001b[0m\u001b[0;34m\"Too many indexers\"\u001b[0m\u001b[0;34m)\u001b[0m\u001b[0;34m\u001b[0m\u001b[0;34m\u001b[0m\u001b[0m\n\u001b[1;32m    701\u001b[0m             \u001b[0;32mtry\u001b[0m\u001b[0;34m:\u001b[0m\u001b[0;34m\u001b[0m\u001b[0;34m\u001b[0m\u001b[0m\n\u001b[0;32m--> 702\u001b[0;31m                 \u001b[0mself\u001b[0m\u001b[0;34m.\u001b[0m\u001b[0m_validate_key\u001b[0m\u001b[0;34m(\u001b[0m\u001b[0mk\u001b[0m\u001b[0;34m,\u001b[0m \u001b[0mi\u001b[0m\u001b[0;34m)\u001b[0m\u001b[0;34m\u001b[0m\u001b[0;34m\u001b[0m\u001b[0m\n\u001b[0m\u001b[1;32m    703\u001b[0m             \u001b[0;32mexcept\u001b[0m \u001b[0mValueError\u001b[0m\u001b[0;34m:\u001b[0m\u001b[0;34m\u001b[0m\u001b[0;34m\u001b[0m\u001b[0m\n\u001b[1;32m    704\u001b[0m                 raise ValueError(\n",
      "\u001b[0;32m~/anaconda3/lib/python3.6/site-packages/pandas/core/indexing.py\u001b[0m in \u001b[0;36m_validate_key\u001b[0;34m(self, key, axis)\u001b[0m\n\u001b[1;32m   1990\u001b[0m             \u001b[0;32mreturn\u001b[0m\u001b[0;34m\u001b[0m\u001b[0;34m\u001b[0m\u001b[0m\n\u001b[1;32m   1991\u001b[0m         \u001b[0;32melif\u001b[0m \u001b[0mis_integer\u001b[0m\u001b[0;34m(\u001b[0m\u001b[0mkey\u001b[0m\u001b[0;34m)\u001b[0m\u001b[0;34m:\u001b[0m\u001b[0;34m\u001b[0m\u001b[0;34m\u001b[0m\u001b[0m\n\u001b[0;32m-> 1992\u001b[0;31m             \u001b[0mself\u001b[0m\u001b[0;34m.\u001b[0m\u001b[0m_validate_integer\u001b[0m\u001b[0;34m(\u001b[0m\u001b[0mkey\u001b[0m\u001b[0;34m,\u001b[0m \u001b[0maxis\u001b[0m\u001b[0;34m)\u001b[0m\u001b[0;34m\u001b[0m\u001b[0;34m\u001b[0m\u001b[0m\n\u001b[0m\u001b[1;32m   1993\u001b[0m         \u001b[0;32melif\u001b[0m \u001b[0misinstance\u001b[0m\u001b[0;34m(\u001b[0m\u001b[0mkey\u001b[0m\u001b[0;34m,\u001b[0m \u001b[0mtuple\u001b[0m\u001b[0;34m)\u001b[0m\u001b[0;34m:\u001b[0m\u001b[0;34m\u001b[0m\u001b[0;34m\u001b[0m\u001b[0m\n\u001b[1;32m   1994\u001b[0m             \u001b[0;31m# a tuple should already have been caught by this point\u001b[0m\u001b[0;34m\u001b[0m\u001b[0;34m\u001b[0m\u001b[0;34m\u001b[0m\u001b[0m\n",
      "\u001b[0;32m~/anaconda3/lib/python3.6/site-packages/pandas/core/indexing.py\u001b[0m in \u001b[0;36m_validate_integer\u001b[0;34m(self, key, axis)\u001b[0m\n\u001b[1;32m   2059\u001b[0m         \u001b[0mlen_axis\u001b[0m \u001b[0;34m=\u001b[0m \u001b[0mlen\u001b[0m\u001b[0;34m(\u001b[0m\u001b[0mself\u001b[0m\u001b[0;34m.\u001b[0m\u001b[0mobj\u001b[0m\u001b[0;34m.\u001b[0m\u001b[0m_get_axis\u001b[0m\u001b[0;34m(\u001b[0m\u001b[0maxis\u001b[0m\u001b[0;34m)\u001b[0m\u001b[0;34m)\u001b[0m\u001b[0;34m\u001b[0m\u001b[0;34m\u001b[0m\u001b[0m\n\u001b[1;32m   2060\u001b[0m         \u001b[0;32mif\u001b[0m \u001b[0mkey\u001b[0m \u001b[0;34m>=\u001b[0m \u001b[0mlen_axis\u001b[0m \u001b[0;32mor\u001b[0m \u001b[0mkey\u001b[0m \u001b[0;34m<\u001b[0m \u001b[0;34m-\u001b[0m\u001b[0mlen_axis\u001b[0m\u001b[0;34m:\u001b[0m\u001b[0;34m\u001b[0m\u001b[0;34m\u001b[0m\u001b[0m\n\u001b[0;32m-> 2061\u001b[0;31m             \u001b[0;32mraise\u001b[0m \u001b[0mIndexError\u001b[0m\u001b[0;34m(\u001b[0m\u001b[0;34m\"single positional indexer is out-of-bounds\"\u001b[0m\u001b[0;34m)\u001b[0m\u001b[0;34m\u001b[0m\u001b[0;34m\u001b[0m\u001b[0m\n\u001b[0m\u001b[1;32m   2062\u001b[0m \u001b[0;34m\u001b[0m\u001b[0m\n\u001b[1;32m   2063\u001b[0m     \u001b[0;32mdef\u001b[0m \u001b[0m_getitem_tuple\u001b[0m\u001b[0;34m(\u001b[0m\u001b[0mself\u001b[0m\u001b[0;34m,\u001b[0m \u001b[0mtup\u001b[0m\u001b[0;34m:\u001b[0m \u001b[0mTuple\u001b[0m\u001b[0;34m)\u001b[0m\u001b[0;34m:\u001b[0m\u001b[0;34m\u001b[0m\u001b[0;34m\u001b[0m\u001b[0m\n",
      "\u001b[0;31mIndexError\u001b[0m: single positional indexer is out-of-bounds"
     ]
    }
   ],
   "source": [
    "# columns for matching personIDs by minimizing frame-to-frame location change\n",
    "EColumns = ['neck','midHip','nose']#,'elbR','elbL','wriL','wriR']\n",
    "EColumns = [l for l in itertools.chain.from_iterable([[c+'_x',c+'_y'] for c in EColumns])]\n",
    "\n",
    "S = os.listdir(jsonPath)\n",
    "for subj in ['1003']:#S:\n",
    "    F = os.listdir(jsonPath/subj)\n",
    "    T = list(np.unique([f.split('_')[0] for f in F]))\n",
    "    for task in ['SitStand']:#T:\n",
    "        if task[0] not in ['F','R']:\n",
    "            continue\n",
    "        F_t = [f for f in F if f.find(task)>-1]\n",
    "        C = list(np.unique([f.split('_')[1] for f in F_t]))\n",
    "        for cycle in ['1']:#C:\n",
    "            F_tc = [f for f in F_t if f.split('_')[1]==cycle]\n",
    "            prevFrame = None\n",
    "            print(subj,task,cycle)\n",
    "            df = pd.DataFrame()\n",
    "            for file in F_tc[:]:\n",
    "                frame = int(file.split('_')[2])\n",
    "                \n",
    "                with open(jsonPath/subj/file,'r') as f:\n",
    "                    data = json.load(f,object_hook=lambda x: DataParser(x,subj,task,cycle))['people']\n",
    "                data = pd.DataFrame(data)\n",
    "                data['PersonID'] = data.index.values\n",
    "                data['FrameID'] = frame\n",
    "                data['NPerson'] = len(data)\n",
    "                SimpPerson(data)\n",
    "                CheckOverlap(data)\n",
    "                \n",
    "                if prevFrame is not None:\n",
    "                    newID = CheckDist(data,prevFrame,EColumns)\n",
    "                    \n",
    "                    if len(np.unique(newID))<len(newID):\n",
    "                        print('Fail', frame)\n",
    "                        break\n",
    "                    \n",
    "                    data['PersonID'] = newID\n",
    "#                     print(newID,prevFrame.PersonID.values)\n",
    "                    \n",
    "                    for row in data.iterrows():\n",
    "                        ID = row[1].PersonID\n",
    "                        if all([np.isnan(v) for v in row[1].loc[EColumns].values]):\n",
    "                            continue\n",
    "                        if any(prevFrame.PersonID==ID):\n",
    "                            \n",
    "                            prevInd = prevFrame[prevFrame.PersonID==ID].index[0]\n",
    "                            \n",
    "                            # keep previous values for columns not identified this frame\n",
    "                            nanInds = list(row[1].index[row[1].isnull()])\n",
    "                            row[1].loc[nanInds] = prevFrame.loc[prevInd,nanInds]\n",
    "                            \n",
    "                            prevFrame.iloc[np.argmax(prevFrame.PersonID==ID),:] = row[1]\n",
    "                        else:\n",
    "                            prevFrame = pd.concat([prevFrame,data.loc[[row[0]],:]])\n",
    "                            print(frame,len(prevFrame))       \n",
    "                else:\n",
    "                    prevFrame = data\n",
    "                \n",
    "#                 print(prevFrame.loc[:,EColumns],data.loc[:,EColumns])\n",
    "                    \n",
    "                df = pd.concat([df,data])\n",
    "            \n",
    "            df.reset_index(drop=True,inplace=True)\n",
    "            \n",
    "            pickleSave('_'.join([subj,task,cycle+'.pkl']),df)\n",
    "            \n",
    "            # drop intermittent identifications (probably not real people)\n",
    "            counts = df.PersonID.value_counts()\n",
    "            mCounts = counts.mean()\n",
    "            for p in counts.index:\n",
    "                if counts[p]<mCounts/2:\n",
    "                    df.drop(index = df[df.PersonID==p].index,inplace=True)\n",
    "                    \n",
    "            df.reset_index(drop=True,inplace=True)\n",
    "            \n",
    "            RelLoc = KL[(KL.iloc[:,0]==int(subj)) & (KL.iloc[:,1]=='_'.join([task,cycle]))].iloc[0,9]\n",
    "            \n",
    "            PID = getPID(df,None,RelLoc)\n",
    "            \n",
    "            pickleSave('_'.join([subj,task,cycle,'Pat.pkl']),df[df.PersonID==PID].copy())"
   ]
  },
  {
   "cell_type": "code",
   "execution_count": 749,
   "metadata": {},
   "outputs": [
    {
     "data": {
      "text/plain": [
       "'SitStand'"
      ]
     },
     "execution_count": 749,
     "metadata": {},
     "output_type": "execute_result"
    }
   ],
   "source": [
    "task"
   ]
  },
  {
   "cell_type": "code",
   "execution_count": 747,
   "metadata": {},
   "outputs": [
    {
     "data": {
      "text/html": [
       "<div>\n",
       "<style scoped>\n",
       "    .dataframe tbody tr th:only-of-type {\n",
       "        vertical-align: middle;\n",
       "    }\n",
       "\n",
       "    .dataframe tbody tr th {\n",
       "        vertical-align: top;\n",
       "    }\n",
       "\n",
       "    .dataframe thead th {\n",
       "        text-align: right;\n",
       "    }\n",
       "</style>\n",
       "<table border=\"1\" class=\"dataframe\">\n",
       "  <thead>\n",
       "    <tr style=\"text-align: right;\">\n",
       "      <th></th>\n",
       "      <th>subject number</th>\n",
       "      <th>filename</th>\n",
       "      <th>original file order</th>\n",
       "      <th>Pose video exists</th>\n",
       "      <th>total number of people visible</th>\n",
       "      <th>people with more than 1/2 torso or face in frame at any time</th>\n",
       "      <th>subject stance</th>\n",
       "      <th>perspective</th>\n",
       "      <th>where is subject torso is relative to frame</th>\n",
       "      <th>subject torso relative to other people in frame</th>\n",
       "      <th>this body part and up are in frame</th>\n",
       "      <th>body part obstructed</th>\n",
       "      <th>obstructed by what?</th>\n",
       "      <th>lots of camera movement</th>\n",
       "      <th>notes</th>\n",
       "      <th>tracking quality (confidence)</th>\n",
       "    </tr>\n",
       "  </thead>\n",
       "  <tbody>\n",
       "  </tbody>\n",
       "</table>\n",
       "</div>"
      ],
      "text/plain": [
       "Empty DataFrame\n",
       "Columns: [subject number, filename, original file order, Pose video exists, total number of people visible, people with more than 1/2 torso or face in frame at any time, subject stance, perspective, where is subject torso is relative to frame, subject torso relative to other people in frame, this body part and up are in frame, body part obstructed, obstructed by what?, lots of camera movement, notes, tracking quality (confidence)]\n",
       "Index: []"
      ]
     },
     "execution_count": 747,
     "metadata": {},
     "output_type": "execute_result"
    }
   ],
   "source": [
    "KL[(KL.iloc[:,0]==int(subj)) & (KL.iloc[:,1]=='_'.join([task,cycle]))]"
   ]
  },
  {
   "cell_type": "code",
   "execution_count": 729,
   "metadata": {
    "scrolled": true
   },
   "outputs": [],
   "source": [
    "data0 = data.copy()"
   ]
  },
  {
   "cell_type": "code",
   "execution_count": 730,
   "metadata": {},
   "outputs": [
    {
     "data": {
      "text/html": [
       "<div>\n",
       "<style scoped>\n",
       "    .dataframe tbody tr th:only-of-type {\n",
       "        vertical-align: middle;\n",
       "    }\n",
       "\n",
       "    .dataframe tbody tr th {\n",
       "        vertical-align: top;\n",
       "    }\n",
       "\n",
       "    .dataframe thead th {\n",
       "        text-align: right;\n",
       "    }\n",
       "</style>\n",
       "<table border=\"1\" class=\"dataframe\">\n",
       "  <thead>\n",
       "    <tr style=\"text-align: right;\">\n",
       "      <th></th>\n",
       "      <th>neck_x</th>\n",
       "      <th>neck_y</th>\n",
       "      <th>midHip_x</th>\n",
       "      <th>midHip_y</th>\n",
       "      <th>nose_x</th>\n",
       "      <th>nose_y</th>\n",
       "    </tr>\n",
       "  </thead>\n",
       "  <tbody>\n",
       "    <tr>\n",
       "      <th>0</th>\n",
       "      <td>NaN</td>\n",
       "      <td>NaN</td>\n",
       "      <td>NaN</td>\n",
       "      <td>NaN</td>\n",
       "      <td>85.945</td>\n",
       "      <td>247.836</td>\n",
       "    </tr>\n",
       "    <tr>\n",
       "      <th>1</th>\n",
       "      <td>NaN</td>\n",
       "      <td>NaN</td>\n",
       "      <td>1307.27</td>\n",
       "      <td>130.071</td>\n",
       "      <td>NaN</td>\n",
       "      <td>NaN</td>\n",
       "    </tr>\n",
       "  </tbody>\n",
       "</table>\n",
       "</div>"
      ],
      "text/plain": [
       "   neck_x  neck_y  midHip_x  midHip_y  nose_x   nose_y\n",
       "0     NaN     NaN       NaN       NaN  85.945  247.836\n",
       "1     NaN     NaN   1307.27   130.071     NaN      NaN"
      ]
     },
     "execution_count": 730,
     "metadata": {},
     "output_type": "execute_result"
    }
   ],
   "source": [
    "data0.loc[:,EColumns]"
   ]
  },
  {
   "cell_type": "code",
   "execution_count": 731,
   "metadata": {},
   "outputs": [],
   "source": [
    "file = F_tc[22]\n",
    "with open(jsonPath/subj/file,'r') as f:\n",
    "    data = json.load(f,object_hook=lambda x: DataParser(x,subj,task,cycle))['people']\n",
    "data = pd.DataFrame(data)\n",
    "data['PersonID'] = data.index.values\n",
    "data['FrameID'] = 311\n",
    "data['NPerson'] = len(data)\n",
    "SimpPerson(data)\n",
    "CheckOverlap(data)"
   ]
  },
  {
   "cell_type": "code",
   "execution_count": 732,
   "metadata": {},
   "outputs": [
    {
     "data": {
      "text/html": [
       "<div>\n",
       "<style scoped>\n",
       "    .dataframe tbody tr th:only-of-type {\n",
       "        vertical-align: middle;\n",
       "    }\n",
       "\n",
       "    .dataframe tbody tr th {\n",
       "        vertical-align: top;\n",
       "    }\n",
       "\n",
       "    .dataframe thead th {\n",
       "        text-align: right;\n",
       "    }\n",
       "</style>\n",
       "<table border=\"1\" class=\"dataframe\">\n",
       "  <thead>\n",
       "    <tr style=\"text-align: right;\">\n",
       "      <th></th>\n",
       "      <th>neck_x</th>\n",
       "      <th>neck_y</th>\n",
       "      <th>midHip_x</th>\n",
       "      <th>midHip_y</th>\n",
       "      <th>nose_x</th>\n",
       "      <th>nose_y</th>\n",
       "      <th>PersonID</th>\n",
       "    </tr>\n",
       "  </thead>\n",
       "  <tbody>\n",
       "    <tr>\n",
       "      <th>0</th>\n",
       "      <td>NaN</td>\n",
       "      <td>NaN</td>\n",
       "      <td>NaN</td>\n",
       "      <td>NaN</td>\n",
       "      <td>85.945</td>\n",
       "      <td>247.836</td>\n",
       "      <td>0</td>\n",
       "    </tr>\n",
       "    <tr>\n",
       "      <th>1</th>\n",
       "      <td>NaN</td>\n",
       "      <td>NaN</td>\n",
       "      <td>1307.27</td>\n",
       "      <td>130.071</td>\n",
       "      <td>NaN</td>\n",
       "      <td>NaN</td>\n",
       "      <td>2</td>\n",
       "    </tr>\n",
       "  </tbody>\n",
       "</table>\n",
       "</div>"
      ],
      "text/plain": [
       "   neck_x  neck_y  midHip_x  midHip_y  nose_x   nose_y  PersonID\n",
       "0     NaN     NaN       NaN       NaN  85.945  247.836         0\n",
       "1     NaN     NaN   1307.27   130.071     NaN      NaN         2"
      ]
     },
     "execution_count": 732,
     "metadata": {},
     "output_type": "execute_result"
    }
   ],
   "source": [
    "data.loc[:,EColumns+['PersonID']]"
   ]
  },
  {
   "cell_type": "code",
   "execution_count": 733,
   "metadata": {},
   "outputs": [
    {
     "data": {
      "text/html": [
       "<div>\n",
       "<style scoped>\n",
       "    .dataframe tbody tr th:only-of-type {\n",
       "        vertical-align: middle;\n",
       "    }\n",
       "\n",
       "    .dataframe tbody tr th {\n",
       "        vertical-align: top;\n",
       "    }\n",
       "\n",
       "    .dataframe thead th {\n",
       "        text-align: right;\n",
       "    }\n",
       "</style>\n",
       "<table border=\"1\" class=\"dataframe\">\n",
       "  <thead>\n",
       "    <tr style=\"text-align: right;\">\n",
       "      <th></th>\n",
       "      <th>neck_x</th>\n",
       "      <th>neck_y</th>\n",
       "      <th>midHip_x</th>\n",
       "      <th>midHip_y</th>\n",
       "      <th>nose_x</th>\n",
       "      <th>nose_y</th>\n",
       "      <th>PersonID</th>\n",
       "    </tr>\n",
       "  </thead>\n",
       "  <tbody>\n",
       "    <tr>\n",
       "      <th>0</th>\n",
       "      <td>7.81107</td>\n",
       "      <td>489.10</td>\n",
       "      <td>1310.290</td>\n",
       "      <td>132.986</td>\n",
       "      <td>88.8605</td>\n",
       "      <td>247.776</td>\n",
       "      <td>0</td>\n",
       "    </tr>\n",
       "    <tr>\n",
       "      <th>1</th>\n",
       "      <td>7.82014</td>\n",
       "      <td>483.14</td>\n",
       "      <td>182.973</td>\n",
       "      <td>983.534</td>\n",
       "      <td>103.5700</td>\n",
       "      <td>247.697</td>\n",
       "      <td>1</td>\n",
       "    </tr>\n",
       "  </tbody>\n",
       "</table>\n",
       "</div>"
      ],
      "text/plain": [
       "    neck_x  neck_y  midHip_x  midHip_y    nose_x   nose_y  PersonID\n",
       "0  7.81107  489.10  1310.290   132.986   88.8605  247.776         0\n",
       "1  7.82014  483.14   182.973   983.534  103.5700  247.697         1"
      ]
     },
     "execution_count": 733,
     "metadata": {},
     "output_type": "execute_result"
    }
   ],
   "source": [
    "prevFrame.loc[:,EColumns+['PersonID']]"
   ]
  },
  {
   "cell_type": "code",
   "execution_count": 734,
   "metadata": {},
   "outputs": [
    {
     "data": {
      "text/plain": [
       "[0, 0]"
      ]
     },
     "execution_count": 734,
     "metadata": {},
     "output_type": "execute_result"
    }
   ],
   "source": [
    "newID = CheckDist(data,prevFrame,EColumns)\n",
    "newID"
   ]
  },
  {
   "cell_type": "code",
   "execution_count": 671,
   "metadata": {},
   "outputs": [
    {
     "data": {
      "text/plain": [
       "0"
      ]
     },
     "execution_count": 671,
     "metadata": {},
     "output_type": "execute_result"
    }
   ],
   "source": [
    "df.FrameID.max()"
   ]
  },
  {
   "cell_type": "code",
   "execution_count": 837,
   "metadata": {},
   "outputs": [],
   "source": [
    "D = pickleLoad('1005_FtnR_1_Pat.pkl')"
   ]
  },
  {
   "cell_type": "code",
   "execution_count": 838,
   "metadata": {},
   "outputs": [
    {
     "data": {
      "text/plain": [
       "array([1])"
      ]
     },
     "execution_count": 838,
     "metadata": {},
     "output_type": "execute_result"
    }
   ],
   "source": [
    "D.PersonID.unique()"
   ]
  },
  {
   "cell_type": "code",
   "execution_count": 839,
   "metadata": {},
   "outputs": [
    {
     "data": {
      "text/plain": [
       "<AxesSubplot:>"
      ]
     },
     "execution_count": 839,
     "metadata": {},
     "output_type": "execute_result"
    },
    {
     "data": {
      "image/png": "[encoded data removed]",
      "text/plain": [
       "<Figure size 432x288 with 1 Axes>"
      ]
     },
     "metadata": {
      "needs_background": "light"
     },
     "output_type": "display_data"
    }
   ],
   "source": [
    "D.reset_index().wriR_y.plot()"
   ]
  },
  {
   "cell_type": "code",
   "execution_count": 64,
   "metadata": {},
   "outputs": [],
   "source": [
    "import numpy as np\n",
    "import scipy"
   ]
  },
  {
   "cell_type": "code",
   "execution_count": 73,
   "metadata": {},
   "outputs": [
    {
     "data": {
      "text/plain": [
       "0.8997922691537554"
      ]
     },
     "execution_count": 73,
     "metadata": {},
     "output_type": "execute_result"
    }
   ],
   "source": [
    "scipy.stats.norm.cdf(1.28036879933)"
   ]
  },
  {
   "cell_type": "code",
   "execution_count": 743,
   "metadata": {},
   "outputs": [],
   "source": [
    "import cv2\n",
    "path = BoxPath/'OpenPose'/'outputvideoKE'/'1003'/'FtnR_3.avi'\n",
    "cap = cv2.VideoCapture(str(path.absolute()))\n",
    "cap.set(cv2.CAP_PROP_POS_FRAMES, 22-1)\n",
    "res, frame = cap.read()"
   ]
  },
  {
   "cell_type": "code",
   "execution_count": 744,
   "metadata": {},
   "outputs": [
    {
     "data": {
      "text/plain": [
       "<matplotlib.image.AxesImage at 0x7fa117479ba8>"
      ]
     },
     "execution_count": 744,
     "metadata": {},
     "output_type": "execute_result"
    },
    {
     "data": {
      "image/png": "[encoded data removed]",
      "text/plain": [
       "<Figure size 432x288 with 1 Axes>"
      ]
     },
     "metadata": {
      "needs_background": "light"
     },
     "output_type": "display_data"
    }
   ],
   "source": [
    "import matplotlib.pyplot as plt\n",
    "\n",
    "plt.imshow(frame)"
   ]
  },
  {
   "cell_type": "code",
   "execution_count": 332,
   "metadata": {},
   "outputs": [],
   "source": [
    "A1 = 2*np.pi/11"
   ]
  },
  {
   "cell_type": "code",
   "execution_count": 336,
   "metadata": {},
   "outputs": [],
   "source": [
    "Y_in = np.sin(A1*np.linspace(0,11,12))\n",
    "X_in = np.cos(A1*np.linspace(0,11,12))"
   ]
  },
  {
   "cell_type": "code",
   "execution_count": 339,
   "metadata": {},
   "outputs": [],
   "source": [
    "offset = A1*3/2\n",
    "Y_out = 2*np.sin(A1*np.linspace(0,10,11)+offset)\n",
    "X_out = 2*np.cos(A1*np.linspace(0,10,11)+offset)"
   ]
  },
  {
   "cell_type": "code",
   "execution_count": 345,
   "metadata": {},
   "outputs": [
    {
     "data": {
      "text/plain": [
       "[<matplotlib.lines.Line2D at 0x7fa15053de10>]"
      ]
     },
     "execution_count": 345,
     "metadata": {},
     "output_type": "execute_result"
    },
    {
     "data": {
      "image/png": "[encoded data removed]",
      "text/plain": [
       "<Figure size 432x288 with 1 Axes>"
      ]
     },
     "metadata": {
      "needs_background": "light"
     },
     "output_type": "display_data"
    }
   ],
   "source": [
    "plt.plot(X_in,Y_in)"
   ]
  },
  {
   "cell_type": "code",
   "execution_count": 342,
   "metadata": {},
   "outputs": [],
   "source": [
    "X = []\n",
    "Y = []\n",
    "for i in range(len(Y_out)):\n",
    "    Y+=[Y_in[i], Y_out[i]]\n",
    "    X+=[X_in[i], X_out[i]]\n",
    "    \n",
    "X.append(X_in[-1])\n",
    "Y.append(Y_in[-1])"
   ]
  },
  {
   "cell_type": "code",
   "execution_count": 344,
   "metadata": {},
   "outputs": [
    {
     "data": {
      "text/plain": [
       "[<matplotlib.lines.Line2D at 0x7fa14e0331d0>]"
      ]
     },
     "execution_count": 344,
     "metadata": {},
     "output_type": "execute_result"
    },
    {
     "data": {
      "image/png": "[encoded data removed]",
      "text/plain": [
       "<Figure size 432x288 with 1 Axes>"
      ]
     },
     "metadata": {
      "needs_background": "light"
     },
     "output_type": "display_data"
    }
   ],
   "source": [
    "plt.plot(X,Y)"
   ]
  },
  {
   "cell_type": "code",
   "execution_count": 352,
   "metadata": {},
   "outputs": [],
   "source": [
    "offset = A1*4/2\n",
    "Y_out = 2*np.sin(A1*np.linspace(0,10,11)+offset)\n",
    "X_out = 2*np.cos(A1*np.linspace(0,10,11)+offset)"
   ]
  },
  {
   "cell_type": "code",
   "execution_count": 353,
   "metadata": {},
   "outputs": [],
   "source": [
    "X = []\n",
    "Y = []\n",
    "for i in range(0,44,4):\n",
    "    i = np.mod(i,11)\n",
    "    Y+=[Y_in[i], Y_out[i]]\n",
    "    X+=[X_in[i], X_out[i]]\n",
    "    \n",
    "X.append(X_in[-1])\n",
    "Y.append(Y_in[-1])"
   ]
  },
  {
   "cell_type": "code",
   "execution_count": 355,
   "metadata": {},
   "outputs": [
    {
     "data": {
      "text/plain": [
       "<matplotlib.collections.PathCollection at 0x7fa150599898>"
      ]
     },
     "execution_count": 355,
     "metadata": {},
     "output_type": "execute_result"
    },
    {
     "data": {
      "image/png": "[encoded data removed]",
      "text/plain": [
       "<Figure size 432x288 with 1 Axes>"
      ]
     },
     "metadata": {
      "needs_background": "light"
     },
     "output_type": "display_data"
    }
   ],
   "source": [
    "plt.plot(X,Y)\n",
    "plt.scatter(X[:-1],Y[:-1])"
   ]
  },
  {
   "cell_type": "code",
   "execution_count": 519,
   "metadata": {},
   "outputs": [],
   "source": [
    "def plotShape(n1,n2):\n",
    "    A1 = 2*np.pi/n1\n",
    "    \n",
    "    Y_in = np.sin(A1*np.linspace(0,n1,n1+1))\n",
    "    X_in = np.cos(A1*np.linspace(0,n1,n1+1))\n",
    "    \n",
    "    offset = A1*n2/2\n",
    "    Y_out = 10*np.sin(A1*np.linspace(0,n1-1,n1)+offset)\n",
    "    X_out = 10*np.cos(A1*np.linspace(0,n1-1,n1)+offset)\n",
    "    \n",
    "    X = []\n",
    "    Y = []\n",
    "    for i in range(0,n1*n2,n2):\n",
    "        i = np.mod(i,n1)\n",
    "        Y+=[Y_in[i], Y_out[i]]\n",
    "        X+=[X_in[i], X_out[i]]\n",
    "\n",
    "    X.append(X_in[-1])\n",
    "    Y.append(Y_in[-1])\n",
    "    \n",
    "    plt.plot(X,Y)\n",
    "    plt.scatter(X[:-1],Y[:-1])"
   ]
  },
  {
   "cell_type": "code",
   "execution_count": 378,
   "metadata": {},
   "outputs": [
    {
     "data": {
      "image/png": "[encoded data removed]",
      "text/plain": [
       "<Figure size 432x288 with 1 Axes>"
      ]
     },
     "metadata": {
      "needs_background": "light"
     },
     "output_type": "display_data"
    }
   ],
   "source": [
    "plotShape(9,4)"
   ]
  },
  {
   "cell_type": "code",
   "execution_count": 520,
   "metadata": {},
   "outputs": [
    {
     "data": {
      "image/png": "[encoded data removed]",
      "text/plain": [
       "<Figure size 432x288 with 1 Axes>"
      ]
     },
     "metadata": {
      "needs_background": "light"
     },
     "output_type": "display_data"
    }
   ],
   "source": [
    "plotShape(7,4)"
   ]
  },
  {
   "cell_type": "code",
   "execution_count": null,
   "metadata": {},
   "outputs": [],
   "source": []
  }
 ],
 "metadata": {
  "kernelspec": {
   "display_name": "Python 3",
   "language": "python",
   "name": "python3"
  },
  "language_info": {
   "codemirror_mode": {
    "name": "ipython",
    "version": 3
   },
   "file_extension": ".py",
   "mimetype": "text/x-python",
   "name": "python",
   "nbconvert_exporter": "python",
   "pygments_lexer": "ipython3",
   "version": "3.6.12"
  }
 },
 "nbformat": 4,
 "nbformat_minor": 4
}
