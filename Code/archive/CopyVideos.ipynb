{
 "cells": [
  {
   "cell_type": "code",
   "execution_count": 1,
   "metadata": {},
   "outputs": [],
   "source": [
    "import os\n",
    "from os.path import isfile, join\n",
    "from pathlib import Path\n",
    "import numpy as np\n",
    "from zipfile import ZipFile\n",
    "from shutil import copyfile"
   ]
  },
  {
   "cell_type": "markdown",
   "metadata": {},
   "source": [
    "### the videos to use for train/valid to be copied over the Linux machine"
   ]
  },
  {
   "cell_type": "code",
   "execution_count": 2,
   "metadata": {},
   "outputs": [],
   "source": [
    "basepath = Path('/Users/luca/Box/CISPD_Videos_proc/Edited/')\n",
    "fullfiles = []\n",
    "# dirs = os.listdir(basepath) #all subjs\n",
    "dirs = [1004, 1009, 1019, 1023, 1039, 1043, 1044, 1047, 1049, 1050, 1052, 1054, 1055, 1056]\n",
    "for s in dirs:\n",
    "    s = Path(str(s))\n",
    "#     fullfiles.append([basepath/s/Path(f) for f in os.listdir(basepath/s) if 'RamR_1' in f or 'RamR_2' in f]) #train\n",
    "    fullfiles.append([basepath/s/Path(f) for f in os.listdir(basepath/s) if 'RamR_3' in f or 'RamR_4' in f]) #test"
   ]
  },
  {
   "cell_type": "code",
   "execution_count": 3,
   "metadata": {},
   "outputs": [
    {
     "data": {
      "text/plain": [
       "[[],\n",
       " [PosixPath('/Users/luca/Box/CISPD_Videos_proc/Edited/1009/RamR_3.mp4')],\n",
       " [PosixPath('/Users/luca/Box/CISPD_Videos_proc/Edited/1019/RamR_3.mp4')],\n",
       " [PosixPath('/Users/luca/Box/CISPD_Videos_proc/Edited/1023/RamR_3.mp4')],\n",
       " [PosixPath('/Users/luca/Box/CISPD_Videos_proc/Edited/1039/RamR_3.mp4')],\n",
       " [PosixPath('/Users/luca/Box/CISPD_Videos_proc/Edited/1043/RamR_3.mp4')],\n",
       " [PosixPath('/Users/luca/Box/CISPD_Videos_proc/Edited/1044/RamR_3.mp4')],\n",
       " [PosixPath('/Users/luca/Box/CISPD_Videos_proc/Edited/1047/RamR_3.mp4')],\n",
       " [PosixPath('/Users/luca/Box/CISPD_Videos_proc/Edited/1049/RamR_3.mp4')],\n",
       " [PosixPath('/Users/luca/Box/CISPD_Videos_proc/Edited/1050/RamR_3.mp4')],\n",
       " [PosixPath('/Users/luca/Box/CISPD_Videos_proc/Edited/1052/RamR_4.mp4')],\n",
       " [PosixPath('/Users/luca/Box/CISPD_Videos_proc/Edited/1054/RamR_3.mp4')],\n",
       " [PosixPath('/Users/luca/Box/CISPD_Videos_proc/Edited/1055/RamR_3.mp4')],\n",
       " []]"
      ]
     },
     "execution_count": 3,
     "metadata": {},
     "output_type": "execute_result"
    }
   ],
   "source": [
    "fullfiles"
   ]
  },
  {
   "cell_type": "code",
   "execution_count": 4,
   "metadata": {},
   "outputs": [
    {
     "name": "stdout",
     "output_type": "stream",
     "text": [
      "file not found\n",
      "1009_RamR_3.mp4\n",
      "1019_RamR_3.mp4\n",
      "1023_RamR_3.mp4\n",
      "1039_RamR_3.mp4\n",
      "1043_RamR_3.mp4\n",
      "1044_RamR_3.mp4\n",
      "1047_RamR_3.mp4\n",
      "1049_RamR_3.mp4\n",
      "1050_RamR_3.mp4\n",
      "1052_RamR_4.mp4\n",
      "1054_RamR_3.mp4\n",
      "1055_RamR_3.mp4\n",
      "file not found\n"
     ]
    }
   ],
   "source": [
    "#copy locally \n",
    "for fullfile in fullfiles:\n",
    "    try:\n",
    "        f = fullfile[0]\n",
    "        f = f.as_posix()\n",
    "        subj = f.split('/')[-2]\n",
    "        file = f.split('/')[-1]\n",
    "        newfile =  subj + '_' + file\n",
    "        print(newfile)\n",
    "        !cp {f} /Users/luca/Projects/RIC/VideosPD_test/{newfile}\n",
    "    except(IndexError):\n",
    "        print('file not found')\n"
   ]
  },
  {
   "cell_type": "code",
   "execution_count": 5,
   "metadata": {},
   "outputs": [
    {
     "name": "stdout",
     "output_type": "stream",
     "text": [
      "file not found\n",
      "1009_RamR_3.mp4\n",
      "RamR_3.mp4                                    100%   32MB   6.6MB/s   00:04    \n",
      "1019_RamR_3.mp4\n",
      "RamR_3.mp4                                    100%   40MB   3.1MB/s   00:12    \n",
      "1023_RamR_3.mp4\n",
      "RamR_3.mp4                                    100%   17MB   2.1MB/s   00:08    \n",
      "1039_RamR_3.mp4\n",
      "RamR_3.mp4                                    100% 9854KB   3.2MB/s   00:03    \n",
      "1043_RamR_3.mp4\n",
      "RamR_3.mp4                                    100%   10MB   2.0MB/s   00:04    \n",
      "1044_RamR_3.mp4\n",
      "RamR_3.mp4                                    100%   39MB   4.3MB/s   00:09    \n",
      "1047_RamR_3.mp4\n",
      "RamR_3.mp4                                    100%   40MB   2.4MB/s   00:16    \n",
      "1049_RamR_3.mp4\n",
      "RamR_3.mp4                                    100%   38MB   5.7MB/s   00:06    \n",
      "1050_RamR_3.mp4\n",
      "RamR_3.mp4                                    100%   31MB   5.6MB/s   00:05    \n",
      "1052_RamR_4.mp4\n",
      "RamR_4.mp4                                    100%   47MB   4.8MB/s   00:09    \n",
      "1054_RamR_3.mp4\n",
      "RamR_3.mp4                                    100%   23MB   4.7MB/s   00:05    \n",
      "1055_RamR_3.mp4\n",
      "RamR_3.mp4                                    100%   37MB   3.7MB/s   00:10    \n",
      "file not found\n"
     ]
    }
   ],
   "source": [
    "#copy train video files\n",
    "for fullfile in fullfiles:\n",
    "    try:\n",
    "        f = fullfile[0]\n",
    "        f = f.as_posix()\n",
    "        subj = f.split('/')[-2]\n",
    "        file = f.split('/')[-1]\n",
    "        newfile =  subj + '_' + file\n",
    "        print(newfile)\n",
    "#         !scp {f} l_lonini01@10.30.75.78:/home/l_lonini01/VideosPD/{newfile}\n",
    "        !scp {f} l_lonini01@10.30.75.78:/home/l_lonini01/VideosPD_test/{newfile}\n",
    "#         !scp {fullfiles[0][0].as_posix()} l_lonini01@10.30.75.78:/home/l_lonini01/VideosPD/test/{newfile}\n",
    "\n",
    "    except(IndexError):\n",
    "        print('file not found')\n"
   ]
  },
  {
   "cell_type": "code",
   "execution_count": 10,
   "metadata": {},
   "outputs": [],
   "source": [
    "# # create a ZipFile object\n",
    "# zipObj = ZipFile('sample.zip', 'w')\n",
    " \n",
    "# # Add multiple files to the zip\n",
    "# zipObj.write(fullfiles[0][0])\n",
    " \n",
    "# # close the Zip File\n",
    "# zipObj.close()"
   ]
  },
  {
   "cell_type": "markdown",
   "metadata": {},
   "source": [
    "## Copy videos to label"
   ]
  },
  {
   "cell_type": "code",
   "execution_count": 2,
   "metadata": {},
   "outputs": [],
   "source": [
    "basepath = Path('/Users/luca/Box/CISPD_Videos_proc/Edited/')\n",
    "subjids = os.listdir(basepath)"
   ]
  },
  {
   "cell_type": "code",
   "execution_count": 3,
   "metadata": {},
   "outputs": [],
   "source": [
    "allvideos = []\n",
    "for s in subjids:\n",
    "    videos = os.listdir(basepath/s)\n",
    "    allvideos.append([basepath/s/v for v in videos if 'Ram' in v])"
   ]
  },
  {
   "cell_type": "code",
   "execution_count": 4,
   "metadata": {},
   "outputs": [],
   "source": [
    "#flatten the list\n",
    "allvideos_flat = []\n",
    "for sublist in allvideos:\n",
    "    for item in sublist:\n",
    "        allvideos_flat.append(item.as_posix())"
   ]
  },
  {
   "cell_type": "code",
   "execution_count": 5,
   "metadata": {},
   "outputs": [],
   "source": [
    "videosR = [v for v in allvideos_flat if 'RamR' in v]\n",
    "videosL = [v for v in allvideos_flat if 'RamL' in v]"
   ]
  },
  {
   "cell_type": "code",
   "execution_count": 13,
   "metadata": {},
   "outputs": [
    {
     "name": "stdout",
     "output_type": "stream",
     "text": [
      "/Users/luca/Box/CISPD_Videos_proc/Edited/1007/RamR_1.mp4\n",
      "/Users/luca/Box/CISPD_Videos_proc/VideosToLabel/RamR/1007_RamR_1.mp4\n",
      "/Users/luca/Box/CISPD_Videos_proc/Edited/1007/RamR_3.mp4\n",
      "/Users/luca/Box/CISPD_Videos_proc/VideosToLabel/RamR/1007_RamR_3.mp4\n",
      "/Users/luca/Box/CISPD_Videos_proc/Edited/1009/RamR_3.mp4\n",
      "/Users/luca/Box/CISPD_Videos_proc/VideosToLabel/RamR/1009_RamR_3.mp4\n",
      "/Users/luca/Box/CISPD_Videos_proc/Edited/1016/RamR_1.mp4\n",
      "/Users/luca/Box/CISPD_Videos_proc/VideosToLabel/RamR/1016_RamR_1.mp4\n",
      "/Users/luca/Box/CISPD_Videos_proc/Edited/1016/RamR_3.mp4\n",
      "/Users/luca/Box/CISPD_Videos_proc/VideosToLabel/RamR/1016_RamR_3.mp4\n",
      "/Users/luca/Box/CISPD_Videos_proc/Edited/1018/RamR_1.mp4\n",
      "/Users/luca/Box/CISPD_Videos_proc/VideosToLabel/RamR/1018_RamR_1.mp4\n",
      "/Users/luca/Box/CISPD_Videos_proc/Edited/1018/RamR_3.mp4\n",
      "/Users/luca/Box/CISPD_Videos_proc/VideosToLabel/RamR/1018_RamR_3.mp4\n",
      "/Users/luca/Box/CISPD_Videos_proc/Edited/1019/RamR_1.mp4\n",
      "/Users/luca/Box/CISPD_Videos_proc/VideosToLabel/RamR/1019_RamR_1.mp4\n",
      "/Users/luca/Box/CISPD_Videos_proc/Edited/1019/RamR_3.mp4\n",
      "/Users/luca/Box/CISPD_Videos_proc/VideosToLabel/RamR/1019_RamR_3.mp4\n",
      "/Users/luca/Box/CISPD_Videos_proc/Edited/1020/RamR_1.mp4\n",
      "/Users/luca/Box/CISPD_Videos_proc/VideosToLabel/RamR/1020_RamR_1.mp4\n",
      "/Users/luca/Box/CISPD_Videos_proc/Edited/1020/RamR_3.mp4\n",
      "/Users/luca/Box/CISPD_Videos_proc/VideosToLabel/RamR/1020_RamR_3.mp4\n",
      "/Users/luca/Box/CISPD_Videos_proc/Edited/1023/RamR_1.mp4\n",
      "/Users/luca/Box/CISPD_Videos_proc/VideosToLabel/RamR/1023_RamR_1.mp4\n",
      "/Users/luca/Box/CISPD_Videos_proc/Edited/1023/RamR_3.mp4\n",
      "/Users/luca/Box/CISPD_Videos_proc/VideosToLabel/RamR/1023_RamR_3.mp4\n",
      "/Users/luca/Box/CISPD_Videos_proc/Edited/1024/RamR_1.mp4\n",
      "/Users/luca/Box/CISPD_Videos_proc/VideosToLabel/RamR/1024_RamR_1.mp4\n",
      "/Users/luca/Box/CISPD_Videos_proc/Edited/1024/RamR_3.mp4\n",
      "/Users/luca/Box/CISPD_Videos_proc/VideosToLabel/RamR/1024_RamR_3.mp4\n",
      "/Users/luca/Box/CISPD_Videos_proc/Edited/1029/RamR_1.mp4\n",
      "/Users/luca/Box/CISPD_Videos_proc/VideosToLabel/RamR/1029_RamR_1.mp4\n",
      "/Users/luca/Box/CISPD_Videos_proc/Edited/1029/RamR_3.mp4\n",
      "/Users/luca/Box/CISPD_Videos_proc/VideosToLabel/RamR/1029_RamR_3.mp4\n",
      "/Users/luca/Box/CISPD_Videos_proc/Edited/1030/RamR_1.mp4\n",
      "/Users/luca/Box/CISPD_Videos_proc/VideosToLabel/RamR/1030_RamR_1.mp4\n",
      "/Users/luca/Box/CISPD_Videos_proc/Edited/1030/RamR_3.mp4\n",
      "/Users/luca/Box/CISPD_Videos_proc/VideosToLabel/RamR/1030_RamR_3.mp4\n",
      "/Users/luca/Box/CISPD_Videos_proc/Edited/1032/RamR_1.mp4\n",
      "/Users/luca/Box/CISPD_Videos_proc/VideosToLabel/RamR/1032_RamR_1.mp4\n",
      "/Users/luca/Box/CISPD_Videos_proc/Edited/1032/RamR_3.mp4\n",
      "/Users/luca/Box/CISPD_Videos_proc/VideosToLabel/RamR/1032_RamR_3.mp4\n",
      "/Users/luca/Box/CISPD_Videos_proc/Edited/1038/RamR_1.mp4\n",
      "/Users/luca/Box/CISPD_Videos_proc/VideosToLabel/RamR/1038_RamR_1.mp4\n",
      "/Users/luca/Box/CISPD_Videos_proc/Edited/1038/RamR_3.mp4\n",
      "/Users/luca/Box/CISPD_Videos_proc/VideosToLabel/RamR/1038_RamR_3.mp4\n",
      "/Users/luca/Box/CISPD_Videos_proc/Edited/1039/RamR_1.mp4\n",
      "/Users/luca/Box/CISPD_Videos_proc/VideosToLabel/RamR/1039_RamR_1.mp4\n",
      "/Users/luca/Box/CISPD_Videos_proc/Edited/1039/RamR_3.mp4\n",
      "/Users/luca/Box/CISPD_Videos_proc/VideosToLabel/RamR/1039_RamR_3.mp4\n",
      "/Users/luca/Box/CISPD_Videos_proc/Edited/1043/RamR_1.mp4\n",
      "/Users/luca/Box/CISPD_Videos_proc/VideosToLabel/RamR/1043_RamR_1.mp4\n",
      "/Users/luca/Box/CISPD_Videos_proc/Edited/1043/RamR_3.mp4\n",
      "/Users/luca/Box/CISPD_Videos_proc/VideosToLabel/RamR/1043_RamR_3.mp4\n",
      "/Users/luca/Box/CISPD_Videos_proc/Edited/1044/RamR_1.mp4\n",
      "/Users/luca/Box/CISPD_Videos_proc/VideosToLabel/RamR/1044_RamR_1.mp4\n",
      "/Users/luca/Box/CISPD_Videos_proc/Edited/1044/RamR_3.mp4\n",
      "/Users/luca/Box/CISPD_Videos_proc/VideosToLabel/RamR/1044_RamR_3.mp4\n",
      "/Users/luca/Box/CISPD_Videos_proc/Edited/1046/RamR_1.mp4\n",
      "/Users/luca/Box/CISPD_Videos_proc/VideosToLabel/RamR/1046_RamR_1.mp4\n",
      "/Users/luca/Box/CISPD_Videos_proc/Edited/1046/RamR_3.mp4\n",
      "/Users/luca/Box/CISPD_Videos_proc/VideosToLabel/RamR/1046_RamR_3.mp4\n",
      "/Users/luca/Box/CISPD_Videos_proc/Edited/1047/RamR_1.mp4\n",
      "/Users/luca/Box/CISPD_Videos_proc/VideosToLabel/RamR/1047_RamR_1.mp4\n",
      "/Users/luca/Box/CISPD_Videos_proc/Edited/1047/RamR_3.mp4\n",
      "/Users/luca/Box/CISPD_Videos_proc/VideosToLabel/RamR/1047_RamR_3.mp4\n",
      "/Users/luca/Box/CISPD_Videos_proc/Edited/1049/RamR_1.mp4\n",
      "/Users/luca/Box/CISPD_Videos_proc/VideosToLabel/RamR/1049_RamR_1.mp4\n",
      "/Users/luca/Box/CISPD_Videos_proc/Edited/1049/RamR_3.mp4\n",
      "/Users/luca/Box/CISPD_Videos_proc/VideosToLabel/RamR/1049_RamR_3.mp4\n",
      "/Users/luca/Box/CISPD_Videos_proc/Edited/1050/RamR_2.mp4\n",
      "/Users/luca/Box/CISPD_Videos_proc/VideosToLabel/RamR/1050_RamR_2.mp4\n",
      "/Users/luca/Box/CISPD_Videos_proc/Edited/1050/RamR_3.mp4\n",
      "/Users/luca/Box/CISPD_Videos_proc/VideosToLabel/RamR/1050_RamR_3.mp4\n",
      "/Users/luca/Box/CISPD_Videos_proc/Edited/1051/RamR_1.mp4\n",
      "/Users/luca/Box/CISPD_Videos_proc/VideosToLabel/RamR/1051_RamR_1.mp4\n",
      "/Users/luca/Box/CISPD_Videos_proc/Edited/1051/RamR_3.mp4\n",
      "/Users/luca/Box/CISPD_Videos_proc/VideosToLabel/RamR/1051_RamR_3.mp4\n",
      "/Users/luca/Box/CISPD_Videos_proc/Edited/1052/RamR_2.mp4\n",
      "/Users/luca/Box/CISPD_Videos_proc/VideosToLabel/RamR/1052_RamR_2.mp4\n",
      "/Users/luca/Box/CISPD_Videos_proc/Edited/1052/RamR_4.mp4\n",
      "/Users/luca/Box/CISPD_Videos_proc/VideosToLabel/RamR/1052_RamR_4.mp4\n",
      "/Users/luca/Box/CISPD_Videos_proc/Edited/1053/RamR_2.mp4\n",
      "/Users/luca/Box/CISPD_Videos_proc/VideosToLabel/RamR/1053_RamR_2.mp4\n",
      "/Users/luca/Box/CISPD_Videos_proc/Edited/1054/RamR_2.mp4\n",
      "/Users/luca/Box/CISPD_Videos_proc/VideosToLabel/RamR/1054_RamR_2.mp4\n",
      "/Users/luca/Box/CISPD_Videos_proc/Edited/1054/RamR_3.mp4\n",
      "/Users/luca/Box/CISPD_Videos_proc/VideosToLabel/RamR/1054_RamR_3.mp4\n",
      "/Users/luca/Box/CISPD_Videos_proc/Edited/1055/RamR_1.mp4\n",
      "/Users/luca/Box/CISPD_Videos_proc/VideosToLabel/RamR/1055_RamR_1.mp4\n",
      "/Users/luca/Box/CISPD_Videos_proc/Edited/1055/RamR_3.mp4\n",
      "/Users/luca/Box/CISPD_Videos_proc/VideosToLabel/RamR/1055_RamR_3.mp4\n",
      "/Users/luca/Box/CISPD_Videos_proc/Edited/1056/RamR_1.mp4\n",
      "/Users/luca/Box/CISPD_Videos_proc/VideosToLabel/RamR/1056_RamR_1.mp4\n",
      "/Users/luca/Box/CISPD_Videos_proc/Edited/1056/RamR_2.mp4\n",
      "/Users/luca/Box/CISPD_Videos_proc/VideosToLabel/RamR/1056_RamR_2.mp4\n"
     ]
    }
   ],
   "source": [
    "dstpath = Path('/Users/luca/Box/CISPD_Videos_proc/VideosToLabel/RamR')\n",
    "# dstpath = Path('/Users/luca/Box/CISPD_Videos_proc/VideosToLabel/RamL')\n",
    "for f in videosR:\n",
    "# for f in videosL:\n",
    "    subj = f.split('/')[-2]\n",
    "    file = f.split('/')[-1]\n",
    "    dest = dstpath / (subj + '_' + file)\n",
    "    src = f\n",
    "    print(src); print(dest)\n",
    "    copyfile(src, dest)"
   ]
  },
  {
   "cell_type": "code",
   "execution_count": null,
   "metadata": {},
   "outputs": [],
   "source": []
  }
 ],
 "metadata": {
  "kernelspec": {
   "display_name": "Python 3",
   "language": "python",
   "name": "python3"
  },
  "language_info": {
   "codemirror_mode": {
    "name": "ipython",
    "version": 3
   },
   "file_extension": ".py",
   "mimetype": "text/x-python",
   "name": "python",
   "nbconvert_exporter": "python",
   "pygments_lexer": "ipython3",
   "version": "3.7.6"
  }
 },
 "nbformat": 4,
 "nbformat_minor": 2
}
