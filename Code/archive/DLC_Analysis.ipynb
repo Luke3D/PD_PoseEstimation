{
 "cells": [
  {
   "cell_type": "code",
   "execution_count": 56,
   "metadata": {},
   "outputs": [],
   "source": [
    "import numpy as np\n",
    "import pandas as pd\n",
    "import os\n",
    "from path import Path\n",
    "import matplotlib.pylab as plt\n",
    "%matplotlib inline"
   ]
  },
  {
   "cell_type": "code",
   "execution_count": 4,
   "metadata": {},
   "outputs": [],
   "source": [
    "csvfiles = os.listdir('../RamR-HumanPreTrain-2020-03-16/VideosPD_analyzed/')\n",
    "csvfiles = [c for c in csvfiles if c.endswith('.csv')]"
   ]
  },
  {
   "cell_type": "code",
   "execution_count": 5,
   "metadata": {},
   "outputs": [
    {
     "data": {
      "text/plain": [
       "['1050_RamR_2downsampledDLC_resnet101_RamRMar16shuffle1_500000.csv',\n",
       " '1056_RamR_1downsampledDLC_resnet101_RamRMar16shuffle1_500000.csv']"
      ]
     },
     "execution_count": 5,
     "metadata": {},
     "output_type": "execute_result"
    }
   ],
   "source": [
    "csvfiles[:2]"
   ]
  },
  {
   "cell_type": "code",
   "execution_count": 86,
   "metadata": {},
   "outputs": [
    {
     "name": "stdout",
     "output_type": "stream",
     "text": [
      "1043_RamR_1downsampledDLC_resnet101_RamRMar16shuffle1_500000.csv\n"
     ]
    }
   ],
   "source": [
    "f = csvfiles[2]\n",
    "pose = pd.read_csv('../RamR-HumanPreTrain-2020-03-16/VideosPD_analyzed/'+f, header=1)\n",
    "print(f)\n",
    "pose = pose.iloc[1:,:]\n",
    "pose = pose.astype(float)\n",
    "pose.drop('bodyparts',axis=1, inplace=True)"
   ]
  },
  {
   "cell_type": "code",
   "execution_count": 87,
   "metadata": {},
   "outputs": [
    {
     "data": {
      "text/html": [
       "<div>\n",
       "<style scoped>\n",
       "    .dataframe tbody tr th:only-of-type {\n",
       "        vertical-align: middle;\n",
       "    }\n",
       "\n",
       "    .dataframe tbody tr th {\n",
       "        vertical-align: top;\n",
       "    }\n",
       "\n",
       "    .dataframe thead th {\n",
       "        text-align: right;\n",
       "    }\n",
       "</style>\n",
       "<table border=\"1\" class=\"dataframe\">\n",
       "  <thead>\n",
       "    <tr style=\"text-align: right;\">\n",
       "      <th></th>\n",
       "      <th>ankle1</th>\n",
       "      <th>ankle1.1</th>\n",
       "      <th>ankle1.2</th>\n",
       "      <th>knee1</th>\n",
       "      <th>knee1.1</th>\n",
       "      <th>knee1.2</th>\n",
       "      <th>hip1</th>\n",
       "      <th>hip1.1</th>\n",
       "      <th>hip1.2</th>\n",
       "      <th>hip2</th>\n",
       "      <th>...</th>\n",
       "      <th>handR.2</th>\n",
       "      <th>thumbR</th>\n",
       "      <th>thumbR.1</th>\n",
       "      <th>thumbR.2</th>\n",
       "      <th>indexR</th>\n",
       "      <th>indexR.1</th>\n",
       "      <th>indexR.2</th>\n",
       "      <th>pinkyR</th>\n",
       "      <th>pinkyR.1</th>\n",
       "      <th>pinkyR.2</th>\n",
       "    </tr>\n",
       "  </thead>\n",
       "  <tbody>\n",
       "    <tr>\n",
       "      <th>1</th>\n",
       "      <td>89.677818</td>\n",
       "      <td>187.504242</td>\n",
       "      <td>0.000014</td>\n",
       "      <td>90.533783</td>\n",
       "      <td>176.023819</td>\n",
       "      <td>1.0</td>\n",
       "      <td>103.367683</td>\n",
       "      <td>143.388718</td>\n",
       "      <td>1.0</td>\n",
       "      <td>135.202240</td>\n",
       "      <td>...</td>\n",
       "      <td>1.0</td>\n",
       "      <td>118.308685</td>\n",
       "      <td>60.359879</td>\n",
       "      <td>1.0</td>\n",
       "      <td>114.472000</td>\n",
       "      <td>51.272587</td>\n",
       "      <td>1.0</td>\n",
       "      <td>101.049171</td>\n",
       "      <td>47.483376</td>\n",
       "      <td>1.0</td>\n",
       "    </tr>\n",
       "    <tr>\n",
       "      <th>2</th>\n",
       "      <td>87.397385</td>\n",
       "      <td>174.693298</td>\n",
       "      <td>0.000021</td>\n",
       "      <td>90.831680</td>\n",
       "      <td>175.626892</td>\n",
       "      <td>1.0</td>\n",
       "      <td>103.279968</td>\n",
       "      <td>143.448807</td>\n",
       "      <td>1.0</td>\n",
       "      <td>135.098022</td>\n",
       "      <td>...</td>\n",
       "      <td>1.0</td>\n",
       "      <td>118.693642</td>\n",
       "      <td>60.239738</td>\n",
       "      <td>1.0</td>\n",
       "      <td>114.721916</td>\n",
       "      <td>50.726345</td>\n",
       "      <td>1.0</td>\n",
       "      <td>101.099258</td>\n",
       "      <td>46.728188</td>\n",
       "      <td>1.0</td>\n",
       "    </tr>\n",
       "    <tr>\n",
       "      <th>3</th>\n",
       "      <td>87.014610</td>\n",
       "      <td>174.855453</td>\n",
       "      <td>0.000018</td>\n",
       "      <td>90.593704</td>\n",
       "      <td>175.903290</td>\n",
       "      <td>1.0</td>\n",
       "      <td>103.282677</td>\n",
       "      <td>143.415009</td>\n",
       "      <td>1.0</td>\n",
       "      <td>135.037262</td>\n",
       "      <td>...</td>\n",
       "      <td>1.0</td>\n",
       "      <td>118.733582</td>\n",
       "      <td>59.530876</td>\n",
       "      <td>1.0</td>\n",
       "      <td>114.581001</td>\n",
       "      <td>49.694866</td>\n",
       "      <td>1.0</td>\n",
       "      <td>100.641342</td>\n",
       "      <td>46.180832</td>\n",
       "      <td>1.0</td>\n",
       "    </tr>\n",
       "    <tr>\n",
       "      <th>4</th>\n",
       "      <td>89.671288</td>\n",
       "      <td>187.509232</td>\n",
       "      <td>0.000012</td>\n",
       "      <td>90.104790</td>\n",
       "      <td>176.464828</td>\n",
       "      <td>1.0</td>\n",
       "      <td>103.182526</td>\n",
       "      <td>143.364044</td>\n",
       "      <td>1.0</td>\n",
       "      <td>135.103455</td>\n",
       "      <td>...</td>\n",
       "      <td>1.0</td>\n",
       "      <td>118.458397</td>\n",
       "      <td>59.084339</td>\n",
       "      <td>1.0</td>\n",
       "      <td>114.326729</td>\n",
       "      <td>49.533253</td>\n",
       "      <td>1.0</td>\n",
       "      <td>99.962372</td>\n",
       "      <td>46.397892</td>\n",
       "      <td>1.0</td>\n",
       "    </tr>\n",
       "    <tr>\n",
       "      <th>5</th>\n",
       "      <td>91.752937</td>\n",
       "      <td>205.226013</td>\n",
       "      <td>0.000009</td>\n",
       "      <td>88.673180</td>\n",
       "      <td>177.146530</td>\n",
       "      <td>1.0</td>\n",
       "      <td>103.335121</td>\n",
       "      <td>143.413071</td>\n",
       "      <td>1.0</td>\n",
       "      <td>135.048050</td>\n",
       "      <td>...</td>\n",
       "      <td>1.0</td>\n",
       "      <td>117.254799</td>\n",
       "      <td>53.416782</td>\n",
       "      <td>1.0</td>\n",
       "      <td>114.589188</td>\n",
       "      <td>45.464539</td>\n",
       "      <td>1.0</td>\n",
       "      <td>100.226509</td>\n",
       "      <td>48.748280</td>\n",
       "      <td>1.0</td>\n",
       "    </tr>\n",
       "  </tbody>\n",
       "</table>\n",
       "<p>5 rows × 66 columns</p>\n",
       "</div>"
      ],
      "text/plain": [
       "      ankle1    ankle1.1  ankle1.2      knee1     knee1.1  knee1.2  \\\n",
       "1  89.677818  187.504242  0.000014  90.533783  176.023819      1.0   \n",
       "2  87.397385  174.693298  0.000021  90.831680  175.626892      1.0   \n",
       "3  87.014610  174.855453  0.000018  90.593704  175.903290      1.0   \n",
       "4  89.671288  187.509232  0.000012  90.104790  176.464828      1.0   \n",
       "5  91.752937  205.226013  0.000009  88.673180  177.146530      1.0   \n",
       "\n",
       "         hip1      hip1.1  hip1.2        hip2    ...     handR.2      thumbR  \\\n",
       "1  103.367683  143.388718     1.0  135.202240    ...         1.0  118.308685   \n",
       "2  103.279968  143.448807     1.0  135.098022    ...         1.0  118.693642   \n",
       "3  103.282677  143.415009     1.0  135.037262    ...         1.0  118.733582   \n",
       "4  103.182526  143.364044     1.0  135.103455    ...         1.0  118.458397   \n",
       "5  103.335121  143.413071     1.0  135.048050    ...         1.0  117.254799   \n",
       "\n",
       "    thumbR.1  thumbR.2      indexR   indexR.1  indexR.2      pinkyR  \\\n",
       "1  60.359879       1.0  114.472000  51.272587       1.0  101.049171   \n",
       "2  60.239738       1.0  114.721916  50.726345       1.0  101.099258   \n",
       "3  59.530876       1.0  114.581001  49.694866       1.0  100.641342   \n",
       "4  59.084339       1.0  114.326729  49.533253       1.0   99.962372   \n",
       "5  53.416782       1.0  114.589188  45.464539       1.0  100.226509   \n",
       "\n",
       "    pinkyR.1  pinkyR.2  \n",
       "1  47.483376       1.0  \n",
       "2  46.728188       1.0  \n",
       "3  46.180832       1.0  \n",
       "4  46.397892       1.0  \n",
       "5  48.748280       1.0  \n",
       "\n",
       "[5 rows x 66 columns]"
      ]
     },
     "execution_count": 87,
     "metadata": {},
     "output_type": "execute_result"
    }
   ],
   "source": [
    "pose.head()"
   ]
  },
  {
   "cell_type": "code",
   "execution_count": 88,
   "metadata": {},
   "outputs": [],
   "source": [
    "cols = [c for c in pose.columns if '.2' in c]\n",
    "likelihoods = pose[cols]"
   ]
  },
  {
   "cell_type": "code",
   "execution_count": 90,
   "metadata": {},
   "outputs": [],
   "source": [
    "# likelihoods.plot(figsize=(12,4))"
   ]
  },
  {
   "cell_type": "code",
   "execution_count": 91,
   "metadata": {},
   "outputs": [
    {
     "data": {
      "text/plain": [
       "<Figure size 432x288 with 0 Axes>"
      ]
     },
     "metadata": {},
     "output_type": "display_data"
    },
    {
     "data": {
      "image/png": "[encoded data removed]",
      "text/plain": [
       "<Figure size 864x864 with 25 Axes>"
      ]
     },
     "metadata": {
      "needs_background": "light"
     },
     "output_type": "display_data"
    }
   ],
   "source": [
    "ax = plt.figure()\n",
    "ax=likelihoods.hist(figsize=(12,12), sharex=True)"
   ]
  },
  {
   "cell_type": "code",
   "execution_count": 94,
   "metadata": {},
   "outputs": [
    {
     "data": {
      "text/plain": [
       "[<matplotlib.lines.Line2D at 0x127bae518>]"
      ]
     },
     "execution_count": 94,
     "metadata": {},
     "output_type": "execute_result"
    },
    {
     "data": {
      "image/png": "[encoded data removed]",
      "text/plain": [
       "<Figure size 432x288 with 1 Axes>"
      ]
     },
     "metadata": {
      "needs_background": "light"
     },
     "output_type": "display_data"
    }
   ],
   "source": [
    "t = pose.index.values/30\n",
    "plt.plot(t,pose['indexR'].values)"
   ]
  },
  {
   "cell_type": "code",
   "execution_count": null,
   "metadata": {},
   "outputs": [],
   "source": [
    "\n"
   ]
  }
 ],
 "metadata": {
  "kernelspec": {
   "display_name": "Python 3",
   "language": "python",
   "name": "python3"
  },
  "language_info": {
   "codemirror_mode": {
    "name": "ipython",
    "version": 3
   },
   "file_extension": ".py",
   "mimetype": "text/x-python",
   "name": "python",
   "nbconvert_exporter": "python",
   "pygments_lexer": "ipython3",
   "version": "3.7.1"
  }
 },
 "nbformat": 4,
 "nbformat_minor": 2
}
