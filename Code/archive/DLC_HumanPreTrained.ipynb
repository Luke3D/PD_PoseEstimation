{
 "cells": [
  {
   "cell_type": "code",
   "execution_count": 2,
   "metadata": {},
   "outputs": [
    {
     "name": "stderr",
     "output_type": "stream",
     "text": [
      "C:\\Users\\llonini\\AppData\\Local\\Continuum\\anaconda3\\envs\\dlc_cudnn74\\lib\\site-packages\\statsmodels\\tools\\_testing.py:19: FutureWarning: pandas.util.testing is deprecated. Use the functions in the public API at pandas.testing instead.\n",
      "  import pandas.util.testing as tm\n"
     ]
    }
   ],
   "source": [
    "import deeplabcut\n",
    "import os\n",
    "from pathlib import Path"
   ]
  },
  {
   "cell_type": "code",
   "execution_count": 3,
   "metadata": {},
   "outputs": [],
   "source": [
    "video_path = 'c:\\\\Users\\\\llonini\\\\Desktop\\\\DLC_Human_1043\\\\RamR_3.mp4'\n",
    "\n",
    "Task = 'RamR3'\n",
    "YourName = 'LL'\n",
    "videotype = 'mp4'"
   ]
  },
  {
   "cell_type": "code",
   "execution_count": 4,
   "metadata": {},
   "outputs": [
    {
     "data": {
      "text/plain": [
       "'c:\\\\Users\\\\llonini\\\\Desktop\\\\DLC_Human_1043\\\\RamR_3.mp4'"
      ]
     },
     "execution_count": 4,
     "metadata": {},
     "output_type": "execute_result"
    }
   ],
   "source": [
    "video_path"
   ]
  },
  {
   "cell_type": "code",
   "execution_count": 5,
   "metadata": {},
   "outputs": [
    {
     "data": {
      "text/plain": [
       "'RamR_3'"
      ]
     },
     "execution_count": 5,
     "metadata": {},
     "output_type": "execute_result"
    }
   ],
   "source": [
    "str(Path(video_path).stem)"
   ]
  },
  {
   "cell_type": "code",
   "execution_count": 6,
   "metadata": {},
   "outputs": [
    {
     "name": "stdout",
     "output_type": "stream",
     "text": [
      "RamR_3downsampled.mp4\n"
     ]
    }
   ],
   "source": [
    "videopath2 = os.path.join(str(Path(video_path).stem)+'downsampled.'+videotype)\n",
    "print(videopath2)"
   ]
  },
  {
   "cell_type": "code",
   "execution_count": 7,
   "metadata": {},
   "outputs": [
    {
     "name": "stdout",
     "output_type": "stream",
     "text": [
      "c:\\Users\\llonini\\Desktop\\DLC_Human_1043\\RamR_3downsampled.mp4\n"
     ]
    }
   ],
   "source": [
    "videopath2 = r'c:\\Users\\llonini\\Desktop\\DLC_Human_1043\\RamR_3downsampled.mp4'\n",
    "print(videopath2)"
   ]
  },
  {
   "cell_type": "code",
   "execution_count": 6,
   "metadata": {},
   "outputs": [
    {
     "name": "stdout",
     "output_type": "stream",
     "text": [
      "Downsampling and saving to name c:\\Users\\llonini\\Desktop\\DLC_Human_1043\\RamR_3downsampled.mp4\n"
     ]
    },
    {
     "data": {
      "text/plain": [
       "'c:\\\\Users\\\\llonini\\\\Desktop\\\\DLC_Human_1043\\\\RamR_3downsampled.mp4'"
      ]
     },
     "execution_count": 6,
     "metadata": {},
     "output_type": "execute_result"
    }
   ],
   "source": [
    "deeplabcut.DownSampleVideo(video_path, width=250)"
   ]
  },
  {
   "cell_type": "code",
   "execution_count": 17,
   "metadata": {},
   "outputs": [],
   "source": [
    "??deeplabcut.DownSampleVideo"
   ]
  },
  {
   "cell_type": "code",
   "execution_count": 8,
   "metadata": {},
   "outputs": [
    {
     "name": "stdout",
     "output_type": "stream",
     "text": [
      "Created \"C:\\Users\\llonini\\Documents\\PD_Video\\Code\\RamR3-LL-2020-02-04\\videos\"\n",
      "Created \"C:\\Users\\llonini\\Documents\\PD_Video\\Code\\RamR3-LL-2020-02-04\\labeled-data\"\n",
      "Created \"C:\\Users\\llonini\\Documents\\PD_Video\\Code\\RamR3-LL-2020-02-04\\training-datasets\"\n",
      "Created \"C:\\Users\\llonini\\Documents\\PD_Video\\Code\\RamR3-LL-2020-02-04\\dlc-models\"\n",
      "Copying the videos\n",
      "C:\\Users\\llonini\\Documents\\PD_Video\\Code\\RamR3-LL-2020-02-04\\videos\\RamR_3downsampled.mp4\n",
      "Generated \"C:\\Users\\llonini\\Documents\\PD_Video\\Code\\RamR3-LL-2020-02-04\\config.yaml\"\n",
      "\n",
      "A new project with name RamR3-LL-2020-02-04 is created at C:\\Users\\llonini\\Documents\\PD_Video\\Code and a configurable file (config.yaml) is stored there. Change the parameters in this file to adapt to your project's needs.\n",
      " Once you have changed the configuration file, use the function 'extract_frames' to select frames for labeling.\n",
      ". [OPTIONAL] Use the function 'add_new_videos' to add new videos to your project (at any stage).\n",
      "Checking if the weights are already available, otherwise I will download them!\n",
      "Using snapshot-103000 for model C:\\Users\\llonini\\Documents\\PD_Video\\Code\\RamR3-LL-2020-02-04\\dlc-models\\iteration-0\\RamR3Feb4-trainset95shuffle1\n",
      "Initializing ResNet\n",
      "WARNING:tensorflow:From C:\\Users\\llonini\\AppData\\Local\\Continuum\\anaconda3\\envs\\dlc_cudnn74\\lib\\site-packages\\tensorflow\\python\\framework\\op_def_library.py:263: colocate_with (from tensorflow.python.framework.ops) is deprecated and will be removed in a future version.\n",
      "Instructions for updating:\n",
      "Colocations handled automatically by placer.\n"
     ]
    },
    {
     "name": "stderr",
     "output_type": "stream",
     "text": [
      "WARNING:tensorflow:From C:\\Users\\llonini\\AppData\\Local\\Continuum\\anaconda3\\envs\\dlc_cudnn74\\lib\\site-packages\\tensorflow\\python\\framework\\op_def_library.py:263: colocate_with (from tensorflow.python.framework.ops) is deprecated and will be removed in a future version.\n",
      "Instructions for updating:\n",
      "Colocations handled automatically by placer.\n"
     ]
    },
    {
     "name": "stdout",
     "output_type": "stream",
     "text": [
      "WARNING:tensorflow:From C:\\Users\\llonini\\AppData\\Local\\Continuum\\anaconda3\\envs\\dlc_cudnn74\\lib\\site-packages\\tensorflow\\python\\training\\saver.py:1266: checkpoint_exists (from tensorflow.python.training.checkpoint_management) is deprecated and will be removed in a future version.\n",
      "Instructions for updating:\n",
      "Use standard file APIs to check for files with this prefix.\n"
     ]
    },
    {
     "name": "stderr",
     "output_type": "stream",
     "text": [
      "WARNING:tensorflow:From C:\\Users\\llonini\\AppData\\Local\\Continuum\\anaconda3\\envs\\dlc_cudnn74\\lib\\site-packages\\tensorflow\\python\\training\\saver.py:1266: checkpoint_exists (from tensorflow.python.training.checkpoint_management) is deprecated and will be removed in a future version.\n",
      "Instructions for updating:\n",
      "Use standard file APIs to check for files with this prefix.\n"
     ]
    },
    {
     "name": "stdout",
     "output_type": "stream",
     "text": [
      "INFO:tensorflow:Restoring parameters from C:\\Users\\llonini\\Documents\\PD_Video\\Code\\RamR3-LL-2020-02-04\\dlc-models\\iteration-0\\RamR3Feb4-trainset95shuffle1\\train\\snapshot-103000\n"
     ]
    },
    {
     "name": "stderr",
     "output_type": "stream",
     "text": [
      "INFO:tensorflow:Restoring parameters from C:\\Users\\llonini\\Documents\\PD_Video\\Code\\RamR3-LL-2020-02-04\\dlc-models\\iteration-0\\RamR3Feb4-trainset95shuffle1\\train\\snapshot-103000\n",
      "  0%|                                                                                          | 0/504 [00:00<?, ?it/s]"
     ]
    },
    {
     "name": "stdout",
     "output_type": "stream",
     "text": [
      "Analyzing all the videos in the directory\n",
      "Starting to analyze %  RamR_3downsampled.mp4\n",
      "Loading  RamR_3downsampled.mp4\n",
      "Duration of video [s]:  16.82 , recorded with  29.97 fps!\n",
      "Overall # of frames:  504  found with (before cropping) frame dimensions:  250 200\n",
      "Starting to extract posture\n"
     ]
    },
    {
     "name": "stderr",
     "output_type": "stream",
     "text": [
      "510it [00:04, 111.16it/s]                                                                                              \n"
     ]
    },
    {
     "name": "stdout",
     "output_type": "stream",
     "text": [
      "Detected frames:  504\n",
      "Saving results in ....\n"
     ]
    },
    {
     "name": "stderr",
     "output_type": "stream",
     "text": [
      "\r",
      "  0%|                                                                                          | 0/504 [00:00<?, ?it/s]"
     ]
    },
    {
     "name": "stdout",
     "output_type": "stream",
     "text": [
      "Saving csv poses!\n",
      "The videos are analyzed. Now your research can truly start! \n",
      " You can create labeled videos with 'create_labeled_video'.\n",
      "If the tracking is not satisfactory for some videos, consider expanding the training set. You can use the function 'extract_outlier_frames' to extract any outlier frames!\n",
      "Analyzing all the videos in the directory\n",
      "Starting %  . ['C:\\\\Users\\\\llonini\\\\Documents\\\\PD_Video\\\\Code\\\\RamR3-LL-2020-02-04\\\\videos']\n",
      "Loading  RamR_3downsampled.mp4 and data.\n",
      "504\n",
      "Duration of video [s]:  16.82 , recorded with  29.97 fps!\n",
      "Overall # of frames:  504 with cropped frame dimensions:  250 200\n",
      "Generating frames and creating video.\n"
     ]
    },
    {
     "name": "stderr",
     "output_type": "stream",
     "text": [
      "100%|███████████████████████████████████████████████████████████████████████████████| 504/504 [00:03<00:00, 145.82it/s]\n"
     ]
    },
    {
     "name": "stdout",
     "output_type": "stream",
     "text": [
      "Analyzing all the videos in the directory\n",
      "RamR_3downsampled.mp4\n",
      "Starting %  . RamR_3downsampled.mp4\n",
      "Loading  RamR_3downsampled.mp4 and data.\n",
      ".  already exists!\n",
      "Plots created! Please check the directory \"plot-poses\" within the video directory\n"
     ]
    },
    {
     "data": {
      "text/plain": [
       "('C:\\\\Users\\\\llonini\\\\Documents\\\\PD_Video\\\\Code\\\\RamR3-LL-2020-02-04\\\\config.yaml',\n",
       " 'C:\\\\Users\\\\llonini\\\\Documents\\\\PD_Video\\\\Code\\\\RamR3-LL-2020-02-04\\\\dlc-models\\\\iteration-0\\\\RamR3Feb4-trainset95shuffle1\\\\train\\\\pose_cfg.yaml')"
      ]
     },
     "execution_count": 8,
     "metadata": {},
     "output_type": "execute_result"
    }
   ],
   "source": [
    "deeplabcut.create_pretrained_human_project(Task, YourName, [r'c:\\Users\\llonini\\Desktop\\DLC_Human_1043\\RamR_3downsampled.mp4'], videotype=videotype,\n",
    "                                           analyzevideo=True, createlabeledvideo=True, copy_videos=True) #must leave copy_videos=True)"
   ]
  },
  {
   "cell_type": "code",
   "execution_count": 8,
   "metadata": {},
   "outputs": [],
   "source": [
    "??deeplabcut.create_pretrained_human_project"
   ]
  },
  {
   "cell_type": "code",
   "execution_count": null,
   "metadata": {},
   "outputs": [],
   "source": []
  }
 ],
 "metadata": {
  "kernelspec": {
   "display_name": "Python [conda env:dlc_cudnn74] *",
   "language": "python",
   "name": "conda-env-dlc_cudnn74-py"
  },
  "language_info": {
   "codemirror_mode": {
    "name": "ipython",
    "version": 3
   },
   "file_extension": ".py",
   "mimetype": "text/x-python",
   "name": "python",
   "nbconvert_exporter": "python",
   "pygments_lexer": "ipython3",
   "version": "3.6.10"
  }
 },
 "nbformat": 4,
 "nbformat_minor": 4
}
