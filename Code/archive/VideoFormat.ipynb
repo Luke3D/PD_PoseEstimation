{
 "cells": [
  {
   "cell_type": "code",
   "execution_count": 25,
   "metadata": {},
   "outputs": [],
   "source": [
    "import numpy as np\n",
    "import cv2\n",
    "from pathlib import Path\n",
    "import numpy as np\n",
    "import os\n",
    "import deeplabcut"
   ]
  },
  {
   "cell_type": "code",
   "execution_count": 8,
   "metadata": {},
   "outputs": [],
   "source": [
    "videospath = Path('/Users/luca/Projects/RIC/VideosPD')"
   ]
  },
  {
   "cell_type": "code",
   "execution_count": 24,
   "metadata": {},
   "outputs": [
    {
     "name": "stdout",
     "output_type": "stream",
     "text": [
      "/Users/luca/Projects/RIC/VideosPD/1039_RamR_1.mp4 (720, 1280, 3)\n",
      "/Users/luca/Projects/RIC/VideosPD/1047_RamR_1.mp4 (1080, 1920, 3)\n",
      "/Users/luca/Projects/RIC/VideosPD/1056_RamR_1.mp4 (1080, 1920, 3)\n",
      "/Users/luca/Projects/RIC/VideosPD/1004_RamR_1.mp4 (480, 854, 3)\n",
      "/Users/luca/Projects/RIC/VideosPD/1054_RamR_2.mp4 (1080, 1920, 3)\n",
      "/Users/luca/Projects/RIC/VideosPD/1052_RamR_2.mp4 (1080, 1920, 3)\n",
      "/Users/luca/Projects/RIC/VideosPD/1043_RamR_1.mp4 (540, 960, 3)\n",
      "/Users/luca/Projects/RIC/VideosPD/1044_RamR_1.mp4 (1080, 1920, 3)\n",
      "/Users/luca/Projects/RIC/VideosPD/1049_RamR_1.mp4 (1080, 1920, 3)\n",
      "/Users/luca/Projects/RIC/VideosPD/1055_RamR_1.mp4 (1080, 1920, 3)\n",
      "/Users/luca/Projects/RIC/VideosPD/1019_RamR_1.mp4 (1080, 1920, 3)\n",
      "/Users/luca/Projects/RIC/VideosPD/1023_RamR_1.mp4 (720, 1280, 3)\n",
      "/Users/luca/Projects/RIC/VideosPD/1050_RamR_2.mp4 (1080, 1920, 3)\n"
     ]
    }
   ],
   "source": [
    "for file in files:\n",
    "    f = videospath / file\n",
    "    cap = cv2.VideoCapture(f.as_posix())\n",
    "    ret, frame = cap.read()\n",
    "    print(f, frame.shape)\n",
    "    height, width, _ = frame.shape\n",
    "    cap.release()\n",
    "    cv2.destroyAllWindows()"
   ]
  },
  {
   "cell_type": "code",
   "execution_count": null,
   "metadata": {},
   "outputs": [],
   "source": []
  }
 ],
 "metadata": {
  "kernelspec": {
   "display_name": "Python [conda env:DLC-CPU] *",
   "language": "python",
   "name": "conda-env-DLC-CPU-py"
  },
  "language_info": {
   "codemirror_mode": {
    "name": "ipython",
    "version": 3
   },
   "file_extension": ".py",
   "mimetype": "text/x-python",
   "name": "python",
   "nbconvert_exporter": "python",
   "pygments_lexer": "ipython3",
   "version": "3.7.7"
  }
 },
 "nbformat": 4,
 "nbformat_minor": 4
}
