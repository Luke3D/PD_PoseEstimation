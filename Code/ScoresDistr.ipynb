{
 "cells": [
  {
   "cell_type": "code",
   "execution_count": 1,
   "metadata": {},
   "outputs": [],
   "source": [
    "import numpy as np\n",
    "import pandas as pd\n",
    "import os\n",
    "import matplotlib.pylab as plt\n",
    "import seaborn as sns\n",
    "%matplotlib inline"
   ]
  },
  {
   "cell_type": "code",
   "execution_count": 1,
   "metadata": {},
   "outputs": [],
   "source": [
    "%matplotlib notebook"
   ]
  },
  {
   "cell_type": "code",
   "execution_count": 2,
   "metadata": {
    "scrolled": true
   },
   "outputs": [
    {
     "data": {
      "text/plain": [
       "['ALLCRFS.pdf', 'form101.h5', 'Table3.csv', 'Table4.csv', 'videoID.csv']"
      ]
     },
     "execution_count": 2,
     "metadata": {},
     "output_type": "execute_result"
    }
   ],
   "source": [
    "os.listdir('../Metadata/')"
   ]
  },
  {
   "cell_type": "code",
   "execution_count": 3,
   "metadata": {},
   "outputs": [],
   "source": [
    "scores = pd.read_csv('../Metadata/Table4.csv')\n",
    "scores.query('Visit != \"1 Month\"', inplace=True) #remove 1M scores (no videos)"
   ]
  },
  {
   "cell_type": "code",
   "execution_count": 4,
   "metadata": {
    "scrolled": true
   },
   "outputs": [
    {
     "data": {
      "text/html": [
       "<div>\n",
       "<style scoped>\n",
       "    .dataframe tbody tr th:only-of-type {\n",
       "        vertical-align: middle;\n",
       "    }\n",
       "\n",
       "    .dataframe tbody tr th {\n",
       "        vertical-align: top;\n",
       "    }\n",
       "\n",
       "    .dataframe thead th {\n",
       "        text-align: right;\n",
       "    }\n",
       "</style>\n",
       "<table border=\"1\" class=\"dataframe\">\n",
       "  <thead>\n",
       "    <tr style=\"text-align: right;\">\n",
       "      <th></th>\n",
       "      <th>SubjID</th>\n",
       "      <th>Visit</th>\n",
       "      <th>Task</th>\n",
       "      <th>TaskAbb</th>\n",
       "      <th>Start Timestamp (UTC)</th>\n",
       "      <th>Stop Timestamp (UTC)</th>\n",
       "      <th>Tremor - Left</th>\n",
       "      <th>Tremor - Right</th>\n",
       "      <th>Bradykinesia - Left</th>\n",
       "      <th>Bradykinesia - Right</th>\n",
       "      <th>Dyskinesia - Left</th>\n",
       "      <th>Dyskinesia - Right</th>\n",
       "      <th>Overall</th>\n",
       "      <th>Validated</th>\n",
       "      <th>Side</th>\n",
       "    </tr>\n",
       "  </thead>\n",
       "  <tbody>\n",
       "    <tr>\n",
       "      <td>0</td>\n",
       "      <td>1003</td>\n",
       "      <td>2 Weeks: Time 0</td>\n",
       "      <td>Taking a glass of water and drinking</td>\n",
       "      <td>Drnkg</td>\n",
       "      <td>52:57.1</td>\n",
       "      <td>53:32.8</td>\n",
       "      <td>1.0</td>\n",
       "      <td>1.0</td>\n",
       "      <td>1.0</td>\n",
       "      <td>1.0</td>\n",
       "      <td>0.0</td>\n",
       "      <td>0.0</td>\n",
       "      <td>1.0</td>\n",
       "      <td>True</td>\n",
       "      <td>Left</td>\n",
       "    </tr>\n",
       "    <tr>\n",
       "      <td>1</td>\n",
       "      <td>1003</td>\n",
       "      <td>2 Weeks: Time 0</td>\n",
       "      <td>Drawing on a paper</td>\n",
       "      <td>Drwg</td>\n",
       "      <td>47:43.9</td>\n",
       "      <td>47:59.8</td>\n",
       "      <td>1.0</td>\n",
       "      <td>0.0</td>\n",
       "      <td>0.0</td>\n",
       "      <td>2.0</td>\n",
       "      <td>0.0</td>\n",
       "      <td>0.0</td>\n",
       "      <td>1.0</td>\n",
       "      <td>True</td>\n",
       "      <td>Left</td>\n",
       "    </tr>\n",
       "    <tr>\n",
       "      <td>2</td>\n",
       "      <td>1003</td>\n",
       "      <td>2 Weeks: Time 0</td>\n",
       "      <td>Folding towels</td>\n",
       "      <td>Fldg</td>\n",
       "      <td>56:49.2</td>\n",
       "      <td>57:38.6</td>\n",
       "      <td>1.0</td>\n",
       "      <td>1.0</td>\n",
       "      <td>1.0</td>\n",
       "      <td>1.0</td>\n",
       "      <td>0.0</td>\n",
       "      <td>0.0</td>\n",
       "      <td>1.0</td>\n",
       "      <td>True</td>\n",
       "      <td>Left</td>\n",
       "    </tr>\n",
       "    <tr>\n",
       "      <td>3</td>\n",
       "      <td>1003</td>\n",
       "      <td>2 Weeks: Time 0</td>\n",
       "      <td>Finger to nose--left hand</td>\n",
       "      <td>FtnL</td>\n",
       "      <td>41:52.7</td>\n",
       "      <td>42:22.3</td>\n",
       "      <td>1.0</td>\n",
       "      <td>0.0</td>\n",
       "      <td>1.0</td>\n",
       "      <td>NaN</td>\n",
       "      <td>0.0</td>\n",
       "      <td>0.0</td>\n",
       "      <td>1.0</td>\n",
       "      <td>True</td>\n",
       "      <td>Left</td>\n",
       "    </tr>\n",
       "    <tr>\n",
       "      <td>4</td>\n",
       "      <td>1003</td>\n",
       "      <td>2 Weeks: Time 0</td>\n",
       "      <td>Finger to nose--right hand</td>\n",
       "      <td>FtnR</td>\n",
       "      <td>41:11.9</td>\n",
       "      <td>41:43.8</td>\n",
       "      <td>0.0</td>\n",
       "      <td>1.0</td>\n",
       "      <td>NaN</td>\n",
       "      <td>1.0</td>\n",
       "      <td>0.0</td>\n",
       "      <td>0.0</td>\n",
       "      <td>1.0</td>\n",
       "      <td>True</td>\n",
       "      <td>Left</td>\n",
       "    </tr>\n",
       "  </tbody>\n",
       "</table>\n",
       "</div>"
      ],
      "text/plain": [
       "   SubjID            Visit                                  Task TaskAbb  \\\n",
       "0    1003  2 Weeks: Time 0  Taking a glass of water and drinking   Drnkg   \n",
       "1    1003  2 Weeks: Time 0                    Drawing on a paper    Drwg   \n",
       "2    1003  2 Weeks: Time 0                        Folding towels    Fldg   \n",
       "3    1003  2 Weeks: Time 0             Finger to nose--left hand    FtnL   \n",
       "4    1003  2 Weeks: Time 0            Finger to nose--right hand    FtnR   \n",
       "\n",
       "  Start Timestamp (UTC) Stop Timestamp (UTC)  Tremor - Left  Tremor - Right  \\\n",
       "0               52:57.1              53:32.8            1.0             1.0   \n",
       "1               47:43.9              47:59.8            1.0             0.0   \n",
       "2               56:49.2              57:38.6            1.0             1.0   \n",
       "3               41:52.7              42:22.3            1.0             0.0   \n",
       "4               41:11.9              41:43.8            0.0             1.0   \n",
       "\n",
       "   Bradykinesia - Left  Bradykinesia - Right  Dyskinesia - Left  \\\n",
       "0                  1.0                   1.0                0.0   \n",
       "1                  0.0                   2.0                0.0   \n",
       "2                  1.0                   1.0                0.0   \n",
       "3                  1.0                   NaN                0.0   \n",
       "4                  NaN                   1.0                0.0   \n",
       "\n",
       "   Dyskinesia - Right  Overall  Validated  Side  \n",
       "0                 0.0      1.0       True  Left  \n",
       "1                 0.0      1.0       True  Left  \n",
       "2                 0.0      1.0       True  Left  \n",
       "3                 0.0      1.0       True  Left  \n",
       "4                 0.0      1.0       True  Left  "
      ]
     },
     "execution_count": 4,
     "metadata": {},
     "output_type": "execute_result"
    }
   ],
   "source": [
    "scores.head()"
   ]
  },
  {
   "cell_type": "code",
   "execution_count": 7,
   "metadata": {},
   "outputs": [],
   "source": [
    "cols=scores.columns"
   ]
  },
  {
   "cell_type": "code",
   "execution_count": 8,
   "metadata": {},
   "outputs": [
    {
     "data": {
      "text/plain": [
       "'Tremor - Left'"
      ]
     },
     "execution_count": 8,
     "metadata": {},
     "output_type": "execute_result"
    }
   ],
   "source": [
    "cols[6]"
   ]
  },
  {
   "cell_type": "code",
   "execution_count": 9,
   "metadata": {},
   "outputs": [
    {
     "data": {
      "text/plain": [
       "array(['Drnkg', 'Drwg', 'Fldg', 'FtnL', 'FtnR', 'NtsBts', 'RamL', 'RamR',\n",
       "       'Sheets', 'Sitng', 'SitStand', 'Stndg', 'Typg', 'Wlkg', 'WlkgCnt'],\n",
       "      dtype=object)"
      ]
     },
     "execution_count": 9,
     "metadata": {},
     "output_type": "execute_result"
    }
   ],
   "source": [
    "scores.TaskAbb.unique()"
   ]
  },
  {
   "cell_type": "code",
   "execution_count": 10,
   "metadata": {},
   "outputs": [],
   "source": [
    "tasks = ['FtnL', 'FtnR', 'RamL', 'RamR', 'Sitng', 'SitStand', 'Stndg', 'WlkgCnt']"
   ]
  },
  {
   "cell_type": "code",
   "execution_count": 11,
   "metadata": {},
   "outputs": [
    {
     "data": {
      "text/plain": [
       "29"
      ]
     },
     "execution_count": 11,
     "metadata": {},
     "output_type": "execute_result"
    }
   ],
   "source": [
    "len(scores.SubjID.unique())"
   ]
  },
  {
   "cell_type": "code",
   "execution_count": 12,
   "metadata": {},
   "outputs": [
    {
     "name": "stdout",
     "output_type": "stream",
     "text": [
      "<class 'pandas.core.frame.DataFrame'>\n",
      "Int64Index: 2610 entries, 0 to 2954\n",
      "Data columns (total 15 columns):\n",
      "SubjID                   2610 non-null int64\n",
      "Visit                    2610 non-null object\n",
      "Task                     2610 non-null object\n",
      "TaskAbb                  2610 non-null object\n",
      "Start Timestamp (UTC)    2445 non-null object\n",
      "Stop Timestamp (UTC)     2445 non-null object\n",
      "Tremor - Left            2486 non-null float64\n",
      "Tremor - Right           2483 non-null float64\n",
      "Bradykinesia - Left      1657 non-null float64\n",
      "Bradykinesia - Right     1657 non-null float64\n",
      "Dyskinesia - Left        2487 non-null float64\n",
      "Dyskinesia - Right       2484 non-null float64\n",
      "Overall                  2318 non-null float64\n",
      "Validated                2610 non-null bool\n",
      "Side                     2490 non-null object\n",
      "dtypes: bool(1), float64(7), int64(1), object(6)\n",
      "memory usage: 308.4+ KB\n"
     ]
    }
   ],
   "source": [
    "scores.info()"
   ]
  },
  {
   "cell_type": "markdown",
   "metadata": {},
   "source": [
    "### Subjects with high scores "
   ]
  },
  {
   "cell_type": "code",
   "execution_count": 13,
   "metadata": {},
   "outputs": [
    {
     "name": "stdout",
     "output_type": "stream",
     "text": [
      "High Tremor  [1009 1038 1048 1049 1050 1055 1056]\n",
      "High Bradykinesia [1003 1005 1039 1043 1048 1052 1054 1056]\n",
      "High Dyskinesia [1024 1052]\n"
     ]
    }
   ],
   "source": [
    "print('High Tremor ',scores.loc[(scores.TaskAbb.isin(tasks)) & ((scores['Tremor - Left']== 3) | (scores['Tremor - Right']== 3)), 'SubjID'].unique())\n",
    "print('High Bradykinesia',scores.loc[(scores.TaskAbb.isin(tasks)) & ((scores['Bradykinesia - Left']== 3) | (scores['Bradykinesia - Right']== 3)), 'SubjID'].unique())\n",
    "print('High Dyskinesia',scores.loc[(scores.TaskAbb.isin(tasks)) & ((scores['Dyskinesia - Left']== 3) | (scores['Dyskinesia - Right']== 3)), 'SubjID'].unique())\n",
    "ht = scores.loc[(scores.TaskAbb.isin(tasks)) & ((scores['Tremor - Left']== 3) | (scores['Tremor - Right']== 3)), 'SubjID'].unique()\n",
    "hb = scores.loc[(scores.TaskAbb.isin(tasks)) & ((scores['Bradykinesia - Left']== 3) | (scores['Bradykinesia - Right']== 3)), 'SubjID'].unique()"
   ]
  },
  {
   "cell_type": "code",
   "execution_count": 14,
   "metadata": {},
   "outputs": [],
   "source": [
    "scores.query('Visit != \"1 Month\"', inplace=True)\n",
    "scores['Visit']=scores.Visit.apply(lambda x: x.split()[-1])"
   ]
  },
  {
   "cell_type": "code",
   "execution_count": 17,
   "metadata": {},
   "outputs": [
    {
     "data": {
      "text/html": [
       "<div>\n",
       "<style scoped>\n",
       "    .dataframe tbody tr th:only-of-type {\n",
       "        vertical-align: middle;\n",
       "    }\n",
       "\n",
       "    .dataframe tbody tr th {\n",
       "        vertical-align: top;\n",
       "    }\n",
       "\n",
       "    .dataframe thead th {\n",
       "        text-align: right;\n",
       "    }\n",
       "</style>\n",
       "<table border=\"1\" class=\"dataframe\">\n",
       "  <thead>\n",
       "    <tr style=\"text-align: right;\">\n",
       "      <th></th>\n",
       "      <th>Bradykinesia - Left</th>\n",
       "      <th>Visit</th>\n",
       "    </tr>\n",
       "    <tr>\n",
       "      <th>SubjID</th>\n",
       "      <th></th>\n",
       "      <th></th>\n",
       "    </tr>\n",
       "  </thead>\n",
       "  <tbody>\n",
       "    <tr>\n",
       "      <td>1056</td>\n",
       "      <td>2.008083</td>\n",
       "      <td>0</td>\n",
       "    </tr>\n",
       "    <tr>\n",
       "      <td>1056</td>\n",
       "      <td>3.008083</td>\n",
       "      <td>30</td>\n",
       "    </tr>\n",
       "    <tr>\n",
       "      <td>1056</td>\n",
       "      <td>3.008083</td>\n",
       "      <td>60</td>\n",
       "    </tr>\n",
       "    <tr>\n",
       "      <td>1056</td>\n",
       "      <td>3.008083</td>\n",
       "      <td>90</td>\n",
       "    </tr>\n",
       "    <tr>\n",
       "      <td>1056</td>\n",
       "      <td>1.008083</td>\n",
       "      <td>120</td>\n",
       "    </tr>\n",
       "    <tr>\n",
       "      <td>1056</td>\n",
       "      <td>2.008083</td>\n",
       "      <td>150</td>\n",
       "    </tr>\n",
       "  </tbody>\n",
       "</table>\n",
       "</div>"
      ],
      "text/plain": [
       "        Bradykinesia - Left Visit\n",
       "SubjID                           \n",
       "1056               2.008083     0\n",
       "1056               3.008083    30\n",
       "1056               3.008083    60\n",
       "1056               3.008083    90\n",
       "1056               1.008083   120\n",
       "1056               2.008083   150"
      ]
     },
     "execution_count": 17,
     "metadata": {},
     "output_type": "execute_result"
    }
   ],
   "source": [
    "scores.loc[(scores.SubjID == s) & (scores.TaskAbb=='RamL'),['SubjID','Bradykinesia - Left','Visit']].set_index('SubjID')"
   ]
  },
  {
   "cell_type": "code",
   "execution_count": 16,
   "metadata": {},
   "outputs": [
    {
     "data": {
      "text/plain": [
       "<matplotlib.legend.Legend at 0x17a39c93b08>"
      ]
     },
     "execution_count": 16,
     "metadata": {},
     "output_type": "execute_result"
    },
    {
     "data": {
      "image/png": "[encoded data removed]",
      "text/plain": [
       "<Figure size 1152x288 with 1 Axes>"
      ]
     },
     "metadata": {
      "needs_background": "light"
     },
     "output_type": "display_data"
    }
   ],
   "source": [
    "plt.figure(figsize=(16,4))\n",
    "ax = plt.gca()\n",
    "for s in ht:\n",
    "    scores.loc[(scores.SubjID==s) & (scores.TaskAbb=='RamL'),'Bradykinesia - Left']+= .05*np.random.randn(1) #add jitter\n",
    "    scores.loc[(scores.SubjID == s) & (scores.TaskAbb=='RamL'),['SubjID','Bradykinesia - Left','Visit']].set_index('SubjID').plot(x='Visit',y='Bradykinesia - Left',\n",
    "                                                                                                                                      ax=ax, style='-o', grid=True)\n",
    "ax.legend(ht)"
   ]
  },
  {
   "cell_type": "code",
   "execution_count": 18,
   "metadata": {},
   "outputs": [
    {
     "name": "stdout",
     "output_type": "stream",
     "text": [
      "No Tremor  [1003 1004 1005 1007 1009 1016 1018 1019 1023 1024 1029 1030 1032 1038\n",
      " 1039 1043 1044 1046 1047 1048 1049 1050 1051 1052 1053 1054 1055 1056]\n",
      "No Bradykinesia [1003 1004 1009 1023 1024 1043 1047 1048 1051 1052 1053 1054 1055 1056]\n",
      "No Dyskinesia [1003 1004 1005 1007 1009 1016 1018 1019 1023 1024 1029 1030 1032 1038\n",
      " 1039 1043 1044 1046 1047 1048 1049 1050 1051 1052 1053 1054 1055 1056]\n"
     ]
    }
   ],
   "source": [
    "print('No Tremor ',scores.loc[(scores.TaskAbb.isin(tasks)) & ((scores['Tremor - Left']== 0) & (scores['Tremor - Right']== 0)), 'SubjID'].unique())\n",
    "print('No Bradykinesia',scores.loc[(scores.TaskAbb.isin(tasks)) & ((scores['Bradykinesia - Left']== 0) & (scores['Bradykinesia - Right']== 0)), 'SubjID'].unique())\n",
    "print('No Dyskinesia',scores.loc[(scores.TaskAbb.isin(tasks)) & ((scores['Dyskinesia - Left']== 0) & (scores['Dyskinesia - Right']== 0)), 'SubjID'].unique())"
   ]
  },
  {
   "cell_type": "markdown",
   "metadata": {},
   "source": [
    "## Fluctuators score ranges\n"
   ]
  },
  {
   "cell_type": "code",
   "execution_count": 19,
   "metadata": {},
   "outputs": [],
   "source": [
    "#find fluctuators\n",
    "form = pd.read_hdf('../Metadata/form101.h5')"
   ]
  },
  {
   "cell_type": "code",
   "execution_count": 20,
   "metadata": {},
   "outputs": [
    {
     "data": {
      "text/html": [
       "<div>\n",
       "<style scoped>\n",
       "    .dataframe tbody tr th:only-of-type {\n",
       "        vertical-align: middle;\n",
       "    }\n",
       "\n",
       "    .dataframe tbody tr th {\n",
       "        vertical-align: top;\n",
       "    }\n",
       "\n",
       "    .dataframe thead th {\n",
       "        text-align: right;\n",
       "    }\n",
       "</style>\n",
       "<table border=\"1\" class=\"dataframe\">\n",
       "  <thead>\n",
       "    <tr style=\"text-align: right;\">\n",
       "      <th></th>\n",
       "      <th>SubjectCode</th>\n",
       "      <th>SiteID</th>\n",
       "      <th>VisitNm</th>\n",
       "      <th>Q11</th>\n",
       "      <th>Q12</th>\n",
       "      <th>ConsentDate</th>\n",
       "      <th>Age</th>\n",
       "      <th>Q03</th>\n",
       "      <th>Q04</th>\n",
       "      <th>Q05</th>\n",
       "      <th>Q06</th>\n",
       "      <th>Q07</th>\n",
       "      <th>Q08</th>\n",
       "      <th>Q09</th>\n",
       "      <th>Q10</th>\n",
       "    </tr>\n",
       "  </thead>\n",
       "  <tbody>\n",
       "    <tr>\n",
       "      <td>0</td>\n",
       "      <td>1000.0</td>\n",
       "      <td>1313.0</td>\n",
       "      <td>Baseline</td>\n",
       "      <td>A1784</td>\n",
       "      <td>10.3.2</td>\n",
       "      <td>2017-06-15</td>\n",
       "      <td>63.0</td>\n",
       "      <td>Yes</td>\n",
       "      <td>Yes</td>\n",
       "      <td>Yes</td>\n",
       "      <td>Yes</td>\n",
       "      <td>Yes</td>\n",
       "      <td>Yes</td>\n",
       "      <td>No</td>\n",
       "      <td>No</td>\n",
       "    </tr>\n",
       "    <tr>\n",
       "      <td>1</td>\n",
       "      <td>1001.0</td>\n",
       "      <td>1313.0</td>\n",
       "      <td>Baseline</td>\n",
       "      <td>A1778</td>\n",
       "      <td>10.3.2</td>\n",
       "      <td>2017-06-15</td>\n",
       "      <td>64.0</td>\n",
       "      <td>No</td>\n",
       "      <td>Yes</td>\n",
       "      <td>Yes</td>\n",
       "      <td>Yes</td>\n",
       "      <td>Yes</td>\n",
       "      <td>Yes</td>\n",
       "      <td>No</td>\n",
       "      <td>No</td>\n",
       "    </tr>\n",
       "    <tr>\n",
       "      <td>2</td>\n",
       "      <td>1002.0</td>\n",
       "      <td>1313.0</td>\n",
       "      <td>Baseline</td>\n",
       "      <td>A1586</td>\n",
       "      <td>10.3.2</td>\n",
       "      <td>2017-06-16</td>\n",
       "      <td>51.0</td>\n",
       "      <td>No</td>\n",
       "      <td>Yes</td>\n",
       "      <td>Yes</td>\n",
       "      <td>Yes</td>\n",
       "      <td>Yes</td>\n",
       "      <td>Yes</td>\n",
       "      <td>No</td>\n",
       "      <td>No</td>\n",
       "    </tr>\n",
       "    <tr>\n",
       "      <td>3</td>\n",
       "      <td>1003.0</td>\n",
       "      <td>1313.0</td>\n",
       "      <td>Baseline</td>\n",
       "      <td>A1522</td>\n",
       "      <td>10.3.2</td>\n",
       "      <td>2017-06-19</td>\n",
       "      <td>60.0</td>\n",
       "      <td>Yes</td>\n",
       "      <td>Yes</td>\n",
       "      <td>Yes</td>\n",
       "      <td>Yes</td>\n",
       "      <td>Yes</td>\n",
       "      <td>Yes</td>\n",
       "      <td>No</td>\n",
       "      <td>No</td>\n",
       "    </tr>\n",
       "    <tr>\n",
       "      <td>4</td>\n",
       "      <td>1004.0</td>\n",
       "      <td>1332.0</td>\n",
       "      <td>Baseline</td>\n",
       "      <td>A1660</td>\n",
       "      <td>10.3.2</td>\n",
       "      <td>2017-06-21</td>\n",
       "      <td>52.0</td>\n",
       "      <td>Yes</td>\n",
       "      <td>Yes</td>\n",
       "      <td>Yes</td>\n",
       "      <td>Yes</td>\n",
       "      <td>Yes</td>\n",
       "      <td>Yes</td>\n",
       "      <td>No</td>\n",
       "      <td>No</td>\n",
       "    </tr>\n",
       "  </tbody>\n",
       "</table>\n",
       "</div>"
      ],
      "text/plain": [
       "   SubjectCode  SiteID   VisitNm    Q11     Q12 ConsentDate   Age  Q03  Q04  \\\n",
       "0       1000.0  1313.0  Baseline  A1784  10.3.2  2017-06-15  63.0  Yes  Yes   \n",
       "1       1001.0  1313.0  Baseline  A1778  10.3.2  2017-06-15  64.0   No  Yes   \n",
       "2       1002.0  1313.0  Baseline  A1586  10.3.2  2017-06-16  51.0   No  Yes   \n",
       "3       1003.0  1313.0  Baseline  A1522  10.3.2  2017-06-19  60.0  Yes  Yes   \n",
       "4       1004.0  1332.0  Baseline  A1660  10.3.2  2017-06-21  52.0  Yes  Yes   \n",
       "\n",
       "   Q05  Q06  Q07  Q08 Q09 Q10  \n",
       "0  Yes  Yes  Yes  Yes  No  No  \n",
       "1  Yes  Yes  Yes  Yes  No  No  \n",
       "2  Yes  Yes  Yes  Yes  No  No  \n",
       "3  Yes  Yes  Yes  Yes  No  No  \n",
       "4  Yes  Yes  Yes  Yes  No  No  "
      ]
     },
     "execution_count": 20,
     "metadata": {},
     "output_type": "execute_result"
    }
   ],
   "source": [
    "form.head()"
   ]
  },
  {
   "cell_type": "code",
   "execution_count": 21,
   "metadata": {},
   "outputs": [
    {
     "data": {
      "text/plain": [
       "<matplotlib.axes._subplots.AxesSubplot at 0x17a39c2a4c8>"
      ]
     },
     "execution_count": 21,
     "metadata": {},
     "output_type": "execute_result"
    },
    {
     "data": {
      "image/png": "[encoded data removed]",
      "text/plain": [
       "<Figure size 432x288 with 1 Axes>"
      ]
     },
     "metadata": {
      "needs_background": "light"
     },
     "output_type": "display_data"
    }
   ],
   "source": [
    "form.Q03.hist()"
   ]
  },
  {
   "cell_type": "code",
   "execution_count": 22,
   "metadata": {},
   "outputs": [],
   "source": [
    "fluctuators = form.loc[form.Q03 == 'Yes'].SubjectCode.apply(int)"
   ]
  },
  {
   "cell_type": "code",
   "execution_count": 23,
   "metadata": {},
   "outputs": [
    {
     "data": {
      "text/plain": [
       "['FtnL', 'FtnR', 'RamL', 'RamR', 'Sitng', 'SitStand', 'Stndg', 'WlkgCnt']"
      ]
     },
     "execution_count": 23,
     "metadata": {},
     "output_type": "execute_result"
    }
   ],
   "source": [
    "tasks"
   ]
  },
  {
   "cell_type": "code",
   "execution_count": 24,
   "metadata": {},
   "outputs": [
    {
     "name": "stdout",
     "output_type": "stream",
     "text": [
      "[1003 1004 1005 1007 1009 1023 1024 1039 1043 1044 1047 1048 1049 1050\n",
      " 1052 1053 1054 1055 1056]\n"
     ]
    }
   ],
   "source": [
    "fluctuators = list(set(scores.SubjID.unique()).intersection(set(fluctuators)))\n",
    "print(np.sort(fluctuators))"
   ]
  },
  {
   "cell_type": "code",
   "execution_count": 79,
   "metadata": {
    "collapsed": true,
    "jupyter": {
     "outputs_hidden": true
    }
   },
   "outputs": [
    {
     "data": {
      "text/plain": [
       "<matplotlib.legend.Legend at 0x14501cd2e48>"
      ]
     },
     "execution_count": 79,
     "metadata": {},
     "output_type": "execute_result"
    },
    {
     "data": {
      "image/png": "[encoded data removed]",
      "text/plain": [
       "<Figure size 1152x432 with 1 Axes>"
      ]
     },
     "metadata": {
      "needs_background": "light"
     },
     "output_type": "display_data"
    }
   ],
   "source": [
    "plt.figure(figsize=(16,6))\n",
    "ax = plt.gca()\n",
    "for s in fluctuators:\n",
    "    scores.loc[(scores.SubjID==s) & (scores.TaskAbb=='RamL'),'Bradykinesia - Left']+= 0*np.random.randn(1) #add jitter\n",
    "    scores.loc[(scores.SubjID == s) & (scores.TaskAbb=='RamL'),['SubjID','Bradykinesia - Left','Visit']].set_index('SubjID').plot(x='Visit',y='Bradykinesia - Left',\n",
    "                                                                                                                                      ax=ax, style='-o', grid=True)\n",
    "\n",
    "ax.legend(fluctuators)"
   ]
  },
  {
   "cell_type": "code",
   "execution_count": 25,
   "metadata": {},
   "outputs": [
    {
     "data": {
      "text/plain": [
       "['FtnL', 'FtnR', 'RamL', 'RamR', 'Sitng', 'SitStand', 'Stndg', 'WlkgCnt']"
      ]
     },
     "execution_count": 25,
     "metadata": {},
     "output_type": "execute_result"
    }
   ],
   "source": [
    "tasks"
   ]
  },
  {
   "cell_type": "code",
   "execution_count": 26,
   "metadata": {},
   "outputs": [],
   "source": [
    "ranges = pd.DataFrame()\n",
    "for t in tasks[:4]: #hand movement tasks\n",
    "    if t[-1] == 'L':\n",
    "        score_side = 'Bradykinesia - Left'\n",
    "    else:\n",
    "        score_side = 'Bradykinesia - Right'\n",
    "        \n",
    "    for s in fluctuators:\n",
    "        ss = scores.loc[(scores.SubjID==s) & (scores.TaskAbb==t), score_side]\n",
    "        data = pd.DataFrame({'SubjID':s, 'task':t, 'Range-Brady':max(ss)-min(ss)}, index=[0])\n",
    "        ranges=pd.concat((ranges,data))\n",
    "ranges.reset_index(drop=True, inplace=True)    "
   ]
  },
  {
   "cell_type": "code",
   "execution_count": 27,
   "metadata": {},
   "outputs": [
    {
     "data": {
      "text/html": [
       "<div>\n",
       "<style scoped>\n",
       "    .dataframe tbody tr th:only-of-type {\n",
       "        vertical-align: middle;\n",
       "    }\n",
       "\n",
       "    .dataframe tbody tr th {\n",
       "        vertical-align: top;\n",
       "    }\n",
       "\n",
       "    .dataframe thead th {\n",
       "        text-align: right;\n",
       "    }\n",
       "</style>\n",
       "<table border=\"1\" class=\"dataframe\">\n",
       "  <thead>\n",
       "    <tr style=\"text-align: right;\">\n",
       "      <th></th>\n",
       "      <th>SubjID</th>\n",
       "      <th>task</th>\n",
       "      <th>Range-Brady</th>\n",
       "    </tr>\n",
       "  </thead>\n",
       "  <tbody>\n",
       "    <tr>\n",
       "      <td>0</td>\n",
       "      <td>1024</td>\n",
       "      <td>FtnL</td>\n",
       "      <td>0.0</td>\n",
       "    </tr>\n",
       "    <tr>\n",
       "      <td>1</td>\n",
       "      <td>1039</td>\n",
       "      <td>FtnL</td>\n",
       "      <td>1.0</td>\n",
       "    </tr>\n",
       "    <tr>\n",
       "      <td>2</td>\n",
       "      <td>1043</td>\n",
       "      <td>FtnL</td>\n",
       "      <td>3.0</td>\n",
       "    </tr>\n",
       "    <tr>\n",
       "      <td>3</td>\n",
       "      <td>1044</td>\n",
       "      <td>FtnL</td>\n",
       "      <td>1.0</td>\n",
       "    </tr>\n",
       "    <tr>\n",
       "      <td>4</td>\n",
       "      <td>1047</td>\n",
       "      <td>FtnL</td>\n",
       "      <td>0.0</td>\n",
       "    </tr>\n",
       "  </tbody>\n",
       "</table>\n",
       "</div>"
      ],
      "text/plain": [
       "   SubjID  task  Range-Brady\n",
       "0    1024  FtnL          0.0\n",
       "1    1039  FtnL          1.0\n",
       "2    1043  FtnL          3.0\n",
       "3    1044  FtnL          1.0\n",
       "4    1047  FtnL          0.0"
      ]
     },
     "execution_count": 27,
     "metadata": {},
     "output_type": "execute_result"
    }
   ],
   "source": [
    "ranges.head()"
   ]
  },
  {
   "cell_type": "code",
   "execution_count": 28,
   "metadata": {},
   "outputs": [
    {
     "data": {
      "text/plain": [
       "Text(0.5, 1.0, 'score ranges')"
      ]
     },
     "execution_count": 28,
     "metadata": {},
     "output_type": "execute_result"
    },
    {
     "data": {
      "image/png": "[encoded data removed]",
      "text/plain": [
       "<Figure size 432x288 with 1 Axes>"
      ]
     },
     "metadata": {
      "needs_background": "light"
     },
     "output_type": "display_data"
    }
   ],
   "source": [
    "ranges['Range-Brady'].hist(); plt.title('score ranges')"
   ]
  },
  {
   "cell_type": "markdown",
   "metadata": {},
   "source": [
    "### Fluctuators with score range = 3"
   ]
  },
  {
   "cell_type": "code",
   "execution_count": 29,
   "metadata": {},
   "outputs": [
    {
     "data": {
      "text/html": [
       "<div>\n",
       "<style scoped>\n",
       "    .dataframe tbody tr th:only-of-type {\n",
       "        vertical-align: middle;\n",
       "    }\n",
       "\n",
       "    .dataframe tbody tr th {\n",
       "        vertical-align: top;\n",
       "    }\n",
       "\n",
       "    .dataframe thead th {\n",
       "        text-align: right;\n",
       "    }\n",
       "</style>\n",
       "<table border=\"1\" class=\"dataframe\">\n",
       "  <thead>\n",
       "    <tr style=\"text-align: right;\">\n",
       "      <th></th>\n",
       "      <th>SubjID</th>\n",
       "      <th>task</th>\n",
       "      <th>Range-Brady</th>\n",
       "    </tr>\n",
       "  </thead>\n",
       "  <tbody>\n",
       "    <tr>\n",
       "      <td>2</td>\n",
       "      <td>1043</td>\n",
       "      <td>FtnL</td>\n",
       "      <td>3.0</td>\n",
       "    </tr>\n",
       "    <tr>\n",
       "      <td>21</td>\n",
       "      <td>1043</td>\n",
       "      <td>FtnR</td>\n",
       "      <td>3.0</td>\n",
       "    </tr>\n",
       "    <tr>\n",
       "      <td>39</td>\n",
       "      <td>1039</td>\n",
       "      <td>RamL</td>\n",
       "      <td>3.0</td>\n",
       "    </tr>\n",
       "    <tr>\n",
       "      <td>40</td>\n",
       "      <td>1043</td>\n",
       "      <td>RamL</td>\n",
       "      <td>3.0</td>\n",
       "    </tr>\n",
       "    <tr>\n",
       "      <td>43</td>\n",
       "      <td>1048</td>\n",
       "      <td>RamL</td>\n",
       "      <td>3.0</td>\n",
       "    </tr>\n",
       "    <tr>\n",
       "      <td>59</td>\n",
       "      <td>1043</td>\n",
       "      <td>RamR</td>\n",
       "      <td>3.0</td>\n",
       "    </tr>\n",
       "    <tr>\n",
       "      <td>62</td>\n",
       "      <td>1048</td>\n",
       "      <td>RamR</td>\n",
       "      <td>3.0</td>\n",
       "    </tr>\n",
       "  </tbody>\n",
       "</table>\n",
       "</div>"
      ],
      "text/plain": [
       "    SubjID  task  Range-Brady\n",
       "2     1043  FtnL          3.0\n",
       "21    1043  FtnR          3.0\n",
       "39    1039  RamL          3.0\n",
       "40    1043  RamL          3.0\n",
       "43    1048  RamL          3.0\n",
       "59    1043  RamR          3.0\n",
       "62    1048  RamR          3.0"
      ]
     },
     "execution_count": 29,
     "metadata": {},
     "output_type": "execute_result"
    }
   ],
   "source": [
    "ranges.loc[ranges['Range-Brady'] > 2]"
   ]
  },
  {
   "cell_type": "markdown",
   "metadata": {},
   "source": [
    "### Fluctuators with scores range = 2"
   ]
  },
  {
   "cell_type": "code",
   "execution_count": 30,
   "metadata": {},
   "outputs": [
    {
     "data": {
      "text/html": [
       "<div>\n",
       "<style scoped>\n",
       "    .dataframe tbody tr th:only-of-type {\n",
       "        vertical-align: middle;\n",
       "    }\n",
       "\n",
       "    .dataframe tbody tr th {\n",
       "        vertical-align: top;\n",
       "    }\n",
       "\n",
       "    .dataframe thead th {\n",
       "        text-align: right;\n",
       "    }\n",
       "</style>\n",
       "<table border=\"1\" class=\"dataframe\">\n",
       "  <thead>\n",
       "    <tr style=\"text-align: right;\">\n",
       "      <th></th>\n",
       "      <th>SubjID</th>\n",
       "      <th>task</th>\n",
       "      <th>Range-Brady</th>\n",
       "    </tr>\n",
       "  </thead>\n",
       "  <tbody>\n",
       "    <tr>\n",
       "      <td>52</td>\n",
       "      <td>1004</td>\n",
       "      <td>RamL</td>\n",
       "      <td>2.0</td>\n",
       "    </tr>\n",
       "    <tr>\n",
       "      <td>55</td>\n",
       "      <td>1009</td>\n",
       "      <td>RamL</td>\n",
       "      <td>2.0</td>\n",
       "    </tr>\n",
       "    <tr>\n",
       "      <td>74</td>\n",
       "      <td>1009</td>\n",
       "      <td>RamR</td>\n",
       "      <td>2.0</td>\n",
       "    </tr>\n",
       "    <tr>\n",
       "      <td>56</td>\n",
       "      <td>1023</td>\n",
       "      <td>RamL</td>\n",
       "      <td>2.0</td>\n",
       "    </tr>\n",
       "    <tr>\n",
       "      <td>75</td>\n",
       "      <td>1023</td>\n",
       "      <td>RamR</td>\n",
       "      <td>2.0</td>\n",
       "    </tr>\n",
       "    <tr>\n",
       "      <td>58</td>\n",
       "      <td>1039</td>\n",
       "      <td>RamR</td>\n",
       "      <td>2.0</td>\n",
       "    </tr>\n",
       "    <tr>\n",
       "      <td>41</td>\n",
       "      <td>1044</td>\n",
       "      <td>RamL</td>\n",
       "      <td>2.0</td>\n",
       "    </tr>\n",
       "    <tr>\n",
       "      <td>24</td>\n",
       "      <td>1048</td>\n",
       "      <td>FtnR</td>\n",
       "      <td>2.0</td>\n",
       "    </tr>\n",
       "    <tr>\n",
       "      <td>65</td>\n",
       "      <td>1052</td>\n",
       "      <td>RamR</td>\n",
       "      <td>2.0</td>\n",
       "    </tr>\n",
       "    <tr>\n",
       "      <td>10</td>\n",
       "      <td>1054</td>\n",
       "      <td>FtnL</td>\n",
       "      <td>2.0</td>\n",
       "    </tr>\n",
       "    <tr>\n",
       "      <td>29</td>\n",
       "      <td>1054</td>\n",
       "      <td>FtnR</td>\n",
       "      <td>2.0</td>\n",
       "    </tr>\n",
       "    <tr>\n",
       "      <td>48</td>\n",
       "      <td>1054</td>\n",
       "      <td>RamL</td>\n",
       "      <td>2.0</td>\n",
       "    </tr>\n",
       "    <tr>\n",
       "      <td>67</td>\n",
       "      <td>1054</td>\n",
       "      <td>RamR</td>\n",
       "      <td>2.0</td>\n",
       "    </tr>\n",
       "    <tr>\n",
       "      <td>50</td>\n",
       "      <td>1056</td>\n",
       "      <td>RamL</td>\n",
       "      <td>2.0</td>\n",
       "    </tr>\n",
       "  </tbody>\n",
       "</table>\n",
       "</div>"
      ],
      "text/plain": [
       "    SubjID  task  Range-Brady\n",
       "52    1004  RamL          2.0\n",
       "55    1009  RamL          2.0\n",
       "74    1009  RamR          2.0\n",
       "56    1023  RamL          2.0\n",
       "75    1023  RamR          2.0\n",
       "58    1039  RamR          2.0\n",
       "41    1044  RamL          2.0\n",
       "24    1048  FtnR          2.0\n",
       "65    1052  RamR          2.0\n",
       "10    1054  FtnL          2.0\n",
       "29    1054  FtnR          2.0\n",
       "48    1054  RamL          2.0\n",
       "67    1054  RamR          2.0\n",
       "50    1056  RamL          2.0"
      ]
     },
     "execution_count": 30,
     "metadata": {},
     "output_type": "execute_result"
    }
   ],
   "source": [
    "ranges.loc[ranges['Range-Brady'] == 2].sort_values('SubjID')"
   ]
  },
  {
   "cell_type": "code",
   "execution_count": 167,
   "metadata": {},
   "outputs": [
    {
     "data": {
      "text/plain": [
       "array([1004, 1009, 1023, 1039, 1044, 1048, 1052, 1054, 1056], dtype=int64)"
      ]
     },
     "execution_count": 167,
     "metadata": {},
     "output_type": "execute_result"
    }
   ],
   "source": [
    "np.sort(ranges.loc[ranges['Range-Brady'] == 2]['SubjID'].unique())"
   ]
  },
  {
   "cell_type": "code",
   "execution_count": 31,
   "metadata": {},
   "outputs": [
    {
     "data": {
      "text/html": [
       "<div>\n",
       "<style scoped>\n",
       "    .dataframe tbody tr th:only-of-type {\n",
       "        vertical-align: middle;\n",
       "    }\n",
       "\n",
       "    .dataframe tbody tr th {\n",
       "        vertical-align: top;\n",
       "    }\n",
       "\n",
       "    .dataframe thead th {\n",
       "        text-align: right;\n",
       "    }\n",
       "</style>\n",
       "<table border=\"1\" class=\"dataframe\">\n",
       "  <thead>\n",
       "    <tr style=\"text-align: right;\">\n",
       "      <th></th>\n",
       "      <th>SubjID</th>\n",
       "      <th>Visit</th>\n",
       "      <th>Bradykinesia - Left</th>\n",
       "      <th>Bradykinesia - Right</th>\n",
       "    </tr>\n",
       "  </thead>\n",
       "  <tbody>\n",
       "    <tr>\n",
       "      <td>2512</td>\n",
       "      <td>1052</td>\n",
       "      <td>0</td>\n",
       "      <td>NaN</td>\n",
       "      <td>2.0</td>\n",
       "    </tr>\n",
       "    <tr>\n",
       "      <td>2527</td>\n",
       "      <td>1052</td>\n",
       "      <td>30</td>\n",
       "      <td>NaN</td>\n",
       "      <td>1.0</td>\n",
       "    </tr>\n",
       "    <tr>\n",
       "      <td>2542</td>\n",
       "      <td>1052</td>\n",
       "      <td>60</td>\n",
       "      <td>NaN</td>\n",
       "      <td>1.0</td>\n",
       "    </tr>\n",
       "    <tr>\n",
       "      <td>2557</td>\n",
       "      <td>1052</td>\n",
       "      <td>90</td>\n",
       "      <td>NaN</td>\n",
       "      <td>0.0</td>\n",
       "    </tr>\n",
       "    <tr>\n",
       "      <td>2572</td>\n",
       "      <td>1052</td>\n",
       "      <td>120</td>\n",
       "      <td>NaN</td>\n",
       "      <td>1.0</td>\n",
       "    </tr>\n",
       "    <tr>\n",
       "      <td>2587</td>\n",
       "      <td>1052</td>\n",
       "      <td>150</td>\n",
       "      <td>NaN</td>\n",
       "      <td>1.0</td>\n",
       "    </tr>\n",
       "  </tbody>\n",
       "</table>\n",
       "</div>"
      ],
      "text/plain": [
       "      SubjID Visit  Bradykinesia - Left  Bradykinesia - Right\n",
       "2512    1052     0                  NaN                   2.0\n",
       "2527    1052    30                  NaN                   1.0\n",
       "2542    1052    60                  NaN                   1.0\n",
       "2557    1052    90                  NaN                   0.0\n",
       "2572    1052   120                  NaN                   1.0\n",
       "2587    1052   150                  NaN                   1.0"
      ]
     },
     "execution_count": 31,
     "metadata": {},
     "output_type": "execute_result"
    }
   ],
   "source": [
    "scores.query('SubjID==1052 & TaskAbb==\"RamR\"')[['SubjID', 'Visit', 'Bradykinesia - Left',  'Bradykinesia - Right']]"
   ]
  },
  {
   "cell_type": "code",
   "execution_count": 82,
   "metadata": {},
   "outputs": [
    {
     "data": {
      "text/plain": [
       "<matplotlib.legend.Legend at 0x1450293de08>"
      ]
     },
     "execution_count": 82,
     "metadata": {},
     "output_type": "execute_result"
    },
    {
     "data": {
      "image/png": "[encoded data removed]",
      "text/plain": [
       "<Figure size 1152x432 with 1 Axes>"
      ]
     },
     "metadata": {
      "needs_background": "light"
     },
     "output_type": "display_data"
    }
   ],
   "source": [
    "plt.figure(figsize=(16,6))\n",
    "ax = plt.gca()\n",
    "for s in fluctuators:\n",
    "    scores.loc[(scores.SubjID==s) & (scores.TaskAbb=='RamR'),'Bradykinesia - Right']+= 0.05*np.random.randn(1) #add jitter\n",
    "    scores.loc[(scores.SubjID == s) & (scores.TaskAbb=='RamR'),['SubjID','Bradykinesia - Right','Visit']].set_index('SubjID').plot(x='Visit',y='Bradykinesia - Right',\n",
    "                                                                                                                                      ax=ax, style='-o', grid=True)\n",
    "\n",
    "ax.legend(fluctuators)"
   ]
  },
  {
   "cell_type": "code",
   "execution_count": 87,
   "metadata": {},
   "outputs": [
    {
     "data": {
      "text/html": [
       "<div>\n",
       "<style scoped>\n",
       "    .dataframe tbody tr th:only-of-type {\n",
       "        vertical-align: middle;\n",
       "    }\n",
       "\n",
       "    .dataframe tbody tr th {\n",
       "        vertical-align: top;\n",
       "    }\n",
       "\n",
       "    .dataframe thead th {\n",
       "        text-align: right;\n",
       "    }\n",
       "</style>\n",
       "<table border=\"1\" class=\"dataframe\">\n",
       "  <thead>\n",
       "    <tr style=\"text-align: right;\">\n",
       "      <th></th>\n",
       "      <th>SubjID</th>\n",
       "      <th>Visit</th>\n",
       "      <th>Task</th>\n",
       "      <th>TaskAbb</th>\n",
       "      <th>Start Timestamp (UTC)</th>\n",
       "      <th>Stop Timestamp (UTC)</th>\n",
       "      <th>Tremor - Left</th>\n",
       "      <th>Tremor - Right</th>\n",
       "      <th>Bradykinesia - Left</th>\n",
       "      <th>Bradykinesia - Right</th>\n",
       "      <th>Dyskinesia - Left</th>\n",
       "      <th>Dyskinesia - Right</th>\n",
       "      <th>Overall</th>\n",
       "      <th>Validated</th>\n",
       "      <th>Side</th>\n",
       "    </tr>\n",
       "  </thead>\n",
       "  <tbody>\n",
       "    <tr>\n",
       "      <td>3</td>\n",
       "      <td>1003</td>\n",
       "      <td>0</td>\n",
       "      <td>Finger to nose--left hand</td>\n",
       "      <td>FtnL</td>\n",
       "      <td>41:52.7</td>\n",
       "      <td>42:22.3</td>\n",
       "      <td>1.0</td>\n",
       "      <td>0.0</td>\n",
       "      <td>1.000000</td>\n",
       "      <td>NaN</td>\n",
       "      <td>0.0</td>\n",
       "      <td>0.0</td>\n",
       "      <td>1.0</td>\n",
       "      <td>True</td>\n",
       "      <td>Left</td>\n",
       "    </tr>\n",
       "    <tr>\n",
       "      <td>4</td>\n",
       "      <td>1003</td>\n",
       "      <td>0</td>\n",
       "      <td>Finger to nose--right hand</td>\n",
       "      <td>FtnR</td>\n",
       "      <td>41:11.9</td>\n",
       "      <td>41:43.8</td>\n",
       "      <td>0.0</td>\n",
       "      <td>1.0</td>\n",
       "      <td>NaN</td>\n",
       "      <td>1.00000</td>\n",
       "      <td>0.0</td>\n",
       "      <td>0.0</td>\n",
       "      <td>1.0</td>\n",
       "      <td>True</td>\n",
       "      <td>Left</td>\n",
       "    </tr>\n",
       "    <tr>\n",
       "      <td>6</td>\n",
       "      <td>1003</td>\n",
       "      <td>0</td>\n",
       "      <td>Alternating left hand movements</td>\n",
       "      <td>RamL</td>\n",
       "      <td>43:36.5</td>\n",
       "      <td>43:53.6</td>\n",
       "      <td>0.0</td>\n",
       "      <td>0.0</td>\n",
       "      <td>2.066443</td>\n",
       "      <td>NaN</td>\n",
       "      <td>0.0</td>\n",
       "      <td>0.0</td>\n",
       "      <td>2.0</td>\n",
       "      <td>True</td>\n",
       "      <td>Left</td>\n",
       "    </tr>\n",
       "    <tr>\n",
       "      <td>7</td>\n",
       "      <td>1003</td>\n",
       "      <td>0</td>\n",
       "      <td>Alternating right hand movements</td>\n",
       "      <td>RamR</td>\n",
       "      <td>43:05.6</td>\n",
       "      <td>43:25.8</td>\n",
       "      <td>0.0</td>\n",
       "      <td>0.0</td>\n",
       "      <td>NaN</td>\n",
       "      <td>2.10562</td>\n",
       "      <td>0.0</td>\n",
       "      <td>0.0</td>\n",
       "      <td>2.0</td>\n",
       "      <td>True</td>\n",
       "      <td>Left</td>\n",
       "    </tr>\n",
       "    <tr>\n",
       "      <td>9</td>\n",
       "      <td>1003</td>\n",
       "      <td>0</td>\n",
       "      <td>Sitting</td>\n",
       "      <td>Sitng</td>\n",
       "      <td>58:07.8</td>\n",
       "      <td>58:44.3</td>\n",
       "      <td>1.0</td>\n",
       "      <td>1.0</td>\n",
       "      <td>NaN</td>\n",
       "      <td>NaN</td>\n",
       "      <td>0.0</td>\n",
       "      <td>0.0</td>\n",
       "      <td>NaN</td>\n",
       "      <td>True</td>\n",
       "      <td>Left</td>\n",
       "    </tr>\n",
       "    <tr>\n",
       "      <td>...</td>\n",
       "      <td>...</td>\n",
       "      <td>...</td>\n",
       "      <td>...</td>\n",
       "      <td>...</td>\n",
       "      <td>...</td>\n",
       "      <td>...</td>\n",
       "      <td>...</td>\n",
       "      <td>...</td>\n",
       "      <td>...</td>\n",
       "      <td>...</td>\n",
       "      <td>...</td>\n",
       "      <td>...</td>\n",
       "      <td>...</td>\n",
       "      <td>...</td>\n",
       "      <td>...</td>\n",
       "    </tr>\n",
       "    <tr>\n",
       "      <td>2947</td>\n",
       "      <td>1056</td>\n",
       "      <td>150</td>\n",
       "      <td>Alternating right hand movements</td>\n",
       "      <td>RamR</td>\n",
       "      <td>3/8/2018 22:17</td>\n",
       "      <td>3/8/2018 22:17</td>\n",
       "      <td>0.0</td>\n",
       "      <td>0.0</td>\n",
       "      <td>NaN</td>\n",
       "      <td>2.06493</td>\n",
       "      <td>2.0</td>\n",
       "      <td>1.0</td>\n",
       "      <td>2.0</td>\n",
       "      <td>False</td>\n",
       "      <td>Left</td>\n",
       "    </tr>\n",
       "    <tr>\n",
       "      <td>2949</td>\n",
       "      <td>1056</td>\n",
       "      <td>150</td>\n",
       "      <td>Sitting</td>\n",
       "      <td>Sitng</td>\n",
       "      <td>3/8/2018 22:24</td>\n",
       "      <td>3/8/2018 22:25</td>\n",
       "      <td>0.0</td>\n",
       "      <td>0.0</td>\n",
       "      <td>NaN</td>\n",
       "      <td>NaN</td>\n",
       "      <td>2.0</td>\n",
       "      <td>1.0</td>\n",
       "      <td>NaN</td>\n",
       "      <td>False</td>\n",
       "      <td>Left</td>\n",
       "    </tr>\n",
       "    <tr>\n",
       "      <td>2950</td>\n",
       "      <td>1056</td>\n",
       "      <td>150</td>\n",
       "      <td>Sit to stand</td>\n",
       "      <td>SitStand</td>\n",
       "      <td>3/8/2018 22:18</td>\n",
       "      <td>3/8/2018 22:18</td>\n",
       "      <td>0.0</td>\n",
       "      <td>0.0</td>\n",
       "      <td>NaN</td>\n",
       "      <td>NaN</td>\n",
       "      <td>2.0</td>\n",
       "      <td>2.0</td>\n",
       "      <td>0.0</td>\n",
       "      <td>False</td>\n",
       "      <td>Left</td>\n",
       "    </tr>\n",
       "    <tr>\n",
       "      <td>2951</td>\n",
       "      <td>1056</td>\n",
       "      <td>150</td>\n",
       "      <td>Standing</td>\n",
       "      <td>Stndg</td>\n",
       "      <td>3/8/2018 22:14</td>\n",
       "      <td>3/8/2018 22:14</td>\n",
       "      <td>0.0</td>\n",
       "      <td>2.0</td>\n",
       "      <td>NaN</td>\n",
       "      <td>NaN</td>\n",
       "      <td>2.0</td>\n",
       "      <td>0.0</td>\n",
       "      <td>0.0</td>\n",
       "      <td>False</td>\n",
       "      <td>Left</td>\n",
       "    </tr>\n",
       "    <tr>\n",
       "      <td>2954</td>\n",
       "      <td>1056</td>\n",
       "      <td>150</td>\n",
       "      <td>Walking while counting</td>\n",
       "      <td>WlkgCnt</td>\n",
       "      <td>3/8/2018 22:15</td>\n",
       "      <td>3/8/2018 22:16</td>\n",
       "      <td>0.0</td>\n",
       "      <td>2.0</td>\n",
       "      <td>0.000000</td>\n",
       "      <td>1.00000</td>\n",
       "      <td>2.0</td>\n",
       "      <td>1.0</td>\n",
       "      <td>1.0</td>\n",
       "      <td>False</td>\n",
       "      <td>Left</td>\n",
       "    </tr>\n",
       "  </tbody>\n",
       "</table>\n",
       "<p>1392 rows × 15 columns</p>\n",
       "</div>"
      ],
      "text/plain": [
       "      SubjID Visit                              Task   TaskAbb  \\\n",
       "3       1003     0         Finger to nose--left hand      FtnL   \n",
       "4       1003     0        Finger to nose--right hand      FtnR   \n",
       "6       1003     0   Alternating left hand movements      RamL   \n",
       "7       1003     0  Alternating right hand movements      RamR   \n",
       "9       1003     0                           Sitting     Sitng   \n",
       "...      ...   ...                               ...       ...   \n",
       "2947    1056   150  Alternating right hand movements      RamR   \n",
       "2949    1056   150                           Sitting     Sitng   \n",
       "2950    1056   150                      Sit to stand  SitStand   \n",
       "2951    1056   150                          Standing     Stndg   \n",
       "2954    1056   150            Walking while counting   WlkgCnt   \n",
       "\n",
       "     Start Timestamp (UTC) Stop Timestamp (UTC)  Tremor - Left  \\\n",
       "3                  41:52.7              42:22.3            1.0   \n",
       "4                  41:11.9              41:43.8            0.0   \n",
       "6                  43:36.5              43:53.6            0.0   \n",
       "7                  43:05.6              43:25.8            0.0   \n",
       "9                  58:07.8              58:44.3            1.0   \n",
       "...                    ...                  ...            ...   \n",
       "2947        3/8/2018 22:17       3/8/2018 22:17            0.0   \n",
       "2949        3/8/2018 22:24       3/8/2018 22:25            0.0   \n",
       "2950        3/8/2018 22:18       3/8/2018 22:18            0.0   \n",
       "2951        3/8/2018 22:14       3/8/2018 22:14            0.0   \n",
       "2954        3/8/2018 22:15       3/8/2018 22:16            0.0   \n",
       "\n",
       "      Tremor - Right  Bradykinesia - Left  Bradykinesia - Right  \\\n",
       "3                0.0             1.000000                   NaN   \n",
       "4                1.0                  NaN               1.00000   \n",
       "6                0.0             2.066443                   NaN   \n",
       "7                0.0                  NaN               2.10562   \n",
       "9                1.0                  NaN                   NaN   \n",
       "...              ...                  ...                   ...   \n",
       "2947             0.0                  NaN               2.06493   \n",
       "2949             0.0                  NaN                   NaN   \n",
       "2950             0.0                  NaN                   NaN   \n",
       "2951             2.0                  NaN                   NaN   \n",
       "2954             2.0             0.000000               1.00000   \n",
       "\n",
       "      Dyskinesia - Left  Dyskinesia - Right  Overall  Validated  Side  \n",
       "3                   0.0                 0.0      1.0       True  Left  \n",
       "4                   0.0                 0.0      1.0       True  Left  \n",
       "6                   0.0                 0.0      2.0       True  Left  \n",
       "7                   0.0                 0.0      2.0       True  Left  \n",
       "9                   0.0                 0.0      NaN       True  Left  \n",
       "...                 ...                 ...      ...        ...   ...  \n",
       "2947                2.0                 1.0      2.0      False  Left  \n",
       "2949                2.0                 1.0      NaN      False  Left  \n",
       "2950                2.0                 2.0      0.0      False  Left  \n",
       "2951                2.0                 0.0      0.0      False  Left  \n",
       "2954                2.0                 1.0      1.0      False  Left  \n",
       "\n",
       "[1392 rows x 15 columns]"
      ]
     },
     "execution_count": 87,
     "metadata": {},
     "output_type": "execute_result"
    }
   ],
   "source": [
    "df = pd.DataFrame()\n",
    "t = 'RamL'\n",
    "for s in fluctuators:\n",
    "    smax = scores.loc[(scores.SubjID==s) & (scores.TaskAbb == t),'Bradykinesia - Left'].max()\n",
    "    smin = scores.loc[(scores.SubjID==s) & (scores.TaskAbb == t),'Bradykinesia - Left'].min()\n",
    "    \n",
    "    \n"
   ]
  },
  {
   "cell_type": "markdown",
   "metadata": {},
   "source": [
    "### How many subj / tasks have high tremor or bradykinesia"
   ]
  },
  {
   "cell_type": "code",
   "execution_count": 83,
   "metadata": {},
   "outputs": [
    {
     "data": {
      "text/plain": [
       "array(['2 Weeks: Time 0', '2 Weeks: Time 30', '2 Weeks: Time 60',\n",
       "       '2 Weeks: Time 90', '2 Weeks: Time 120', '2 Weeks: Time 150',\n",
       "       '1 Month'], dtype=object)"
      ]
     },
     "execution_count": 83,
     "metadata": {},
     "output_type": "execute_result"
    }
   ],
   "source": [
    "scores.Visit.unique()"
   ]
  },
  {
   "cell_type": "code",
   "execution_count": 95,
   "metadata": {},
   "outputs": [
    {
     "data": {
      "text/html": [
       "<div>\n",
       "<style scoped>\n",
       "    .dataframe tbody tr th:only-of-type {\n",
       "        vertical-align: middle;\n",
       "    }\n",
       "\n",
       "    .dataframe tbody tr th {\n",
       "        vertical-align: top;\n",
       "    }\n",
       "\n",
       "    .dataframe thead th {\n",
       "        text-align: right;\n",
       "    }\n",
       "</style>\n",
       "<table border=\"1\" class=\"dataframe\">\n",
       "  <thead>\n",
       "    <tr style=\"text-align: right;\">\n",
       "      <th></th>\n",
       "      <th>Tremor - Left</th>\n",
       "      <th>Visit</th>\n",
       "    </tr>\n",
       "  </thead>\n",
       "  <tbody>\n",
       "    <tr>\n",
       "      <td>2872</td>\n",
       "      <td>2.0</td>\n",
       "      <td>2 Weeks: Time 0</td>\n",
       "    </tr>\n",
       "    <tr>\n",
       "      <td>2887</td>\n",
       "      <td>1.0</td>\n",
       "      <td>2 Weeks: Time 30</td>\n",
       "    </tr>\n",
       "    <tr>\n",
       "      <td>2902</td>\n",
       "      <td>3.0</td>\n",
       "      <td>2 Weeks: Time 60</td>\n",
       "    </tr>\n",
       "    <tr>\n",
       "      <td>2917</td>\n",
       "      <td>3.0</td>\n",
       "      <td>2 Weeks: Time 90</td>\n",
       "    </tr>\n",
       "    <tr>\n",
       "      <td>2932</td>\n",
       "      <td>1.0</td>\n",
       "      <td>2 Weeks: Time 120</td>\n",
       "    </tr>\n",
       "    <tr>\n",
       "      <td>2947</td>\n",
       "      <td>0.0</td>\n",
       "      <td>2 Weeks: Time 150</td>\n",
       "    </tr>\n",
       "  </tbody>\n",
       "</table>\n",
       "</div>"
      ],
      "text/plain": [
       "      Tremor - Left              Visit\n",
       "2872            2.0    2 Weeks: Time 0\n",
       "2887            1.0   2 Weeks: Time 30\n",
       "2902            3.0   2 Weeks: Time 60\n",
       "2917            3.0   2 Weeks: Time 90\n",
       "2932            1.0  2 Weeks: Time 120\n",
       "2947            0.0  2 Weeks: Time 150"
      ]
     },
     "execution_count": 95,
     "metadata": {},
     "output_type": "execute_result"
    }
   ],
   "source": [
    "scores.query('SubjID == 1056 & TaskAbb == \"RamR\"')[['Tremor - Left','Visit']]"
   ]
  },
  {
   "cell_type": "code",
   "execution_count": 97,
   "metadata": {},
   "outputs": [
    {
     "data": {
      "text/html": [
       "<div>\n",
       "<style scoped>\n",
       "    .dataframe tbody tr th:only-of-type {\n",
       "        vertical-align: middle;\n",
       "    }\n",
       "\n",
       "    .dataframe tbody tr th {\n",
       "        vertical-align: top;\n",
       "    }\n",
       "\n",
       "    .dataframe thead th {\n",
       "        text-align: right;\n",
       "    }\n",
       "</style>\n",
       "<table border=\"1\" class=\"dataframe\">\n",
       "  <thead>\n",
       "    <tr style=\"text-align: right;\">\n",
       "      <th></th>\n",
       "      <th>Bradykinesia - Right</th>\n",
       "      <th>Visit</th>\n",
       "    </tr>\n",
       "  </thead>\n",
       "  <tbody>\n",
       "    <tr>\n",
       "      <td>2872</td>\n",
       "      <td>2.0</td>\n",
       "      <td>2 Weeks: Time 0</td>\n",
       "    </tr>\n",
       "    <tr>\n",
       "      <td>2887</td>\n",
       "      <td>2.0</td>\n",
       "      <td>2 Weeks: Time 30</td>\n",
       "    </tr>\n",
       "    <tr>\n",
       "      <td>2902</td>\n",
       "      <td>2.0</td>\n",
       "      <td>2 Weeks: Time 60</td>\n",
       "    </tr>\n",
       "    <tr>\n",
       "      <td>2917</td>\n",
       "      <td>2.0</td>\n",
       "      <td>2 Weeks: Time 90</td>\n",
       "    </tr>\n",
       "    <tr>\n",
       "      <td>2932</td>\n",
       "      <td>1.0</td>\n",
       "      <td>2 Weeks: Time 120</td>\n",
       "    </tr>\n",
       "    <tr>\n",
       "      <td>2947</td>\n",
       "      <td>2.0</td>\n",
       "      <td>2 Weeks: Time 150</td>\n",
       "    </tr>\n",
       "  </tbody>\n",
       "</table>\n",
       "</div>"
      ],
      "text/plain": [
       "      Bradykinesia - Right              Visit\n",
       "2872                   2.0    2 Weeks: Time 0\n",
       "2887                   2.0   2 Weeks: Time 30\n",
       "2902                   2.0   2 Weeks: Time 60\n",
       "2917                   2.0   2 Weeks: Time 90\n",
       "2932                   1.0  2 Weeks: Time 120\n",
       "2947                   2.0  2 Weeks: Time 150"
      ]
     },
     "execution_count": 97,
     "metadata": {},
     "output_type": "execute_result"
    }
   ],
   "source": [
    "scores.query('SubjID == 1056 & TaskAbb == \"RamR\"')[['Bradykinesia - Right','Visit']]"
   ]
  },
  {
   "cell_type": "code",
   "execution_count": 82,
   "metadata": {},
   "outputs": [
    {
     "data": {
      "text/html": [
       "<div>\n",
       "<style scoped>\n",
       "    .dataframe tbody tr th:only-of-type {\n",
       "        vertical-align: middle;\n",
       "    }\n",
       "\n",
       "    .dataframe tbody tr th {\n",
       "        vertical-align: top;\n",
       "    }\n",
       "\n",
       "    .dataframe thead th {\n",
       "        text-align: right;\n",
       "    }\n",
       "</style>\n",
       "<table border=\"1\" class=\"dataframe\">\n",
       "  <thead>\n",
       "    <tr style=\"text-align: right;\">\n",
       "      <th></th>\n",
       "      <th>SubjID</th>\n",
       "      <th>Visit</th>\n",
       "      <th>TaskAbb</th>\n",
       "    </tr>\n",
       "  </thead>\n",
       "  <tbody>\n",
       "    <tr>\n",
       "      <td>416</td>\n",
       "      <td>1009.0</td>\n",
       "      <td>2 Weeks: Time 0</td>\n",
       "      <td>Stndg</td>\n",
       "    </tr>\n",
       "    <tr>\n",
       "      <td>1458</td>\n",
       "      <td>1038.0</td>\n",
       "      <td>2 Weeks: Time 0</td>\n",
       "      <td>FtnL</td>\n",
       "    </tr>\n",
       "    <tr>\n",
       "      <td>1459</td>\n",
       "      <td>1038.0</td>\n",
       "      <td>2 Weeks: Time 0</td>\n",
       "      <td>FtnR</td>\n",
       "    </tr>\n",
       "    <tr>\n",
       "      <td>1473</td>\n",
       "      <td>1038.0</td>\n",
       "      <td>2 Weeks: Time 30</td>\n",
       "      <td>FtnL</td>\n",
       "    </tr>\n",
       "    <tr>\n",
       "      <td>1488</td>\n",
       "      <td>1038.0</td>\n",
       "      <td>2 Weeks: Time 60</td>\n",
       "      <td>FtnL</td>\n",
       "    </tr>\n",
       "    <tr>\n",
       "      <td>1503</td>\n",
       "      <td>1038.0</td>\n",
       "      <td>2 Weeks: Time 90</td>\n",
       "      <td>FtnL</td>\n",
       "    </tr>\n",
       "    <tr>\n",
       "      <td>1518</td>\n",
       "      <td>1038.0</td>\n",
       "      <td>2 Weeks: Time 120</td>\n",
       "      <td>FtnL</td>\n",
       "    </tr>\n",
       "    <tr>\n",
       "      <td>1533</td>\n",
       "      <td>1038.0</td>\n",
       "      <td>2 Weeks: Time 150</td>\n",
       "      <td>FtnL</td>\n",
       "    </tr>\n",
       "    <tr>\n",
       "      <td>1548</td>\n",
       "      <td>1038.0</td>\n",
       "      <td>1 Month</td>\n",
       "      <td>FtnL</td>\n",
       "    </tr>\n",
       "    <tr>\n",
       "      <td>1549</td>\n",
       "      <td>1038.0</td>\n",
       "      <td>1 Month</td>\n",
       "      <td>FtnR</td>\n",
       "    </tr>\n",
       "    <tr>\n",
       "      <td>2088</td>\n",
       "      <td>1048.0</td>\n",
       "      <td>2 Weeks: Time 0</td>\n",
       "      <td>FtnL</td>\n",
       "    </tr>\n",
       "    <tr>\n",
       "      <td>2091</td>\n",
       "      <td>1048.0</td>\n",
       "      <td>2 Weeks: Time 0</td>\n",
       "      <td>RamL</td>\n",
       "    </tr>\n",
       "    <tr>\n",
       "      <td>2094</td>\n",
       "      <td>1048.0</td>\n",
       "      <td>2 Weeks: Time 0</td>\n",
       "      <td>Sitng</td>\n",
       "    </tr>\n",
       "    <tr>\n",
       "      <td>2133</td>\n",
       "      <td>1048.0</td>\n",
       "      <td>2 Weeks: Time 90</td>\n",
       "      <td>FtnL</td>\n",
       "    </tr>\n",
       "    <tr>\n",
       "      <td>2136</td>\n",
       "      <td>1048.0</td>\n",
       "      <td>2 Weeks: Time 90</td>\n",
       "      <td>RamL</td>\n",
       "    </tr>\n",
       "    <tr>\n",
       "      <td>2139</td>\n",
       "      <td>1048.0</td>\n",
       "      <td>2 Weeks: Time 90</td>\n",
       "      <td>Sitng</td>\n",
       "    </tr>\n",
       "    <tr>\n",
       "      <td>2141</td>\n",
       "      <td>1048.0</td>\n",
       "      <td>2 Weeks: Time 90</td>\n",
       "      <td>Stndg</td>\n",
       "    </tr>\n",
       "    <tr>\n",
       "      <td>2144</td>\n",
       "      <td>1048.0</td>\n",
       "      <td>2 Weeks: Time 90</td>\n",
       "      <td>WlkgCnt</td>\n",
       "    </tr>\n",
       "    <tr>\n",
       "      <td>2148</td>\n",
       "      <td>1048.0</td>\n",
       "      <td>2 Weeks: Time 120</td>\n",
       "      <td>FtnL</td>\n",
       "    </tr>\n",
       "    <tr>\n",
       "      <td>2151</td>\n",
       "      <td>1048.0</td>\n",
       "      <td>2 Weeks: Time 120</td>\n",
       "      <td>RamL</td>\n",
       "    </tr>\n",
       "    <tr>\n",
       "      <td>2154</td>\n",
       "      <td>1048.0</td>\n",
       "      <td>2 Weeks: Time 120</td>\n",
       "      <td>Sitng</td>\n",
       "    </tr>\n",
       "    <tr>\n",
       "      <td>2155</td>\n",
       "      <td>1048.0</td>\n",
       "      <td>2 Weeks: Time 120</td>\n",
       "      <td>SitStand</td>\n",
       "    </tr>\n",
       "    <tr>\n",
       "      <td>2156</td>\n",
       "      <td>1048.0</td>\n",
       "      <td>2 Weeks: Time 120</td>\n",
       "      <td>Stndg</td>\n",
       "    </tr>\n",
       "    <tr>\n",
       "      <td>2159</td>\n",
       "      <td>1048.0</td>\n",
       "      <td>2 Weeks: Time 120</td>\n",
       "      <td>WlkgCnt</td>\n",
       "    </tr>\n",
       "    <tr>\n",
       "      <td>2194</td>\n",
       "      <td>1049.0</td>\n",
       "      <td>2 Weeks: Time 0</td>\n",
       "      <td>FtnR</td>\n",
       "    </tr>\n",
       "    <tr>\n",
       "      <td>2199</td>\n",
       "      <td>1049.0</td>\n",
       "      <td>2 Weeks: Time 0</td>\n",
       "      <td>Sitng</td>\n",
       "    </tr>\n",
       "    <tr>\n",
       "      <td>2200</td>\n",
       "      <td>1049.0</td>\n",
       "      <td>2 Weeks: Time 0</td>\n",
       "      <td>SitStand</td>\n",
       "    </tr>\n",
       "    <tr>\n",
       "      <td>2201</td>\n",
       "      <td>1049.0</td>\n",
       "      <td>2 Weeks: Time 0</td>\n",
       "      <td>Stndg</td>\n",
       "    </tr>\n",
       "    <tr>\n",
       "      <td>2244</td>\n",
       "      <td>1049.0</td>\n",
       "      <td>2 Weeks: Time 90</td>\n",
       "      <td>Sitng</td>\n",
       "    </tr>\n",
       "    <tr>\n",
       "      <td>2259</td>\n",
       "      <td>1049.0</td>\n",
       "      <td>2 Weeks: Time 120</td>\n",
       "      <td>Sitng</td>\n",
       "    </tr>\n",
       "    <tr>\n",
       "      <td>2274</td>\n",
       "      <td>1049.0</td>\n",
       "      <td>2 Weeks: Time 150</td>\n",
       "      <td>Sitng</td>\n",
       "    </tr>\n",
       "    <tr>\n",
       "      <td>2301</td>\n",
       "      <td>1050.0</td>\n",
       "      <td>2 Weeks: Time 0</td>\n",
       "      <td>RamL</td>\n",
       "    </tr>\n",
       "    <tr>\n",
       "      <td>2302</td>\n",
       "      <td>1050.0</td>\n",
       "      <td>2 Weeks: Time 0</td>\n",
       "      <td>RamR</td>\n",
       "    </tr>\n",
       "    <tr>\n",
       "      <td>2304</td>\n",
       "      <td>1050.0</td>\n",
       "      <td>2 Weeks: Time 0</td>\n",
       "      <td>Sitng</td>\n",
       "    </tr>\n",
       "    <tr>\n",
       "      <td>2306</td>\n",
       "      <td>1050.0</td>\n",
       "      <td>2 Weeks: Time 0</td>\n",
       "      <td>Stndg</td>\n",
       "    </tr>\n",
       "    <tr>\n",
       "      <td>2309</td>\n",
       "      <td>1050.0</td>\n",
       "      <td>2 Weeks: Time 0</td>\n",
       "      <td>WlkgCnt</td>\n",
       "    </tr>\n",
       "    <tr>\n",
       "      <td>2324</td>\n",
       "      <td>1050.0</td>\n",
       "      <td>2 Weeks: Time 30</td>\n",
       "      <td>WlkgCnt</td>\n",
       "    </tr>\n",
       "    <tr>\n",
       "      <td>2778</td>\n",
       "      <td>1055.0</td>\n",
       "      <td>2 Weeks: Time 0</td>\n",
       "      <td>FtnL</td>\n",
       "    </tr>\n",
       "    <tr>\n",
       "      <td>2784</td>\n",
       "      <td>1055.0</td>\n",
       "      <td>2 Weeks: Time 0</td>\n",
       "      <td>Sitng</td>\n",
       "    </tr>\n",
       "    <tr>\n",
       "      <td>2786</td>\n",
       "      <td>1055.0</td>\n",
       "      <td>2 Weeks: Time 0</td>\n",
       "      <td>Stndg</td>\n",
       "    </tr>\n",
       "    <tr>\n",
       "      <td>2789</td>\n",
       "      <td>1055.0</td>\n",
       "      <td>2 Weeks: Time 0</td>\n",
       "      <td>WlkgCnt</td>\n",
       "    </tr>\n",
       "    <tr>\n",
       "      <td>2804</td>\n",
       "      <td>1055.0</td>\n",
       "      <td>2 Weeks: Time 30</td>\n",
       "      <td>WlkgCnt</td>\n",
       "    </tr>\n",
       "    <tr>\n",
       "      <td>2879</td>\n",
       "      <td>1056.0</td>\n",
       "      <td>2 Weeks: Time 0</td>\n",
       "      <td>WlkgCnt</td>\n",
       "    </tr>\n",
       "    <tr>\n",
       "      <td>2889</td>\n",
       "      <td>1056.0</td>\n",
       "      <td>2 Weeks: Time 30</td>\n",
       "      <td>Sitng</td>\n",
       "    </tr>\n",
       "    <tr>\n",
       "      <td>2891</td>\n",
       "      <td>1056.0</td>\n",
       "      <td>2 Weeks: Time 30</td>\n",
       "      <td>Stndg</td>\n",
       "    </tr>\n",
       "    <tr>\n",
       "      <td>2894</td>\n",
       "      <td>1056.0</td>\n",
       "      <td>2 Weeks: Time 30</td>\n",
       "      <td>WlkgCnt</td>\n",
       "    </tr>\n",
       "    <tr>\n",
       "      <td>2899</td>\n",
       "      <td>1056.0</td>\n",
       "      <td>2 Weeks: Time 60</td>\n",
       "      <td>FtnR</td>\n",
       "    </tr>\n",
       "    <tr>\n",
       "      <td>2901</td>\n",
       "      <td>1056.0</td>\n",
       "      <td>2 Weeks: Time 60</td>\n",
       "      <td>RamL</td>\n",
       "    </tr>\n",
       "    <tr>\n",
       "      <td>2902</td>\n",
       "      <td>1056.0</td>\n",
       "      <td>2 Weeks: Time 60</td>\n",
       "      <td>RamR</td>\n",
       "    </tr>\n",
       "    <tr>\n",
       "      <td>2904</td>\n",
       "      <td>1056.0</td>\n",
       "      <td>2 Weeks: Time 60</td>\n",
       "      <td>Sitng</td>\n",
       "    </tr>\n",
       "    <tr>\n",
       "      <td>2905</td>\n",
       "      <td>1056.0</td>\n",
       "      <td>2 Weeks: Time 60</td>\n",
       "      <td>SitStand</td>\n",
       "    </tr>\n",
       "    <tr>\n",
       "      <td>2906</td>\n",
       "      <td>1056.0</td>\n",
       "      <td>2 Weeks: Time 60</td>\n",
       "      <td>Stndg</td>\n",
       "    </tr>\n",
       "    <tr>\n",
       "      <td>2909</td>\n",
       "      <td>1056.0</td>\n",
       "      <td>2 Weeks: Time 60</td>\n",
       "      <td>WlkgCnt</td>\n",
       "    </tr>\n",
       "    <tr>\n",
       "      <td>2917</td>\n",
       "      <td>1056.0</td>\n",
       "      <td>2 Weeks: Time 90</td>\n",
       "      <td>RamR</td>\n",
       "    </tr>\n",
       "    <tr>\n",
       "      <td>2919</td>\n",
       "      <td>1056.0</td>\n",
       "      <td>2 Weeks: Time 90</td>\n",
       "      <td>Sitng</td>\n",
       "    </tr>\n",
       "    <tr>\n",
       "      <td>2921</td>\n",
       "      <td>1056.0</td>\n",
       "      <td>2 Weeks: Time 90</td>\n",
       "      <td>Stndg</td>\n",
       "    </tr>\n",
       "    <tr>\n",
       "      <td>2924</td>\n",
       "      <td>1056.0</td>\n",
       "      <td>2 Weeks: Time 90</td>\n",
       "      <td>WlkgCnt</td>\n",
       "    </tr>\n",
       "  </tbody>\n",
       "</table>\n",
       "</div>"
      ],
      "text/plain": [
       "      SubjID              Visit   TaskAbb\n",
       "416   1009.0    2 Weeks: Time 0     Stndg\n",
       "1458  1038.0    2 Weeks: Time 0      FtnL\n",
       "1459  1038.0    2 Weeks: Time 0      FtnR\n",
       "1473  1038.0   2 Weeks: Time 30      FtnL\n",
       "1488  1038.0   2 Weeks: Time 60      FtnL\n",
       "1503  1038.0   2 Weeks: Time 90      FtnL\n",
       "1518  1038.0  2 Weeks: Time 120      FtnL\n",
       "1533  1038.0  2 Weeks: Time 150      FtnL\n",
       "1548  1038.0            1 Month      FtnL\n",
       "1549  1038.0            1 Month      FtnR\n",
       "2088  1048.0    2 Weeks: Time 0      FtnL\n",
       "2091  1048.0    2 Weeks: Time 0      RamL\n",
       "2094  1048.0    2 Weeks: Time 0     Sitng\n",
       "2133  1048.0   2 Weeks: Time 90      FtnL\n",
       "2136  1048.0   2 Weeks: Time 90      RamL\n",
       "2139  1048.0   2 Weeks: Time 90     Sitng\n",
       "2141  1048.0   2 Weeks: Time 90     Stndg\n",
       "2144  1048.0   2 Weeks: Time 90   WlkgCnt\n",
       "2148  1048.0  2 Weeks: Time 120      FtnL\n",
       "2151  1048.0  2 Weeks: Time 120      RamL\n",
       "2154  1048.0  2 Weeks: Time 120     Sitng\n",
       "2155  1048.0  2 Weeks: Time 120  SitStand\n",
       "2156  1048.0  2 Weeks: Time 120     Stndg\n",
       "2159  1048.0  2 Weeks: Time 120   WlkgCnt\n",
       "2194  1049.0    2 Weeks: Time 0      FtnR\n",
       "2199  1049.0    2 Weeks: Time 0     Sitng\n",
       "2200  1049.0    2 Weeks: Time 0  SitStand\n",
       "2201  1049.0    2 Weeks: Time 0     Stndg\n",
       "2244  1049.0   2 Weeks: Time 90     Sitng\n",
       "2259  1049.0  2 Weeks: Time 120     Sitng\n",
       "2274  1049.0  2 Weeks: Time 150     Sitng\n",
       "2301  1050.0    2 Weeks: Time 0      RamL\n",
       "2302  1050.0    2 Weeks: Time 0      RamR\n",
       "2304  1050.0    2 Weeks: Time 0     Sitng\n",
       "2306  1050.0    2 Weeks: Time 0     Stndg\n",
       "2309  1050.0    2 Weeks: Time 0   WlkgCnt\n",
       "2324  1050.0   2 Weeks: Time 30   WlkgCnt\n",
       "2778  1055.0    2 Weeks: Time 0      FtnL\n",
       "2784  1055.0    2 Weeks: Time 0     Sitng\n",
       "2786  1055.0    2 Weeks: Time 0     Stndg\n",
       "2789  1055.0    2 Weeks: Time 0   WlkgCnt\n",
       "2804  1055.0   2 Weeks: Time 30   WlkgCnt\n",
       "2879  1056.0    2 Weeks: Time 0   WlkgCnt\n",
       "2889  1056.0   2 Weeks: Time 30     Sitng\n",
       "2891  1056.0   2 Weeks: Time 30     Stndg\n",
       "2894  1056.0   2 Weeks: Time 30   WlkgCnt\n",
       "2899  1056.0   2 Weeks: Time 60      FtnR\n",
       "2901  1056.0   2 Weeks: Time 60      RamL\n",
       "2902  1056.0   2 Weeks: Time 60      RamR\n",
       "2904  1056.0   2 Weeks: Time 60     Sitng\n",
       "2905  1056.0   2 Weeks: Time 60  SitStand\n",
       "2906  1056.0   2 Weeks: Time 60     Stndg\n",
       "2909  1056.0   2 Weeks: Time 60   WlkgCnt\n",
       "2917  1056.0   2 Weeks: Time 90      RamR\n",
       "2919  1056.0   2 Weeks: Time 90     Sitng\n",
       "2921  1056.0   2 Weeks: Time 90     Stndg\n",
       "2924  1056.0   2 Weeks: Time 90   WlkgCnt"
      ]
     },
     "execution_count": 82,
     "metadata": {},
     "output_type": "execute_result"
    }
   ],
   "source": [
    "# scores.loc[(scores.TaskAbb == 'FtnL') & ((scores['Tremor - Left']== 3) | (scores['Tremor - Right']== 3))]\n",
    "scores.loc[(scores.TaskAbb.isin(tasks)) & ((scores['Tremor - Left']== 3) | (scores['Tremor - Right']== 3)), ['SubjID','Visit','TaskAbb']]\n"
   ]
  },
  {
   "cell_type": "code",
   "execution_count": 41,
   "metadata": {},
   "outputs": [
    {
     "data": {
      "text/plain": [
       "<matplotlib.axes._subplots.AxesSubplot at 0x12036808>"
      ]
     },
     "execution_count": 41,
     "metadata": {},
     "output_type": "execute_result"
    },
    {
     "data": {
      "image/png": "[encoded data removed]",
      "text/plain": [
       "<Figure size 1008x288 with 4 Axes>"
      ]
     },
     "metadata": {
      "needs_background": "light"
     },
     "output_type": "display_data"
    }
   ],
   "source": [
    "f, axi = plt.subplots(1, 4, sharey=True)\n",
    "f.set_figheight(4); f.set_figwidth(14)\n",
    "\n",
    "scores.loc[scores.TaskAbb == 'FtnL','Tremor - Left'].hist(ax=axi[0])\n",
    "scores.loc[scores.TaskAbb == 'FtnR','Tremor - Right'].hist(ax=axi[1])\n",
    "scores.loc[scores.TaskAbb == 'FtnL','Bradykinesia - Left'].hist(ax=axi[2])\n",
    "scores.loc[scores.TaskAbb == 'FtnR','Bradykinesia - Right'].hist(ax=axi[3])"
   ]
  },
  {
   "cell_type": "code",
   "execution_count": 56,
   "metadata": {},
   "outputs": [
    {
     "data": {
      "text/plain": [
       "<matplotlib.axes._subplots.AxesSubplot at 0x13b442c8>"
      ]
     },
     "execution_count": 56,
     "metadata": {},
     "output_type": "execute_result"
    },
    {
     "data": {
      "image/png": "[encoded data removed]",
      "text/plain": [
       "<Figure size 1008x288 with 4 Axes>"
      ]
     },
     "metadata": {
      "needs_background": "light"
     },
     "output_type": "display_data"
    }
   ],
   "source": [
    "f, axi = plt.subplots(1, 4, sharey=True)\n",
    "f.set_figheight(4); f.set_figwidth(14)\n",
    "\n",
    "scores.loc[scores.TaskAbb == 'Sitng','Tremor - Left'].hist(ax=axi[0])\n",
    "scores.loc[scores.TaskAbb == 'Sitng','Tremor - Right'].hist(ax=axi[1])\n",
    "scores.loc[scores.TaskAbb == 'SitStand','Tremor - Left'].hist(ax=axi[2]) #Only tremor is assesed with SitStand\n",
    "scores.loc[scores.TaskAbb == 'SitStand','Tremor - Right'].hist(ax=axi[3])"
   ]
  },
  {
   "cell_type": "code",
   "execution_count": 57,
   "metadata": {},
   "outputs": [
    {
     "data": {
      "text/plain": [
       "<matplotlib.axes._subplots.AxesSubplot at 0x11840308>"
      ]
     },
     "execution_count": 57,
     "metadata": {},
     "output_type": "execute_result"
    },
    {
     "data": {
      "image/png": "[encoded data removed]",
      "text/plain": [
       "<Figure size 1008x288 with 4 Axes>"
      ]
     },
     "metadata": {
      "needs_background": "light"
     },
     "output_type": "display_data"
    }
   ],
   "source": [
    "f, axi = plt.subplots(1, 4, sharey=True)\n",
    "f.set_figheight(4); f.set_figwidth(14)\n",
    "\n",
    "scores.loc[scores.TaskAbb == 'WlkgCnt','Tremor - Left'].hist(ax=axi[0])\n",
    "scores.loc[scores.TaskAbb == 'WlkgCnt','Tremor - Right'].hist(ax=axi[1])\n",
    "scores.loc[scores.TaskAbb == 'WlkgCnt','Bradykinesia - Left'].hist(ax=axi[2]) \n",
    "scores.loc[scores.TaskAbb == 'WlkgCnt','Bradykinesia - Right'].hist(ax=axi[3])"
   ]
  },
  {
   "cell_type": "code",
   "execution_count": 58,
   "metadata": {},
   "outputs": [
    {
     "data": {
      "text/html": [
       "<div>\n",
       "<style scoped>\n",
       "    .dataframe tbody tr th:only-of-type {\n",
       "        vertical-align: middle;\n",
       "    }\n",
       "\n",
       "    .dataframe tbody tr th {\n",
       "        vertical-align: top;\n",
       "    }\n",
       "\n",
       "    .dataframe thead tr th {\n",
       "        text-align: left;\n",
       "    }\n",
       "\n",
       "    .dataframe thead tr:last-of-type th {\n",
       "        text-align: right;\n",
       "    }\n",
       "</style>\n",
       "<table border=\"1\" class=\"dataframe\">\n",
       "  <thead>\n",
       "    <tr>\n",
       "      <th></th>\n",
       "      <th colspan=\"4\" halign=\"left\">Dyskinesia - Left</th>\n",
       "    </tr>\n",
       "    <tr>\n",
       "      <th></th>\n",
       "      <th>mean</th>\n",
       "      <th>max</th>\n",
       "      <th>min</th>\n",
       "      <th>median</th>\n",
       "    </tr>\n",
       "    <tr>\n",
       "      <th>TaskAbb</th>\n",
       "      <th></th>\n",
       "      <th></th>\n",
       "      <th></th>\n",
       "      <th></th>\n",
       "    </tr>\n",
       "  </thead>\n",
       "  <tbody>\n",
       "    <tr>\n",
       "      <td>Drnkg</td>\n",
       "      <td>0.080214</td>\n",
       "      <td>2.0</td>\n",
       "      <td>0.0</td>\n",
       "      <td>0.0</td>\n",
       "    </tr>\n",
       "    <tr>\n",
       "      <td>Drwg</td>\n",
       "      <td>0.032086</td>\n",
       "      <td>1.0</td>\n",
       "      <td>0.0</td>\n",
       "      <td>0.0</td>\n",
       "    </tr>\n",
       "    <tr>\n",
       "      <td>Fldg</td>\n",
       "      <td>0.053476</td>\n",
       "      <td>2.0</td>\n",
       "      <td>0.0</td>\n",
       "      <td>0.0</td>\n",
       "    </tr>\n",
       "    <tr>\n",
       "      <td>FtnL</td>\n",
       "      <td>0.005348</td>\n",
       "      <td>1.0</td>\n",
       "      <td>0.0</td>\n",
       "      <td>0.0</td>\n",
       "    </tr>\n",
       "    <tr>\n",
       "      <td>FtnR</td>\n",
       "      <td>0.090909</td>\n",
       "      <td>1.0</td>\n",
       "      <td>0.0</td>\n",
       "      <td>0.0</td>\n",
       "    </tr>\n",
       "    <tr>\n",
       "      <td>NtsBts</td>\n",
       "      <td>0.101604</td>\n",
       "      <td>2.0</td>\n",
       "      <td>0.0</td>\n",
       "      <td>0.0</td>\n",
       "    </tr>\n",
       "    <tr>\n",
       "      <td>RamL</td>\n",
       "      <td>0.069519</td>\n",
       "      <td>2.0</td>\n",
       "      <td>0.0</td>\n",
       "      <td>0.0</td>\n",
       "    </tr>\n",
       "    <tr>\n",
       "      <td>RamR</td>\n",
       "      <td>0.106952</td>\n",
       "      <td>2.0</td>\n",
       "      <td>0.0</td>\n",
       "      <td>0.0</td>\n",
       "    </tr>\n",
       "    <tr>\n",
       "      <td>Sheets</td>\n",
       "      <td>0.048128</td>\n",
       "      <td>2.0</td>\n",
       "      <td>0.0</td>\n",
       "      <td>0.0</td>\n",
       "    </tr>\n",
       "    <tr>\n",
       "      <td>SitStand</td>\n",
       "      <td>0.102151</td>\n",
       "      <td>2.0</td>\n",
       "      <td>0.0</td>\n",
       "      <td>0.0</td>\n",
       "    </tr>\n",
       "    <tr>\n",
       "      <td>Sitng</td>\n",
       "      <td>0.133690</td>\n",
       "      <td>2.0</td>\n",
       "      <td>0.0</td>\n",
       "      <td>0.0</td>\n",
       "    </tr>\n",
       "    <tr>\n",
       "      <td>Stndg</td>\n",
       "      <td>0.192513</td>\n",
       "      <td>2.0</td>\n",
       "      <td>0.0</td>\n",
       "      <td>0.0</td>\n",
       "    </tr>\n",
       "    <tr>\n",
       "      <td>Typg</td>\n",
       "      <td>0.128342</td>\n",
       "      <td>3.0</td>\n",
       "      <td>0.0</td>\n",
       "      <td>0.0</td>\n",
       "    </tr>\n",
       "    <tr>\n",
       "      <td>Wlkg</td>\n",
       "      <td>0.263441</td>\n",
       "      <td>3.0</td>\n",
       "      <td>0.0</td>\n",
       "      <td>0.0</td>\n",
       "    </tr>\n",
       "    <tr>\n",
       "      <td>WlkgCnt</td>\n",
       "      <td>0.351351</td>\n",
       "      <td>3.0</td>\n",
       "      <td>0.0</td>\n",
       "      <td>0.0</td>\n",
       "    </tr>\n",
       "  </tbody>\n",
       "</table>\n",
       "</div>"
      ],
      "text/plain": [
       "         Dyskinesia - Left                 \n",
       "                      mean  max  min median\n",
       "TaskAbb                                    \n",
       "Drnkg             0.080214  2.0  0.0    0.0\n",
       "Drwg              0.032086  1.0  0.0    0.0\n",
       "Fldg              0.053476  2.0  0.0    0.0\n",
       "FtnL              0.005348  1.0  0.0    0.0\n",
       "FtnR              0.090909  1.0  0.0    0.0\n",
       "NtsBts            0.101604  2.0  0.0    0.0\n",
       "RamL              0.069519  2.0  0.0    0.0\n",
       "RamR              0.106952  2.0  0.0    0.0\n",
       "Sheets            0.048128  2.0  0.0    0.0\n",
       "SitStand          0.102151  2.0  0.0    0.0\n",
       "Sitng             0.133690  2.0  0.0    0.0\n",
       "Stndg             0.192513  2.0  0.0    0.0\n",
       "Typg              0.128342  3.0  0.0    0.0\n",
       "Wlkg              0.263441  3.0  0.0    0.0\n",
       "WlkgCnt           0.351351  3.0  0.0    0.0"
      ]
     },
     "execution_count": 58,
     "metadata": {},
     "output_type": "execute_result"
    }
   ],
   "source": [
    "scores[['TaskAbb','Dyskinesia - Left']].groupby(['TaskAbb']).agg(['mean','max','min','median'])\n",
    "# scores[['TaskAbb','Dyskinesia - Right']].groupby(['TaskAbb']).agg(['mean','max','min','median'])\n",
    "# scores[['TaskAbb','Tremor - Left']].groupby(['TaskAbb']).agg(['mean','max','min','median'])\n",
    "# scores[['TaskAbb','Bradykinesia - Left']].groupby(['TaskAbb']).agg(['mean','max','min','median'])\n"
   ]
  },
  {
   "cell_type": "code",
   "execution_count": 42,
   "metadata": {},
   "outputs": [
    {
     "data": {
      "text/plain": [
       "<matplotlib.axes._subplots.AxesSubplot at 0x1220d988>"
      ]
     },
     "execution_count": 42,
     "metadata": {},
     "output_type": "execute_result"
    },
    {
     "data": {
      "image/png": "[encoded data removed]",
      "text/plain": [
       "<Figure size 1008x288 with 2 Axes>"
      ]
     },
     "metadata": {
      "needs_background": "light"
     },
     "output_type": "display_data"
    }
   ],
   "source": [
    "f, axi = plt.subplots(1, 2, sharey=True)\n",
    "f.set_figheight(4); f.set_figwidth(14)\n",
    "scores.loc[scores.TaskAbb == 'FtnL','Dyskinesia - Left'].hist(ax=axi[0])\n",
    "scores.loc[scores.TaskAbb == 'FtnR','Dyskinesia - Right'].hist(ax=axi[1])"
   ]
  },
  {
   "cell_type": "code",
   "execution_count": 34,
   "metadata": {},
   "outputs": [
    {
     "data": {
      "image/png": "[encoded data removed]",
      "text/plain": [
       "<Figure size 432x288 with 4 Axes>"
      ]
     },
     "execution_count": 34,
     "metadata": {},
     "output_type": "execute_result"
    }
   ],
   "source": [
    "f.se"
   ]
  },
  {
   "cell_type": "code",
   "execution_count": 30,
   "metadata": {},
   "outputs": [
    {
     "data": {
      "text/plain": [
       "<matplotlib.axes._subplots.AxesSubplot at 0x10cf51c8>"
      ]
     },
     "execution_count": 30,
     "metadata": {},
     "output_type": "execute_result"
    },
    {
     "data": {
      "image/png": "[encoded data removed]",
      "text/plain": [
       "<Figure size 432x288 with 2 Axes>"
      ]
     },
     "metadata": {
      "needs_background": "light"
     },
     "output_type": "display_data"
    }
   ],
   "source": [
    "f, (ax1,ax2) = plt.subplots(1, 2, sharey=True)\n",
    "scores.loc[scores.TaskAbb == 'RamL','Tremor - Left'].hist(ax=ax1)\n",
    "scores.loc[scores.TaskAbb == 'RamR','Tremor - Right'].hist(ax=ax2)"
   ]
  },
  {
   "cell_type": "code",
   "execution_count": null,
   "metadata": {},
   "outputs": [],
   "source": []
  }
 ],
 "metadata": {
  "kernelspec": {
   "display_name": "Python 3",
   "language": "python",
   "name": "python3"
  },
  "language_info": {
   "codemirror_mode": {
    "name": "ipython",
    "version": 3
   },
   "file_extension": ".py",
   "mimetype": "text/x-python",
   "name": "python",
   "nbconvert_exporter": "python",
   "pygments_lexer": "ipython3",
   "version": "3.7.1"
  }
 },
 "nbformat": 4,
 "nbformat_minor": 4
}
