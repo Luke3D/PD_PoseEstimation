{
 "cells": [
  {
   "cell_type": "code",
   "execution_count": 1,
   "metadata": {},
   "outputs": [],
   "source": [
    "import numpy as np\n",
    "import pandas as pd\n",
    "import os\n",
    "from pathlib import Path\n",
    "import subprocess"
   ]
  },
  {
   "cell_type": "code",
   "execution_count": 2,
   "metadata": {},
   "outputs": [
    {
     "name": "stdout",
     "output_type": "stream",
     "text": [
      "c:\\openpose\n"
     ]
    }
   ],
   "source": [
    "%cd c:/openpose/"
   ]
  },
  {
   "cell_type": "code",
   "execution_count": 8,
   "metadata": {},
   "outputs": [
    {
     "name": "stdout",
     "output_type": "stream",
     "text": [
      "c:\\openpose\n"
     ]
    }
   ],
   "source": [
    "!echo %cd%"
   ]
  },
  {
   "cell_type": "markdown",
   "metadata": {},
   "source": [
    "## Manually specify input folder and file to process"
   ]
  },
  {
   "cell_type": "code",
   "execution_count": 90,
   "metadata": {},
   "outputs": [
    {
     "name": "stdout",
     "output_type": "stream",
     "text": [
      "C:\\Users\\llonini\\Box\\CISPD_Videos_proc\\NU\\1052Fluctuator\\Edited\\Cycle2_Wlkg.mp4\n",
      "Cycle2_Wlkg.mp4.avi\n"
     ]
    }
   ],
   "source": [
    "input_p = Path(\"C:/Users/llonini/Box/CISPD_Videos_proc/NU/1052Fluctuator/Edited/\")\n",
    "outposefile = Path('output/1052/') \n",
    "outvideofile = Path('outputvideo/1052/')\n",
    "files = os.listdir(input_p)\n",
    "f = files[-1]\n",
    "print(input_p/f)\n",
    "print(f + '.avi')"
   ]
  },
  {
   "cell_type": "code",
   "execution_count": 19,
   "metadata": {},
   "outputs": [
    {
     "data": {
      "text/plain": [
       "['Cycle2_FtnL.mp4',\n",
       " 'Cycle2_FtnR.mp4',\n",
       " 'Cycle2_RamL.mp4',\n",
       " 'Cycle2_RamR.mp4',\n",
       " 'Cycle2_Sitng.mp4',\n",
       " 'Cycle2_SitStand.mp4',\n",
       " 'Cycle2_Stndg.mp4']"
      ]
     },
     "execution_count": 19,
     "metadata": {},
     "output_type": "execute_result"
    }
   ],
   "source": [
    "os.listdir(input_p)"
   ]
  },
  {
   "cell_type": "code",
   "execution_count": 91,
   "metadata": {},
   "outputs": [
    {
     "name": "stdout",
     "output_type": "stream",
     "text": [
      "C:/Users/llonini/Box/CISPD_Videos_proc/NU/1052Fluctuator/Edited/Cycle2_Wlkg.mp4\n",
      "output/1052\n",
      "outputvideo/1052/Cycle2_Wlkg.avi\n"
     ]
    }
   ],
   "source": [
    "x1 = (input_p/f).as_posix()\n",
    "x2 = outposefile.as_posix()\n",
    "x3 = (outvideofile/(f[:-3]+'avi')).as_posix()\n",
    "print(x1)\n",
    "print(x2)\n",
    "print(x3)"
   ]
  },
  {
   "cell_type": "markdown",
   "metadata": {},
   "source": [
    "Run openpose"
   ]
  },
  {
   "cell_type": "code",
   "execution_count": 92,
   "metadata": {},
   "outputs": [
    {
     "name": "stdout",
     "output_type": "stream",
     "text": [
      "\n",
      "(base) c:\\openpose>ECHO OFF \n",
      "input file C:/Users/llonini/Box/CISPD_Videos_proc/NU/1052Fluctuator/Edited/Cycle2_Wlkg.mp4\n",
      "output pose folder output/1052 \n",
      "output videopose folder outputvideo/1052/Cycle2_Wlkg.avi\n",
      "Starting OpenPose demo...\n",
      "Configuring OpenPose...\n",
      "Starting thread(s)...\n",
      "Auto-detecting all available GPUs... Detected 1 GPU(s), using 1 of them starting at GPU 0.\n",
      "OpenPose demo successfully finished. Total time: 39.515168 seconds.\n"
     ]
    }
   ],
   "source": [
    "!savepose.bat {x1} {x2} {x3}"
   ]
  },
  {
   "cell_type": "markdown",
   "metadata": {},
   "source": [
    "## Process batch"
   ]
  },
  {
   "cell_type": "code",
   "execution_count": 4,
   "metadata": {},
   "outputs": [],
   "source": [
    "input_p = Path(\"C:/Users/llonini/Box/CISPD_Videos_proc/Edited\")\n",
    "subjs = os.listdir(input_p)\n",
    "# subjs"
   ]
  },
  {
   "cell_type": "code",
   "execution_count": null,
   "metadata": {},
   "outputs": [],
   "source": [
    "processed = os.listdir(Path('C:\\openpose\\output'))\n",
    "to_process = list(set(subjs)-set(processed))\n",
    "to_process"
   ]
  },
  {
   "cell_type": "code",
   "execution_count": 123,
   "metadata": {},
   "outputs": [],
   "source": [
    "# os.mkdir(outposefile)"
   ]
  },
  {
   "cell_type": "code",
   "execution_count": 12,
   "metadata": {},
   "outputs": [
    {
     "data": {
      "text/plain": [
       "['1054']"
      ]
     },
     "execution_count": 12,
     "metadata": {},
     "output_type": "execute_result"
    }
   ],
   "source": [
    "input_p = Path(\"C:/Users/llonini/Box/CISPD_Videos_proc/ToProcess\")\n",
    "subjs = os.listdir(input_p)\n",
    "subjs"
   ]
  },
  {
   "cell_type": "code",
   "execution_count": 13,
   "metadata": {
    "scrolled": true
   },
   "outputs": [
    {
     "name": "stdout",
     "output_type": "stream",
     "text": [
      "C:\\Users\\llonini\\Box\\CISPD_Videos_proc\\ToProcess\\1054\\FtnL_2.mp4\n",
      "C:\\Users\\llonini\\Box\\CISPD_Videos_proc\\ToProcess\\1054\\FtnL_2.mp4\n",
      "output/1054\n",
      "outputvideo/1054/FtnL_2.avi\n",
      "\n",
      "(base) c:\\openpose>ECHO OFF \n",
      "input file C:\\Users\\llonini\\Box\\CISPD_Videos_proc\\ToProcess\\1054\\FtnL_2.mp4\n",
      "output pose folder output/1054 \n",
      "output videopose folder outputvideo/1054/FtnL_2.avi\n",
      "Starting OpenPose demo...\n",
      "Configuring OpenPose...\n",
      "Starting thread(s)...\n",
      "Auto-detecting all available GPUs... Detected 1 GPU(s), using 1 of them starting at GPU 0.\n",
      "Empty frame detected, frame number 532 of 535. In D:\\Users\\gines\\Desktop\\openpose\\openpose-1.5.1\\openpose-1.5.1\\openpose\\src\\openpose\\producer\\producer.cpp:op::Producer::checkFrameIntegrity():285\n",
      "Empty frame detected, frame number 532 of 535. In D:\\Users\\gines\\Desktop\\openpose\\openpose-1.5.1\\openpose-1.5.1\\openpose\\src\\openpose\\producer\\producer.cpp:op::Producer::checkFrameIntegrity():285\n",
      "Empty frame detected, frame number 532 of 535. In D:\\Users\\gines\\Desktop\\openpose\\openpose-1.5.1\\openpose-1.5.1\\openpose\\src\\openpose\\producer\\producer.cpp:op::Producer::checkFrameIntegrity():285\n",
      "OpenPose demo successfully finished. Total time: 73.077691 seconds.\n",
      "C:\\Users\\llonini\\Box\\CISPD_Videos_proc\\ToProcess\\1054\\FtnL_3.mp4\n",
      "C:\\Users\\llonini\\Box\\CISPD_Videos_proc\\ToProcess\\1054\\FtnL_3.mp4\n",
      "output/1054\n",
      "outputvideo/1054/FtnL_3.avi\n",
      "\n",
      "(base) c:\\openpose>ECHO OFF \n",
      "input file C:\\Users\\llonini\\Box\\CISPD_Videos_proc\\ToProcess\\1054\\FtnL_3.mp4\n",
      "output pose folder output/1054 \n",
      "output videopose folder outputvideo/1054/FtnL_3.avi\n",
      "Starting OpenPose demo...\n",
      "Configuring OpenPose...\n",
      "Starting thread(s)...\n",
      "Auto-detecting all available GPUs... Detected 1 GPU(s), using 1 of them starting at GPU 0.\n",
      "Empty frame detected, frame number 571 of 574. In D:\\Users\\gines\\Desktop\\openpose\\openpose-1.5.1\\openpose-1.5.1\\openpose\\src\\openpose\\producer\\producer.cpp:op::Producer::checkFrameIntegrity():285\n",
      "Empty frame detected, frame number 571 of 574. In D:\\Users\\gines\\Desktop\\openpose\\openpose-1.5.1\\openpose-1.5.1\\openpose\\src\\openpose\\producer\\producer.cpp:op::Producer::checkFrameIntegrity():285\n",
      "Empty frame detected, frame number 571 of 574. In D:\\Users\\gines\\Desktop\\openpose\\openpose-1.5.1\\openpose-1.5.1\\openpose\\src\\openpose\\producer\\producer.cpp:op::Producer::checkFrameIntegrity():285\n",
      "OpenPose demo successfully finished. Total time: 96.484176 seconds.\n",
      "C:\\Users\\llonini\\Box\\CISPD_Videos_proc\\ToProcess\\1054\\FtnR_2.mp4\n",
      "C:\\Users\\llonini\\Box\\CISPD_Videos_proc\\ToProcess\\1054\\FtnR_2.mp4\n",
      "output/1054\n",
      "outputvideo/1054/FtnR_2.avi\n",
      "\n",
      "(base) c:\\openpose>ECHO OFF \n",
      "input file C:\\Users\\llonini\\Box\\CISPD_Videos_proc\\ToProcess\\1054\\FtnR_2.mp4\n",
      "output pose folder output/1054 \n",
      "output videopose folder outputvideo/1054/FtnR_2.avi\n",
      "Starting OpenPose demo...\n",
      "Configuring OpenPose...\n",
      "Starting thread(s)...\n",
      "Auto-detecting all available GPUs... Detected 1 GPU(s), using 1 of them starting at GPU 0.\n",
      "Empty frame detected, frame number 547 of 550. In D:\\Users\\gines\\Desktop\\openpose\\openpose-1.5.1\\openpose-1.5.1\\openpose\\src\\openpose\\producer\\producer.cpp:op::Producer::checkFrameIntegrity():285\n",
      "Empty frame detected, frame number 547 of 550. In D:\\Users\\gines\\Desktop\\openpose\\openpose-1.5.1\\openpose-1.5.1\\openpose\\src\\openpose\\producer\\producer.cpp:op::Producer::checkFrameIntegrity():285\n",
      "Empty frame detected, frame number 547 of 550. In D:\\Users\\gines\\Desktop\\openpose\\openpose-1.5.1\\openpose-1.5.1\\openpose\\src\\openpose\\producer\\producer.cpp:op::Producer::checkFrameIntegrity():285\n",
      "OpenPose demo successfully finished. Total time: 90.627417 seconds.\n",
      "C:\\Users\\llonini\\Box\\CISPD_Videos_proc\\ToProcess\\1054\\FtnR_3.mp4\n",
      "C:\\Users\\llonini\\Box\\CISPD_Videos_proc\\ToProcess\\1054\\FtnR_3.mp4\n",
      "output/1054\n",
      "outputvideo/1054/FtnR_3.avi\n",
      "\n",
      "(base) c:\\openpose>ECHO OFF \n",
      "input file C:\\Users\\llonini\\Box\\CISPD_Videos_proc\\ToProcess\\1054\\FtnR_3.mp4\n",
      "output pose folder output/1054 \n",
      "output videopose folder outputvideo/1054/FtnR_3.avi\n",
      "Starting OpenPose demo...\n",
      "Configuring OpenPose...\n",
      "Starting thread(s)...\n",
      "Auto-detecting all available GPUs... Detected 1 GPU(s), using 1 of them starting at GPU 0.\n",
      "Empty frame detected, frame number 559 of 562. In D:\\Users\\gines\\Desktop\\openpose\\openpose-1.5.1\\openpose-1.5.1\\openpose\\src\\openpose\\producer\\producer.cpp:op::Producer::checkFrameIntegrity():285\n",
      "Empty frame detected, frame number 559 of 562. In D:\\Users\\gines\\Desktop\\openpose\\openpose-1.5.1\\openpose-1.5.1\\openpose\\src\\openpose\\producer\\producer.cpp:op::Producer::checkFrameIntegrity():285\n",
      "Empty frame detected, frame number 559 of 562. In D:\\Users\\gines\\Desktop\\openpose\\openpose-1.5.1\\openpose-1.5.1\\openpose\\src\\openpose\\producer\\producer.cpp:op::Producer::checkFrameIntegrity():285\n",
      "OpenPose demo successfully finished. Total time: 93.422553 seconds.\n",
      "C:\\Users\\llonini\\Box\\CISPD_Videos_proc\\ToProcess\\1054\\RamL_2.mp4\n",
      "C:\\Users\\llonini\\Box\\CISPD_Videos_proc\\ToProcess\\1054\\RamL_2.mp4\n",
      "output/1054\n",
      "outputvideo/1054/RamL_2.avi\n",
      "\n",
      "(base) c:\\openpose>ECHO OFF \n",
      "input file C:\\Users\\llonini\\Box\\CISPD_Videos_proc\\ToProcess\\1054\\RamL_2.mp4\n",
      "output pose folder output/1054 \n",
      "output videopose folder outputvideo/1054/RamL_2.avi\n",
      "Starting OpenPose demo...\n",
      "Configuring OpenPose...\n",
      "Starting thread(s)...\n",
      "Auto-detecting all available GPUs... Detected 1 GPU(s), using 1 of them starting at GPU 0.\n",
      "Empty frame detected, frame number 574 of 577. In D:\\Users\\gines\\Desktop\\openpose\\openpose-1.5.1\\openpose-1.5.1\\openpose\\src\\openpose\\producer\\producer.cpp:op::Producer::checkFrameIntegrity():285\n",
      "Empty frame detected, frame number 574 of 577. In D:\\Users\\gines\\Desktop\\openpose\\openpose-1.5.1\\openpose-1.5.1\\openpose\\src\\openpose\\producer\\producer.cpp:op::Producer::checkFrameIntegrity():285\n",
      "Empty frame detected, frame number 574 of 577. In D:\\Users\\gines\\Desktop\\openpose\\openpose-1.5.1\\openpose-1.5.1\\openpose\\src\\openpose\\producer\\producer.cpp:op::Producer::checkFrameIntegrity():285\n",
      "OpenPose demo successfully finished. Total time: 94.298764 seconds.\n",
      "C:\\Users\\llonini\\Box\\CISPD_Videos_proc\\ToProcess\\1054\\RamL_3.mp4\n",
      "C:\\Users\\llonini\\Box\\CISPD_Videos_proc\\ToProcess\\1054\\RamL_3.mp4\n",
      "output/1054\n",
      "outputvideo/1054/RamL_3.avi\n",
      "\n",
      "(base) c:\\openpose>ECHO OFF \n",
      "input file C:\\Users\\llonini\\Box\\CISPD_Videos_proc\\ToProcess\\1054\\RamL_3.mp4\n",
      "output pose folder output/1054 \n",
      "output videopose folder outputvideo/1054/RamL_3.avi\n",
      "Starting OpenPose demo...\n",
      "Configuring OpenPose...\n",
      "Starting thread(s)...\n",
      "Auto-detecting all available GPUs... Detected 1 GPU(s), using 1 of them starting at GPU 0.\n",
      "Empty frame detected, frame number 646 of 649. In D:\\Users\\gines\\Desktop\\openpose\\openpose-1.5.1\\openpose-1.5.1\\openpose\\src\\openpose\\producer\\producer.cpp:op::Producer::checkFrameIntegrity():285\n",
      "Empty frame detected, frame number 646 of 649. In D:\\Users\\gines\\Desktop\\openpose\\openpose-1.5.1\\openpose-1.5.1\\openpose\\src\\openpose\\producer\\producer.cpp:op::Producer::checkFrameIntegrity():285\n",
      "Empty frame detected, frame number 646 of 649. In D:\\Users\\gines\\Desktop\\openpose\\openpose-1.5.1\\openpose-1.5.1\\openpose\\src\\openpose\\producer\\producer.cpp:op::Producer::checkFrameIntegrity():285\n",
      "OpenPose demo successfully finished. Total time: 110.005631 seconds.\n",
      "C:\\Users\\llonini\\Box\\CISPD_Videos_proc\\ToProcess\\1054\\RamR_2.mp4\n",
      "C:\\Users\\llonini\\Box\\CISPD_Videos_proc\\ToProcess\\1054\\RamR_2.mp4\n",
      "output/1054\n",
      "outputvideo/1054/RamR_2.avi\n",
      "\n",
      "(base) c:\\openpose>ECHO OFF \n",
      "input file C:\\Users\\llonini\\Box\\CISPD_Videos_proc\\ToProcess\\1054\\RamR_2.mp4\n",
      "output pose folder output/1054 \n",
      "output videopose folder outputvideo/1054/RamR_2.avi\n",
      "Starting OpenPose demo...\n",
      "Configuring OpenPose...\n",
      "Starting thread(s)...\n",
      "Auto-detecting all available GPUs... Detected 1 GPU(s), using 1 of them starting at GPU 0.\n",
      "Empty frame detected, frame number 601 of 604. In D:\\Users\\gines\\Desktop\\openpose\\openpose-1.5.1\\openpose-1.5.1\\openpose\\src\\openpose\\producer\\producer.cpp:op::Producer::checkFrameIntegrity():285\n",
      "Empty frame detected, frame number 601 of 604. In D:\\Users\\gines\\Desktop\\openpose\\openpose-1.5.1\\openpose-1.5.1\\openpose\\src\\openpose\\producer\\producer.cpp:op::Producer::checkFrameIntegrity():285\n",
      "Empty frame detected, frame number 601 of 604. In D:\\Users\\gines\\Desktop\\openpose\\openpose-1.5.1\\openpose-1.5.1\\openpose\\src\\openpose\\producer\\producer.cpp:op::Producer::checkFrameIntegrity():285\n",
      "OpenPose demo successfully finished. Total time: 104.263715 seconds.\n",
      "C:\\Users\\llonini\\Box\\CISPD_Videos_proc\\ToProcess\\1054\\RamR_3.mp4\n",
      "C:\\Users\\llonini\\Box\\CISPD_Videos_proc\\ToProcess\\1054\\RamR_3.mp4\n",
      "output/1054\n",
      "outputvideo/1054/RamR_3.avi\n"
     ]
    },
    {
     "name": "stdout",
     "output_type": "stream",
     "text": [
      "\n",
      "(base) c:\\openpose>ECHO OFF \n",
      "input file C:\\Users\\llonini\\Box\\CISPD_Videos_proc\\ToProcess\\1054\\RamR_3.mp4\n",
      "output pose folder output/1054 \n",
      "output videopose folder outputvideo/1054/RamR_3.avi\n",
      "Starting OpenPose demo...\n",
      "Configuring OpenPose...\n",
      "Starting thread(s)...\n",
      "Auto-detecting all available GPUs... Detected 1 GPU(s), using 1 of them starting at GPU 0.\n",
      "Empty frame detected, frame number 346 of 349. In D:\\Users\\gines\\Desktop\\openpose\\openpose-1.5.1\\openpose-1.5.1\\openpose\\src\\openpose\\producer\\producer.cpp:op::Producer::checkFrameIntegrity():285\n",
      "Empty frame detected, frame number 346 of 349. In D:\\Users\\gines\\Desktop\\openpose\\openpose-1.5.1\\openpose-1.5.1\\openpose\\src\\openpose\\producer\\producer.cpp:op::Producer::checkFrameIntegrity():285\n",
      "Empty frame detected, frame number 346 of 349. In D:\\Users\\gines\\Desktop\\openpose\\openpose-1.5.1\\openpose-1.5.1\\openpose\\src\\openpose\\producer\\producer.cpp:op::Producer::checkFrameIntegrity():285\n",
      "OpenPose demo successfully finished. Total time: 59.292741 seconds.\n"
     ]
    }
   ],
   "source": [
    "# input_p = Path(\"C:/Users/llonini/Box/CISPD_Videos_proc/Edited\")\n",
    "input_p = Path(\"C:/Users/llonini/Box/CISPD_Videos_proc/ToProcess\")\n",
    "\n",
    "subjs = os.listdir(input_p)\n",
    "# for s in to_process:\n",
    "for s in subjs:\n",
    "#     print(input_p/s, os.listdir(input_p/s)) #folder subject\n",
    "    subjfiles = os.listdir(input_p/s) #subject video files\n",
    "    for f in subjfiles:\n",
    "\n",
    "        print(input_p/s/f) #current file being processed        \n",
    "        outposefile = Path('output/'+s) \n",
    "        outvideofile = Path('outputvideo/'+s)        \n",
    "        #create subj folder if does not exist\n",
    "        if not os.path.exists(outposefile):\n",
    "            os.mkdir(outposefile)\n",
    "        if not os.path.exists(outvideofile):\n",
    "            os.mkdir(outvideofile)\n",
    "\n",
    "        x1 = input_p/s/f\n",
    "        x2 = outposefile.as_posix()\n",
    "        x3 = (outvideofile/(f[:-3]+'avi')).as_posix()\n",
    "        print(x1)\n",
    "        print(x2)\n",
    "        print(x3)\n",
    "        !savepose.bat {x1} {x2} {x3}\n",
    "\n"
   ]
  },
  {
   "cell_type": "code",
   "execution_count": null,
   "metadata": {},
   "outputs": [],
   "source": []
  },
  {
   "cell_type": "markdown",
   "metadata": {},
   "source": [
    "You cannot use !cd to navigate the filesystem from Jupyter notebook. The reason is that shell commands in the notebook are executed in a temporary subshell. If you'd like to change the working directory, you can use the %cd magic command\n",
    "https://stackoverflow.com/questions/53188176/fail-to-change-directory-shell-command-in-jupyternotebook-or-jupyterlab-sessi"
   ]
  },
  {
   "cell_type": "code",
   "execution_count": 85,
   "metadata": {},
   "outputs": [
    {
     "name": "stdout",
     "output_type": "stream",
     "text": [
      "C:\\openpose\n"
     ]
    }
   ],
   "source": [
    "op_path = Path('C:\\openpose')\n",
    "%cd C:\\openpose #need to use "
   ]
  }
 ],
 "metadata": {
  "kernelspec": {
   "display_name": "Python 3",
   "language": "python",
   "name": "python3"
  },
  "language_info": {
   "codemirror_mode": {
    "name": "ipython",
    "version": 3
   },
   "file_extension": ".py",
   "mimetype": "text/x-python",
   "name": "python",
   "nbconvert_exporter": "python",
   "pygments_lexer": "ipython3",
   "version": "3.7.4"
  }
 },
 "nbformat": 4,
 "nbformat_minor": 4
}
