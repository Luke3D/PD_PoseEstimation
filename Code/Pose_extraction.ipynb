{
 "cells": [
  {
   "cell_type": "markdown",
   "metadata": {},
   "source": [
    "## Run OpenPose Portable Demo on a set of Videos and save the output poses (json files)\n",
    "\n",
    "The notebook is currently meant to run under the folder where you installed openpose demo (eg c:/Openpose)"
   ]
  },
  {
   "cell_type": "code",
   "execution_count": 1,
   "metadata": {},
   "outputs": [],
   "source": [
    "import numpy as np\n",
    "import pandas as pd\n",
    "import os\n",
    "from pathlib import Path\n",
    "import subprocess"
   ]
  },
  {
   "cell_type": "code",
   "execution_count": 2,
   "metadata": {},
   "outputs": [
    {
     "name": "stdout",
     "output_type": "stream",
     "text": [
      "c:\\openpose\n"
     ]
    }
   ],
   "source": [
    "%cd c:/openpose/ #switch to the folder where OpenPose Demo is installed"
   ]
  },
  {
   "cell_type": "code",
   "execution_count": 3,
   "metadata": {},
   "outputs": [
    {
     "name": "stdout",
     "output_type": "stream",
     "text": [
      "c:\\openpose\n"
     ]
    }
   ],
   "source": [
    "!echo %cd%"
   ]
  },
  {
   "cell_type": "markdown",
   "metadata": {},
   "source": [
    "## Run on a single video - Manually specify input folder and file to process"
   ]
  },
  {
   "cell_type": "code",
   "execution_count": 19,
   "metadata": {},
   "outputs": [
    {
     "name": "stdout",
     "output_type": "stream",
     "text": [
      "C:\\Users\\llonini\\Box\\CISPD_Videos_proc\\Edited\\1016\\FtnL_1.mp4\n",
      "FtnL_1.mp4.avi\n"
     ]
    }
   ],
   "source": [
    "input_p = Path(\"C:/Users/llonini/Box/CISPD_Videos_proc/Edited/1016\") #input path of videos\n",
    "outposefile = Path('C:/Users/llonini/Box/CISPD_Videos_proc/OpenPose/output/1016/') #output path of json pose files\n",
    "outvideofile = Path('C:/Users/llonini/Box/CISPD_Videos_proc/OpenPose/outputvideo/1016/') #output path of video pose files\n",
    "if not os.path.exists(outposefile):\n",
    "    os.mkdir(outposefile)\n",
    "if not os.path.exists(outvideofile):\n",
    "    os.mkdir(outvideofile)\n",
    "files = os.listdir(input_p)\n",
    "\n",
    "f = files[0] #select a file to process in the input folder\n",
    "print(input_p/f)\n",
    "print(f + '.avi')"
   ]
  },
  {
   "cell_type": "code",
   "execution_count": 20,
   "metadata": {},
   "outputs": [
    {
     "data": {
      "text/plain": [
       "['FtnL_1.mp4',\n",
       " 'FtnL_3.mp4',\n",
       " 'FtnR_1.mp4',\n",
       " 'FtnR_3.mp4',\n",
       " 'RamL_1.mp4',\n",
       " 'RamL_3.mp4',\n",
       " 'RamR_1.mp4',\n",
       " 'RamR_3.mp4',\n",
       " 'SitStand_1.mp4',\n",
       " 'SitStand_3.mp4',\n",
       " 'Walking_1.mp4',\n",
       " 'Walking_3.mp4']"
      ]
     },
     "execution_count": 20,
     "metadata": {},
     "output_type": "execute_result"
    }
   ],
   "source": [
    "os.listdir(input_p) #print all files in input folder"
   ]
  },
  {
   "cell_type": "code",
   "execution_count": 21,
   "metadata": {},
   "outputs": [
    {
     "name": "stdout",
     "output_type": "stream",
     "text": [
      "C:/Users/llonini/Box/CISPD_Videos_proc/Edited/1016/FtnL_1.mp4\n",
      "C:/Users/llonini/Box/CISPD_Videos_proc/OpenPose/output/1016\n",
      "C:/Users/llonini/Box/CISPD_Videos_proc/OpenPose/outputvideo/1016/FtnL_1.avi\n"
     ]
    }
   ],
   "source": [
    "x1 = (input_p/f).as_posix()\n",
    "x2 = outposefile.as_posix()\n",
    "x3 = (outvideofile/(f[:-3]+'avi')).as_posix()\n",
    "print(x1)\n",
    "print(x2)\n",
    "print(x3)"
   ]
  },
  {
   "cell_type": "markdown",
   "metadata": {},
   "source": [
    "Run openpose and saves json pose files and videos "
   ]
  },
  {
   "cell_type": "code",
   "execution_count": 22,
   "metadata": {},
   "outputs": [
    {
     "name": "stdout",
     "output_type": "stream",
     "text": [
      "\n",
      "(base) c:\\openpose>ECHO OFF \n",
      "input file C:/Users/llonini/Box/CISPD_Videos_proc/Edited/1016/FtnL_1.mp4\n",
      "output pose folder C:/Users/llonini/Box/CISPD_Videos_proc/OpenPose/output/1016 \n",
      "output videopose folder C:/Users/llonini/Box/CISPD_Videos_proc/OpenPose/outputvideo/1016/FtnL_1.avi\n",
      "Starting OpenPose demo...\n",
      "Configuring OpenPose...\n",
      "Starting thread(s)...\n",
      "Auto-detecting all available GPUs... Detected 1 GPU(s), using 1 of them starting at GPU 0.\n",
      "Empty frame detected, frame number 565 of 568. In D:\\Users\\gines\\Desktop\\openpose\\openpose-1.5.1\\openpose-1.5.1\\openpose\\src\\openpose\\producer\\producer.cpp:op::Producer::checkFrameIntegrity():285\n",
      "Empty frame detected, frame number 565 of 568. In D:\\Users\\gines\\Desktop\\openpose\\openpose-1.5.1\\openpose-1.5.1\\openpose\\src\\openpose\\producer\\producer.cpp:op::Producer::checkFrameIntegrity():285\n",
      "Empty frame detected, frame number 565 of 568. In D:\\Users\\gines\\Desktop\\openpose\\openpose-1.5.1\\openpose-1.5.1\\openpose\\src\\openpose\\producer\\producer.cpp:op::Producer::checkFrameIntegrity():285\n",
      "OpenPose demo successfully finished. Total time: 91.475585 seconds.\n"
     ]
    }
   ],
   "source": [
    "!savepose.bat {x1} {x2} {x3}"
   ]
  },
  {
   "cell_type": "markdown",
   "metadata": {},
   "source": [
    "## Process multiple files\n",
    "\n",
    "Select below the input path with all patient videos to process"
   ]
  },
  {
   "cell_type": "code",
   "execution_count": null,
   "metadata": {},
   "outputs": [],
   "source": [
    "# processed = os.listdir(Path('C:\\openpose\\output'))\n",
    "# to_process = list(set(subjs)-set(processed))\n",
    "# to_process"
   ]
  },
  {
   "cell_type": "code",
   "execution_count": 29,
   "metadata": {
    "scrolled": true
   },
   "outputs": [
    {
     "name": "stdout",
     "output_type": "stream",
     "text": [
      "File processing C:\\Users\\llonini\\Box\\CISPD_Videos_proc\\ToProcess\\1054\\FtnL_2.mp4\n",
      "Output pose folder C:/Users/llonini/Box/CISPD_Videos_proc/OpenPose/output/1054\n",
      "Output video pose folder C:/Users/llonini/Box/CISPD_Videos_proc/OpenPose/outputvideo/1054/FtnL_2.avi\n",
      "\n",
      "File processing C:\\Users\\llonini\\Box\\CISPD_Videos_proc\\ToProcess\\1054\\FtnL_3.mp4\n",
      "Output pose folder C:/Users/llonini/Box/CISPD_Videos_proc/OpenPose/output/1054\n",
      "Output video pose folder C:/Users/llonini/Box/CISPD_Videos_proc/OpenPose/outputvideo/1054/FtnL_3.avi\n",
      "\n",
      "File processing C:\\Users\\llonini\\Box\\CISPD_Videos_proc\\ToProcess\\1054\\FtnR_2.mp4\n",
      "Output pose folder C:/Users/llonini/Box/CISPD_Videos_proc/OpenPose/output/1054\n",
      "Output video pose folder C:/Users/llonini/Box/CISPD_Videos_proc/OpenPose/outputvideo/1054/FtnR_2.avi\n",
      "\n",
      "File processing C:\\Users\\llonini\\Box\\CISPD_Videos_proc\\ToProcess\\1054\\FtnR_3.mp4\n",
      "Output pose folder C:/Users/llonini/Box/CISPD_Videos_proc/OpenPose/output/1054\n",
      "Output video pose folder C:/Users/llonini/Box/CISPD_Videos_proc/OpenPose/outputvideo/1054/FtnR_3.avi\n",
      "\n",
      "File processing C:\\Users\\llonini\\Box\\CISPD_Videos_proc\\ToProcess\\1054\\RamL_2.mp4\n",
      "Output pose folder C:/Users/llonini/Box/CISPD_Videos_proc/OpenPose/output/1054\n",
      "Output video pose folder C:/Users/llonini/Box/CISPD_Videos_proc/OpenPose/outputvideo/1054/RamL_2.avi\n",
      "\n",
      "File processing C:\\Users\\llonini\\Box\\CISPD_Videos_proc\\ToProcess\\1054\\RamL_3.mp4\n",
      "Output pose folder C:/Users/llonini/Box/CISPD_Videos_proc/OpenPose/output/1054\n",
      "Output video pose folder C:/Users/llonini/Box/CISPD_Videos_proc/OpenPose/outputvideo/1054/RamL_3.avi\n",
      "\n",
      "File processing C:\\Users\\llonini\\Box\\CISPD_Videos_proc\\ToProcess\\1054\\RamR_2.mp4\n",
      "Output pose folder C:/Users/llonini/Box/CISPD_Videos_proc/OpenPose/output/1054\n",
      "Output video pose folder C:/Users/llonini/Box/CISPD_Videos_proc/OpenPose/outputvideo/1054/RamR_2.avi\n",
      "\n",
      "File processing C:\\Users\\llonini\\Box\\CISPD_Videos_proc\\ToProcess\\1054\\RamR_3.mp4\n",
      "Output pose folder C:/Users/llonini/Box/CISPD_Videos_proc/OpenPose/output/1054\n",
      "Output video pose folder C:/Users/llonini/Box/CISPD_Videos_proc/OpenPose/outputvideo/1054/RamR_3.avi\n",
      "\n"
     ]
    }
   ],
   "source": [
    "\n",
    "input_p = Path(\"C:/Users/llonini/Box/CISPD_Videos_proc/ToProcess\") #input path with all patient video folders\n",
    "output_p = Path(\"C:/Users/llonini/Box/CISPD_Videos_proc/OpenPose/output\") #main output path of pose json files\n",
    "outputvideo_p = Path(\"C:/Users/llonini/Box/CISPD_Videos_proc/OpenPose/outputvideo\") #main output path of pose video files\n",
    "\n",
    "subjs = os.listdir(input_p)\n",
    "for s in subjs:\n",
    "    subjfiles = os.listdir(input_p/s) #subject video files\n",
    "    for f in subjfiles:\n",
    "\n",
    "        outposefile = Path(output_p/s) \n",
    "        outvideofile = Path(outputvideo_p/s)        \n",
    "        #create subj folder if does not exist\n",
    "        if not os.path.exists(outposefile):\n",
    "            os.mkdir(outposefile)\n",
    "        if not os.path.exists(outvideofile):\n",
    "            os.mkdir(outvideofile)\n",
    "\n",
    "        x1 = input_p/s/f\n",
    "        x2 = outposefile.as_posix()\n",
    "        x3 = (outvideofile/(f[:-3]+'avi')).as_posix()\n",
    "        print(f'File processing {x1}')\n",
    "        print(f'Output pose folder {x2}')\n",
    "        print(f'Output video pose folder {x3}\\n')\n",
    "        #!savepose.bat {x1} {x2} {x3}\n",
    "\n"
   ]
  },
  {
   "cell_type": "code",
   "execution_count": null,
   "metadata": {},
   "outputs": [],
   "source": []
  },
  {
   "cell_type": "markdown",
   "metadata": {},
   "source": [
    "You cannot use !cd to navigate the filesystem from Jupyter notebook. The reason is that shell commands in the notebook are executed in a temporary subshell. If you'd like to change the working directory, you can use the %cd magic command\n",
    "https://stackoverflow.com/questions/53188176/fail-to-change-directory-shell-command-in-jupyternotebook-or-jupyterlab-sessi"
   ]
  },
  {
   "cell_type": "code",
   "execution_count": 85,
   "metadata": {},
   "outputs": [
    {
     "name": "stdout",
     "output_type": "stream",
     "text": [
      "C:\\openpose\n"
     ]
    }
   ],
   "source": [
    "op_path = Path('C:\\openpose')\n",
    "%cd C:\\openpose #need to use "
   ]
  }
 ],
 "metadata": {
  "kernelspec": {
   "display_name": "Python 3",
   "language": "python",
   "name": "python3"
  },
  "language_info": {
   "codemirror_mode": {
    "name": "ipython",
    "version": 3
   },
   "file_extension": ".py",
   "mimetype": "text/x-python",
   "name": "python",
   "nbconvert_exporter": "python",
   "pygments_lexer": "ipython3",
   "version": "3.8.5"
  }
 },
 "nbformat": 4,
 "nbformat_minor": 4
}
