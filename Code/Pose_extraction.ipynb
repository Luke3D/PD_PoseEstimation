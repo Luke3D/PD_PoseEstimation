{
 "cells": [
  {
   "cell_type": "code",
   "execution_count": 1,
   "metadata": {},
   "outputs": [],
   "source": [
    "import numpy as np\n",
    "import pandas as pd\n",
    "import os\n",
    "from pathlib import Path\n",
    "import subprocess"
   ]
  },
  {
   "cell_type": "code",
   "execution_count": 2,
   "metadata": {},
   "outputs": [
    {
     "name": "stdout",
     "output_type": "stream",
     "text": [
      "c:\\openpose\n"
     ]
    }
   ],
   "source": [
    "%cd c:/openpose/"
   ]
  },
  {
   "cell_type": "code",
   "execution_count": 3,
   "metadata": {},
   "outputs": [
    {
     "name": "stdout",
     "output_type": "stream",
     "text": [
      "c:\\openpose\n"
     ]
    }
   ],
   "source": [
    "!echo %cd%"
   ]
  },
  {
   "cell_type": "markdown",
   "metadata": {},
   "source": [
    "## Manually specify input folder and file to process"
   ]
  },
  {
   "cell_type": "code",
   "execution_count": 90,
   "metadata": {},
   "outputs": [
    {
     "name": "stdout",
     "output_type": "stream",
     "text": [
      "C:\\Users\\llonini\\Box\\CISPD_Videos_proc\\NU\\1052Fluctuator\\Edited\\Cycle2_Wlkg.mp4\n",
      "Cycle2_Wlkg.mp4.avi\n"
     ]
    }
   ],
   "source": [
    "input_p = Path(\"C:/Users/llonini/Box/CISPD_Videos_proc/NU/1052Fluctuator/Edited/\")\n",
    "outposefile = Path('output/1052/') \n",
    "outvideofile = Path('outputvideo/1052/')\n",
    "files = os.listdir(input_p)\n",
    "f = files[-1]\n",
    "print(input_p/f)\n",
    "print(f + '.avi')"
   ]
  },
  {
   "cell_type": "code",
   "execution_count": 19,
   "metadata": {},
   "outputs": [
    {
     "data": {
      "text/plain": [
       "['Cycle2_FtnL.mp4',\n",
       " 'Cycle2_FtnR.mp4',\n",
       " 'Cycle2_RamL.mp4',\n",
       " 'Cycle2_RamR.mp4',\n",
       " 'Cycle2_Sitng.mp4',\n",
       " 'Cycle2_SitStand.mp4',\n",
       " 'Cycle2_Stndg.mp4']"
      ]
     },
     "execution_count": 19,
     "metadata": {},
     "output_type": "execute_result"
    }
   ],
   "source": [
    "os.listdir(input_p)"
   ]
  },
  {
   "cell_type": "code",
   "execution_count": 91,
   "metadata": {},
   "outputs": [
    {
     "name": "stdout",
     "output_type": "stream",
     "text": [
      "C:/Users/llonini/Box/CISPD_Videos_proc/NU/1052Fluctuator/Edited/Cycle2_Wlkg.mp4\n",
      "output/1052\n",
      "outputvideo/1052/Cycle2_Wlkg.avi\n"
     ]
    }
   ],
   "source": [
    "x1 = (input_p/f).as_posix()\n",
    "x2 = outposefile.as_posix()\n",
    "x3 = (outvideofile/(f[:-3]+'avi')).as_posix()\n",
    "print(x1)\n",
    "print(x2)\n",
    "print(x3)"
   ]
  },
  {
   "cell_type": "markdown",
   "metadata": {},
   "source": [
    "Run openpose"
   ]
  },
  {
   "cell_type": "code",
   "execution_count": 92,
   "metadata": {},
   "outputs": [
    {
     "name": "stdout",
     "output_type": "stream",
     "text": [
      "\n",
      "(base) c:\\openpose>ECHO OFF \n",
      "input file C:/Users/llonini/Box/CISPD_Videos_proc/NU/1052Fluctuator/Edited/Cycle2_Wlkg.mp4\n",
      "output pose folder output/1052 \n",
      "output videopose folder outputvideo/1052/Cycle2_Wlkg.avi\n",
      "Starting OpenPose demo...\n",
      "Configuring OpenPose...\n",
      "Starting thread(s)...\n",
      "Auto-detecting all available GPUs... Detected 1 GPU(s), using 1 of them starting at GPU 0.\n",
      "OpenPose demo successfully finished. Total time: 39.515168 seconds.\n"
     ]
    }
   ],
   "source": [
    "!savepose.bat {x1} {x2} {x3}"
   ]
  },
  {
   "cell_type": "markdown",
   "metadata": {},
   "source": [
    "## Process batch"
   ]
  },
  {
   "cell_type": "code",
   "execution_count": 8,
   "metadata": {},
   "outputs": [],
   "source": [
    "input_p = Path(\"C:/Users/llonini/Box/CISPD_Videos_proc/Edited\")\n",
    "subjs = os.listdir(input_p)\n",
    "# subjs"
   ]
  },
  {
   "cell_type": "code",
   "execution_count": 10,
   "metadata": {},
   "outputs": [
    {
     "data": {
      "text/plain": [
       "['1044', '1056', '1023']"
      ]
     },
     "execution_count": 10,
     "metadata": {},
     "output_type": "execute_result"
    }
   ],
   "source": [
    "processed = os.listdir(Path('C:\\openpose\\output'))\n",
    "to_process = list(set(subjs)-set(processed))\n",
    "to_process"
   ]
  },
  {
   "cell_type": "code",
   "execution_count": 123,
   "metadata": {},
   "outputs": [],
   "source": [
    "# os.mkdir(outposefile)"
   ]
  },
  {
   "cell_type": "code",
   "execution_count": 6,
   "metadata": {},
   "outputs": [
    {
     "data": {
      "text/plain": [
       "['1004',\n",
       " '1005',\n",
       " '1007',\n",
       " '1023',\n",
       " '1038',\n",
       " '1039',\n",
       " '1043',\n",
       " '1047',\n",
       " '1049',\n",
       " '1050',\n",
       " '1054',\n",
       " '1055',\n",
       " '1056']"
      ]
     },
     "execution_count": 6,
     "metadata": {},
     "output_type": "execute_result"
    }
   ],
   "source": [
    "input_p = Path(\"C:/Users/llonini/Box/CISPD_Videos_proc/ToProcess\")\n",
    "subjs = os.listdir(input_p)\n",
    "subjs"
   ]
  },
  {
   "cell_type": "code",
   "execution_count": 7,
   "metadata": {},
   "outputs": [
    {
     "name": "stdout",
     "output_type": "stream",
     "text": [
      "C:\\Users\\llonini\\Box\\CISPD_Videos_proc\\ToProcess\\1004\\Drnkg_3.mp4\n",
      "C:\\Users\\llonini\\Box\\CISPD_Videos_proc\\ToProcess\\1004\\Drnkg_3.mp4\n",
      "output/1004\n",
      "outputvideo/1004/Drnkg_3.avi\n",
      "\n",
      "(base) c:\\openpose>ECHO OFF \n",
      "input file C:\\Users\\llonini\\Box\\CISPD_Videos_proc\\ToProcess\\1004\\Drnkg_3.mp4\n",
      "output pose folder output/1004 \n",
      "output videopose folder outputvideo/1004/Drnkg_3.avi\n",
      "Starting OpenPose demo...\n",
      "Configuring OpenPose...\n",
      "Starting thread(s)...\n",
      "Auto-detecting all available GPUs... Detected 1 GPU(s), using 1 of them starting at GPU 0.\n",
      "OpenPose demo successfully finished. Total time: 45.612450 seconds.\n",
      "C:\\Users\\llonini\\Box\\CISPD_Videos_proc\\ToProcess\\1005\\Sitng_2.mp4\n",
      "C:\\Users\\llonini\\Box\\CISPD_Videos_proc\\ToProcess\\1005\\Sitng_2.mp4\n",
      "output/1005\n",
      "outputvideo/1005/Sitng_2.avi\n",
      "\n",
      "(base) c:\\openpose>ECHO OFF \n",
      "input file C:\\Users\\llonini\\Box\\CISPD_Videos_proc\\ToProcess\\1005\\Sitng_2.mp4\n",
      "output pose folder output/1005 \n",
      "output videopose folder outputvideo/1005/Sitng_2.avi\n",
      "Starting OpenPose demo...\n",
      "Configuring OpenPose...\n",
      "Starting thread(s)...\n",
      "Auto-detecting all available GPUs... Detected 1 GPU(s), using 1 of them starting at GPU 0.\n",
      "Empty frame detected, frame number 505 of 508. In D:\\Users\\gines\\Desktop\\openpose\\openpose-1.5.1\\openpose-1.5.1\\openpose\\src\\openpose\\producer\\producer.cpp:op::Producer::checkFrameIntegrity():285\n",
      "Empty frame detected, frame number 505 of 508. In D:\\Users\\gines\\Desktop\\openpose\\openpose-1.5.1\\openpose-1.5.1\\openpose\\src\\openpose\\producer\\producer.cpp:op::Producer::checkFrameIntegrity():285\n",
      "Empty frame detected, frame number 505 of 508. In D:\\Users\\gines\\Desktop\\openpose\\openpose-1.5.1\\openpose-1.5.1\\openpose\\src\\openpose\\producer\\producer.cpp:op::Producer::checkFrameIntegrity():285\n",
      "OpenPose demo successfully finished. Total time: 83.847984 seconds.\n",
      "C:\\Users\\llonini\\Box\\CISPD_Videos_proc\\ToProcess\\1007\\Sitng_2.mp4\n",
      "C:\\Users\\llonini\\Box\\CISPD_Videos_proc\\ToProcess\\1007\\Sitng_2.mp4\n",
      "output/1007\n",
      "outputvideo/1007/Sitng_2.avi\n",
      "\n",
      "(base) c:\\openpose>ECHO OFF \n",
      "input file C:\\Users\\llonini\\Box\\CISPD_Videos_proc\\ToProcess\\1007\\Sitng_2.mp4\n",
      "output pose folder output/1007 \n",
      "output videopose folder outputvideo/1007/Sitng_2.avi\n",
      "Starting OpenPose demo...\n",
      "Configuring OpenPose...\n",
      "Starting thread(s)...\n",
      "Auto-detecting all available GPUs... Detected 1 GPU(s), using 1 of them starting at GPU 0.\n",
      "Empty frame detected, frame number 805 of 808. In D:\\Users\\gines\\Desktop\\openpose\\openpose-1.5.1\\openpose-1.5.1\\openpose\\src\\openpose\\producer\\producer.cpp:op::Producer::checkFrameIntegrity():285\n",
      "Empty frame detected, frame number 805 of 808. In D:\\Users\\gines\\Desktop\\openpose\\openpose-1.5.1\\openpose-1.5.1\\openpose\\src\\openpose\\producer\\producer.cpp:op::Producer::checkFrameIntegrity():285\n",
      "Empty frame detected, frame number 805 of 808. In D:\\Users\\gines\\Desktop\\openpose\\openpose-1.5.1\\openpose-1.5.1\\openpose\\src\\openpose\\producer\\producer.cpp:op::Producer::checkFrameIntegrity():285\n",
      "OpenPose demo successfully finished. Total time: 131.876688 seconds.\n",
      "C:\\Users\\llonini\\Box\\CISPD_Videos_proc\\ToProcess\\1023\\Sitng_1.mp4\n",
      "C:\\Users\\llonini\\Box\\CISPD_Videos_proc\\ToProcess\\1023\\Sitng_1.mp4\n",
      "output/1023\n",
      "outputvideo/1023/Sitng_1.avi\n",
      "\n",
      "(base) c:\\openpose>ECHO OFF \n",
      "input file C:\\Users\\llonini\\Box\\CISPD_Videos_proc\\ToProcess\\1023\\Sitng_1.mp4\n",
      "output pose folder output/1023 \n",
      "output videopose folder outputvideo/1023/Sitng_1.avi\n",
      "Starting OpenPose demo...\n",
      "Configuring OpenPose...\n",
      "Starting thread(s)...\n",
      "Auto-detecting all available GPUs... Detected 1 GPU(s), using 1 of them starting at GPU 0.\n",
      "OpenPose demo successfully finished. Total time: 117.745436 seconds.\n",
      "C:\\Users\\llonini\\Box\\CISPD_Videos_proc\\ToProcess\\1038\\Sitng_3.mp4\n",
      "C:\\Users\\llonini\\Box\\CISPD_Videos_proc\\ToProcess\\1038\\Sitng_3.mp4\n",
      "output/1038\n",
      "outputvideo/1038/Sitng_3.avi\n",
      "\n",
      "(base) c:\\openpose>ECHO OFF \n",
      "input file C:\\Users\\llonini\\Box\\CISPD_Videos_proc\\ToProcess\\1038\\Sitng_3.mp4\n",
      "output pose folder output/1038 \n",
      "output videopose folder outputvideo/1038/Sitng_3.avi\n",
      "Starting OpenPose demo...\n",
      "Configuring OpenPose...\n",
      "Starting thread(s)...\n",
      "Auto-detecting all available GPUs... Detected 1 GPU(s), using 1 of them starting at GPU 0.\n",
      "Empty frame detected, frame number 310 of 313. In D:\\Users\\gines\\Desktop\\openpose\\openpose-1.5.1\\openpose-1.5.1\\openpose\\src\\openpose\\producer\\producer.cpp:op::Producer::checkFrameIntegrity():285\n",
      "Empty frame detected, frame number 310 of 313. In D:\\Users\\gines\\Desktop\\openpose\\openpose-1.5.1\\openpose-1.5.1\\openpose\\src\\openpose\\producer\\producer.cpp:op::Producer::checkFrameIntegrity():285\n",
      "Empty frame detected, frame number 310 of 313. In D:\\Users\\gines\\Desktop\\openpose\\openpose-1.5.1\\openpose-1.5.1\\openpose\\src\\openpose\\producer\\producer.cpp:op::Producer::checkFrameIntegrity():285\n",
      "OpenPose demo successfully finished. Total time: 54.415424 seconds.\n",
      "C:\\Users\\llonini\\Box\\CISPD_Videos_proc\\ToProcess\\1039\\Sitng_2.mp4\n",
      "C:\\Users\\llonini\\Box\\CISPD_Videos_proc\\ToProcess\\1039\\Sitng_2.mp4\n",
      "output/1039\n",
      "outputvideo/1039/Sitng_2.avi\n",
      "\n",
      "(base) c:\\openpose>ECHO OFF \n",
      "input file C:\\Users\\llonini\\Box\\CISPD_Videos_proc\\ToProcess\\1039\\Sitng_2.mp4\n",
      "output pose folder output/1039 \n",
      "output videopose folder outputvideo/1039/Sitng_2.avi\n",
      "Starting OpenPose demo...\n",
      "Configuring OpenPose...\n",
      "Starting thread(s)...\n",
      "Auto-detecting all available GPUs... Detected 1 GPU(s), using 1 of them starting at GPU 0.\n",
      "OpenPose demo successfully finished. Total time: 96.085767 seconds.\n",
      "C:\\Users\\llonini\\Box\\CISPD_Videos_proc\\ToProcess\\1043\\Sitng_3.mp4\n",
      "C:\\Users\\llonini\\Box\\CISPD_Videos_proc\\ToProcess\\1043\\Sitng_3.mp4\n",
      "output/1043\n",
      "outputvideo/1043/Sitng_3.avi\n",
      "\n",
      "(base) c:\\openpose>ECHO OFF \n",
      "input file C:\\Users\\llonini\\Box\\CISPD_Videos_proc\\ToProcess\\1043\\Sitng_3.mp4\n",
      "output pose folder output/1043 \n",
      "output videopose folder outputvideo/1043/Sitng_3.avi\n",
      "Starting OpenPose demo...\n",
      "Configuring OpenPose...\n",
      "Starting thread(s)...\n",
      "Auto-detecting all available GPUs... Detected 1 GPU(s), using 1 of them starting at GPU 0.\n",
      "Empty frame detected, frame number 705 of 706. In D:\\Users\\gines\\Desktop\\openpose\\openpose-1.5.1\\openpose-1.5.1\\openpose\\src\\openpose\\producer\\producer.cpp:op::Producer::checkFrameIntegrity():285\n",
      "Empty frame detected, frame number 705 of 706. In D:\\Users\\gines\\Desktop\\openpose\\openpose-1.5.1\\openpose-1.5.1\\openpose\\src\\openpose\\producer\\producer.cpp:op::Producer::checkFrameIntegrity():285\n",
      "Empty frame detected, frame number 705 of 706. In D:\\Users\\gines\\Desktop\\openpose\\openpose-1.5.1\\openpose-1.5.1\\openpose\\src\\openpose\\producer\\producer.cpp:op::Producer::checkFrameIntegrity():285\n",
      "OpenPose demo successfully finished. Total time: 115.907827 seconds.\n",
      "C:\\Users\\llonini\\Box\\CISPD_Videos_proc\\ToProcess\\1047\\Drnkg_1.mp4\n",
      "C:\\Users\\llonini\\Box\\CISPD_Videos_proc\\ToProcess\\1047\\Drnkg_1.mp4\n",
      "output/1047\n",
      "outputvideo/1047/Drnkg_1.avi\n",
      "\n",
      "(base) c:\\openpose>ECHO OFF \n",
      "input file C:\\Users\\llonini\\Box\\CISPD_Videos_proc\\ToProcess\\1047\\Drnkg_1.mp4\n",
      "output pose folder output/1047 \n",
      "output videopose folder outputvideo/1047/Drnkg_1.avi\n",
      "Starting OpenPose demo...\n",
      "Configuring OpenPose...\n",
      "Starting thread(s)...\n",
      "Auto-detecting all available GPUs... Detected 1 GPU(s), using 1 of them starting at GPU 0.\n",
      "OpenPose demo successfully finished. Total time: 53.807439 seconds.\n",
      "C:\\Users\\llonini\\Box\\CISPD_Videos_proc\\ToProcess\\1049\\Drnkg_1.mp4\n",
      "C:\\Users\\llonini\\Box\\CISPD_Videos_proc\\ToProcess\\1049\\Drnkg_1.mp4\n",
      "output/1049\n",
      "outputvideo/1049/Drnkg_1.avi\n",
      "\n",
      "(base) c:\\openpose>ECHO OFF \n",
      "input file C:\\Users\\llonini\\Box\\CISPD_Videos_proc\\ToProcess\\1049\\Drnkg_1.mp4\n",
      "output pose folder output/1049 \n",
      "output videopose folder outputvideo/1049/Drnkg_1.avi\n",
      "Starting OpenPose demo...\n",
      "Configuring OpenPose...\n",
      "Starting thread(s)...\n",
      "Auto-detecting all available GPUs... Detected 1 GPU(s), using 1 of them starting at GPU 0.\n",
      "OpenPose demo successfully finished. Total time: 82.490918 seconds.\n",
      "C:\\Users\\llonini\\Box\\CISPD_Videos_proc\\ToProcess\\1050\\Drnkg_2.mp4\n",
      "C:\\Users\\llonini\\Box\\CISPD_Videos_proc\\ToProcess\\1050\\Drnkg_2.mp4\n",
      "output/1050\n",
      "outputvideo/1050/Drnkg_2.avi\n",
      "\n",
      "(base) c:\\openpose>ECHO OFF \n",
      "input file C:\\Users\\llonini\\Box\\CISPD_Videos_proc\\ToProcess\\1050\\Drnkg_2.mp4\n",
      "output pose folder output/1050 \n",
      "output videopose folder outputvideo/1050/Drnkg_2.avi\n",
      "Starting OpenPose demo...\n",
      "Configuring OpenPose...\n",
      "Starting thread(s)...\n",
      "Auto-detecting all available GPUs... Detected 1 GPU(s), using 1 of them starting at GPU 0.\n",
      "OpenPose demo successfully finished. Total time: 49.662782 seconds.\n",
      "C:\\Users\\llonini\\Box\\CISPD_Videos_proc\\ToProcess\\1054\\Drkng_3.mp4\n",
      "C:\\Users\\llonini\\Box\\CISPD_Videos_proc\\ToProcess\\1054\\Drkng_3.mp4\n",
      "output/1054\n",
      "outputvideo/1054/Drkng_3.avi\n"
     ]
    },
    {
     "name": "stdout",
     "output_type": "stream",
     "text": [
      "\n",
      "(base) c:\\openpose>ECHO OFF \n",
      "input file C:\\Users\\llonini\\Box\\CISPD_Videos_proc\\ToProcess\\1054\\Drkng_3.mp4\n",
      "output pose folder output/1054 \n",
      "output videopose folder outputvideo/1054/Drkng_3.avi\n",
      "Starting OpenPose demo...\n",
      "Configuring OpenPose...\n",
      "Starting thread(s)...\n",
      "Auto-detecting all available GPUs... Detected 1 GPU(s), using 1 of them starting at GPU 0.\n",
      "OpenPose demo successfully finished. Total time: 48.806496 seconds.\n",
      "C:\\Users\\llonini\\Box\\CISPD_Videos_proc\\ToProcess\\1054\\Sitng_3.mp4\n",
      "C:\\Users\\llonini\\Box\\CISPD_Videos_proc\\ToProcess\\1054\\Sitng_3.mp4\n",
      "output/1054\n",
      "outputvideo/1054/Sitng_3.avi\n",
      "\n",
      "(base) c:\\openpose>ECHO OFF \n",
      "input file C:\\Users\\llonini\\Box\\CISPD_Videos_proc\\ToProcess\\1054\\Sitng_3.mp4\n",
      "output pose folder output/1054 \n",
      "output videopose folder outputvideo/1054/Sitng_3.avi\n",
      "Starting OpenPose demo...\n",
      "Configuring OpenPose...\n",
      "Starting thread(s)...\n",
      "Auto-detecting all available GPUs... Detected 1 GPU(s), using 1 of them starting at GPU 0.\n",
      "Empty frame detected, frame number 721 of 724. In D:\\Users\\gines\\Desktop\\openpose\\openpose-1.5.1\\openpose-1.5.1\\openpose\\src\\openpose\\producer\\producer.cpp:op::Producer::checkFrameIntegrity():285\n",
      "Empty frame detected, frame number 721 of 724. In D:\\Users\\gines\\Desktop\\openpose\\openpose-1.5.1\\openpose-1.5.1\\openpose\\src\\openpose\\producer\\producer.cpp:op::Producer::checkFrameIntegrity():285\n",
      "Empty frame detected, frame number 721 of 724. In D:\\Users\\gines\\Desktop\\openpose\\openpose-1.5.1\\openpose-1.5.1\\openpose\\src\\openpose\\producer\\producer.cpp:op::Producer::checkFrameIntegrity():285\n",
      "OpenPose demo successfully finished. Total time: 116.167203 seconds.\n",
      "C:\\Users\\llonini\\Box\\CISPD_Videos_proc\\ToProcess\\1055\\Drnkg_1.mp4\n",
      "C:\\Users\\llonini\\Box\\CISPD_Videos_proc\\ToProcess\\1055\\Drnkg_1.mp4\n",
      "output/1055\n",
      "outputvideo/1055/Drnkg_1.avi\n",
      "\n",
      "(base) c:\\openpose>ECHO OFF \n",
      "input file C:\\Users\\llonini\\Box\\CISPD_Videos_proc\\ToProcess\\1055\\Drnkg_1.mp4\n",
      "output pose folder output/1055 \n",
      "output videopose folder outputvideo/1055/Drnkg_1.avi\n",
      "Starting OpenPose demo...\n",
      "Configuring OpenPose...\n",
      "Starting thread(s)...\n",
      "Auto-detecting all available GPUs... Detected 1 GPU(s), using 1 of them starting at GPU 0.\n",
      "OpenPose demo successfully finished. Total time: 38.313420 seconds.\n",
      "C:\\Users\\llonini\\Box\\CISPD_Videos_proc\\ToProcess\\1055\\Drnkg_3.mp4\n",
      "C:\\Users\\llonini\\Box\\CISPD_Videos_proc\\ToProcess\\1055\\Drnkg_3.mp4\n",
      "output/1055\n",
      "outputvideo/1055/Drnkg_3.avi\n",
      "\n",
      "(base) c:\\openpose>ECHO OFF \n",
      "input file C:\\Users\\llonini\\Box\\CISPD_Videos_proc\\ToProcess\\1055\\Drnkg_3.mp4\n",
      "output pose folder output/1055 \n",
      "output videopose folder outputvideo/1055/Drnkg_3.avi\n",
      "Starting OpenPose demo...\n",
      "Configuring OpenPose...\n",
      "Starting thread(s)...\n",
      "Auto-detecting all available GPUs... Detected 1 GPU(s), using 1 of them starting at GPU 0.\n",
      "OpenPose demo successfully finished. Total time: 28.454785 seconds.\n",
      "C:\\Users\\llonini\\Box\\CISPD_Videos_proc\\ToProcess\\1056\\Drnkg_1.mp4\n",
      "C:\\Users\\llonini\\Box\\CISPD_Videos_proc\\ToProcess\\1056\\Drnkg_1.mp4\n",
      "output/1056\n",
      "outputvideo/1056/Drnkg_1.avi\n",
      "\n",
      "(base) c:\\openpose>ECHO OFF \n",
      "input file C:\\Users\\llonini\\Box\\CISPD_Videos_proc\\ToProcess\\1056\\Drnkg_1.mp4\n",
      "output pose folder output/1056 \n",
      "output videopose folder outputvideo/1056/Drnkg_1.avi\n",
      "Starting OpenPose demo...\n",
      "Configuring OpenPose...\n",
      "Starting thread(s)...\n",
      "Auto-detecting all available GPUs... Detected 1 GPU(s), using 1 of them starting at GPU 0.\n",
      "OpenPose demo successfully finished. Total time: 50.774090 seconds.\n"
     ]
    }
   ],
   "source": [
    "# input_p = Path(\"C:/Users/llonini/Box/CISPD_Videos_proc/Edited\")\n",
    "input_p = Path(\"C:/Users/llonini/Box/CISPD_Videos_proc/ToProcess\")\n",
    "\n",
    "subjs = os.listdir(input_p)\n",
    "# for s in to_process:\n",
    "for s in subjs:\n",
    "#     print(input_p/s, os.listdir(input_p/s)) #folder subject\n",
    "    subjfiles = os.listdir(input_p/s) #subject video files\n",
    "    for f in subjfiles:\n",
    "\n",
    "        print(input_p/s/f) #current file being processed        \n",
    "        outposefile = Path('output/'+s) \n",
    "        outvideofile = Path('outputvideo/'+s)        \n",
    "        #create subj folder if does not exist\n",
    "        if not os.path.exists(outposefile):\n",
    "            os.mkdir(outposefile)\n",
    "        if not os.path.exists(outvideofile):\n",
    "            os.mkdir(outvideofile)\n",
    "\n",
    "        x1 = input_p/s/f\n",
    "        x2 = outposefile.as_posix()\n",
    "        x3 = (outvideofile/(f[:-3]+'avi')).as_posix()\n",
    "        print(x1)\n",
    "        print(x2)\n",
    "        print(x3)\n",
    "        !savepose.bat {x1} {x2} {x3}\n",
    "\n"
   ]
  },
  {
   "cell_type": "code",
   "execution_count": null,
   "metadata": {},
   "outputs": [],
   "source": []
  },
  {
   "cell_type": "markdown",
   "metadata": {},
   "source": [
    "You cannot use !cd to navigate the filesystem from Jupyter notebook. The reason is that shell commands in the notebook are executed in a temporary subshell. If you'd like to change the working directory, you can use the %cd magic command\n",
    "https://stackoverflow.com/questions/53188176/fail-to-change-directory-shell-command-in-jupyternotebook-or-jupyterlab-sessi"
   ]
  },
  {
   "cell_type": "code",
   "execution_count": 85,
   "metadata": {},
   "outputs": [
    {
     "name": "stdout",
     "output_type": "stream",
     "text": [
      "C:\\openpose\n"
     ]
    }
   ],
   "source": [
    "op_path = Path('C:\\openpose')\n",
    "%cd C:\\openpose #need to use "
   ]
  }
 ],
 "metadata": {
  "kernelspec": {
   "display_name": "Python 3",
   "language": "python",
   "name": "python3"
  },
  "language_info": {
   "codemirror_mode": {
    "name": "ipython",
    "version": 3
   },
   "file_extension": ".py",
   "mimetype": "text/x-python",
   "name": "python",
   "nbconvert_exporter": "python",
   "pygments_lexer": "ipython3",
   "version": "3.7.4"
  }
 },
 "nbformat": 4,
 "nbformat_minor": 4
}
